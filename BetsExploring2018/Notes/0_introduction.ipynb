{
 "cells": [
  {
   "cell_type": "markdown",
   "metadata": {
    "collapsed": true
   },
   "source": [
    "# Big Data Project\n",
    "## Preliminary Deliverable and Oral Presentation - Project Planning\n"
   ]
  },
  {
   "cell_type": "markdown",
   "metadata": {},
   "source": [
    "## 1. Background\n",
    "\n",
    "When it comes to football bets, for every single game, we have different bets houses (with different mathematical models) that are generating three different quotas for the three different results of that game (win home, draw, win away).\n",
    "\n",
    "<img src=\"../Img/introduction.png\">\n",
    "\n",
    "As it can be seen in the picture above, for the same game (Inglaterra vs Panamá), the three bets houses are offering different quotas for the three possible results of the match.\n",
    "\n",
    "Most of the times, this quotas are pretty much the same (for example, the three of them are offering 1.22 for Inglaterra winning, and more or less 6 euros for a draw). But, there are a few times when the mathematical models have big discrepancies. For example, for Panamá winning, in this cases, bet365 is offering 4 euros more than the other two bets houses. \n",
    "\n",
    "So, in this case, for the model of bet365 a win for Panamá is much less probable than for the other two bets houses.\n",
    "\n",
    "The main idea behind this project is to study this big discrepancies between bets houses and try to use them (if it’s possible) to predict the final result of the match.\n"
   ]
  },
  {
   "cell_type": "markdown",
   "metadata": {},
   "source": [
    "## 2. Objective\n",
    "\n",
    "The general objective of this project is increase the benefits in the management of bets of our customer. This will be achieved through the following specific objectives:\n",
    "\n",
    "- Create a prediction model of results based on discrepancies between mathematical models of different betting houses for the same match, within the framework of a country and competition.\n",
    "\n",
    "\n",
    "- Design of a method to identify matches with greater divergence between forecasts and therefore with more possibility of benefit if the result is correct.\n",
    "\n",
    "\n",
    "- Determine the reliability of betting houses, evaluating the success rate by comparing their odds with the result of the matches.\n",
    "\n",
    "\n",
    "- Identify if there is specialization of betting houses in a country, competition or team. Evaluate their highest success rate with respect to the different variables.\n",
    "\n"
   ]
  },
  {
   "attachments": {},
   "cell_type": "markdown",
   "metadata": {},
   "source": [
    "## 3. Approach\n",
    "\n",
    "So, first of all, we need to get the data. Searching on internet we have found this page:\n",
    "http://www.football-data.co.uk/data.php. \n",
    "\n",
    "The data in this page it is being updated every single week with the results of the games from that week.\n",
    "\n",
    "The data structure is the following:\n",
    "\n",
    "<img src=\"../Img/leagues_seasons.gif\">\n",
    "\n",
    "We have a set of leagues divided between main leagues and extra leagues. The difference between main leagues and extra leagues is, basically, that main leagues have more bets houses than extra leagues. Within a league, we have all the different seasons (starting in all of leagues by 2003-2004 more or less). And, finally, within a season, we have all the results from that season distributed in different csv files (one for each competition).\n",
    "\n",
    "To get all this data, we have generated a python script that basically builds all the different urls of all the files and download all of them. Also, this script builds our own filesystem that has the following structure: Country > Competition > Season.\n",
    "\n",
    "<img src=\"../Img/download.gif\">\n",
    "\n",
    "We download all the information but, by now, we have decided to use only the one coming from the main leagues as we have more information about bets houses.\n",
    "\n",
    "The data from this page is very consistent, but, we have found some little problems. One of them is that not all the files in the main leagues has the same format. Some of them have more bet houses than others (depending on the country generally). Another of the problems is that not all the countries data are starting on the same season. \n",
    "So, basically, what we have done is to take a look in all the competitions and select a starting season from which we have information from all the competitions. Finally, to have the same amount of bet houses, we have created empty columns for the missing ones in all the competitions files.\n",
    "\n",
    "Finally, we have join all this information coming from main leagues into a single file (keeping only le columns with valuable information) and exploit this data a little bit to get some interesting information as which is the bet house with more hit ratio, which are the bet houses that usually offer bets above or below the average...\n"
   ]
  },
  {
   "cell_type": "markdown",
   "metadata": {},
   "source": [
    "## 4. Expected outcome\n",
    "\n",
    "The expected outcomes of this project are:\n",
    "\n",
    "- Variable or indicator that allows to assess the **success of a betting house** in his predictions. This indicator will use the values of the quotas compared with the result of the matches to determine the success of the betting house prediction.\n",
    "\n",
    "\n",
    "- Machine learning model that predicts the **result of a match**, within the framework of the country, competition and specific moment. It will indicate  the probability of success of the local or away team. \n",
    "\n",
    "\n",
    "- Method that identifies matchies with **greater divergence** between forecasts and therefore with more possibility of benefit if the result is correct.\n",
    "\n",
    "In the **production environment** data will be updated weekly, that is the update periodicity of the source data page. The update will be a batch process scheduled automatically. After updating the information  the process will be retrained and result files will be created.\n",
    "\n",
    "User will access result files and he will make his analysis using it.\n"
   ]
  },
  {
   "attachments": {},
   "cell_type": "markdown",
   "metadata": {},
   "source": [
    "## 5. Success Measures\n",
    "\n",
    "The result of these variables and methods will be compared with the actual results of the new test data.\n",
    "\n",
    "We have defined two sets of data. \n",
    "- Dataset for **training** the machine learning prediction model. It include the information **until 2017-18** season.\n",
    "\n",
    "\n",
    "- Dataset for **test** de result of the model. It include the information of the **2018-19** season\n",
    "\n",
    "<img src=\"../Img/calendari_anys.jpg\">\n",
    "\n",
    "If the goal of the test is predict if home team will gain the match, after calculate predictions with test dataset we could found the following **possible situations**:\n",
    "\n",
    "* **True Positive:** The prediction and the actual result are the same, home team has won the match.\n",
    "\n",
    "\n",
    "* **True Negative:** The prediction and the actual result are the same, home team has lost the match.\n",
    "\n",
    "\n",
    "* **False Positive:** The prediction and the actual result differ, the prediction is that the home team will win the match but the actual result is that it has lost\n",
    "\n",
    "\n",
    "* **False Negative:** The prediction and the actual result differ, the prediction is that the home team will lose the match but the actual result is that it has won\n",
    "\n",
    "<img src=\"../Img/results_schema.gif\">\n",
    "\n",
    "Our model will be any type of classification. We can test it with this **indicators**: \n",
    "\n",
    "- **Accuracy:** among all the sample, how many are correct \n",
    "$$ acc = \\frac{TP+TN}{TP+TN+FP+FN}$$\n",
    "\n",
    "\n",
    "- **Precision:** for those for which the model said as positive, how many of them are correct \n",
    "$$ prec = \\frac{TP}{TP+FP} $$\n",
    "\n",
    "\n",
    "- **Recall:** for those which are actually real, how many of them my model can label correctly \n",
    "$$ rec = \\frac{TP}{TP+FN} $$\n",
    "\n",
    "\n",
    "- **F1 measure:**\n",
    "$$ F = 2 \\cdot \\frac{prec \\cdot acc}{prec + acc} $$\n"
   ]
  },
  {
   "attachments": {
    "gant.gif": {
     "image/gif": "[encoded data removed]"
    }
   },
   "cell_type": "markdown",
   "metadata": {},
   "source": [
    "## 6. Activity & Timing\n",
    "\n",
    "The tasks for the development of this project will be:\n",
    "\n",
    "- Selection of the origin of the data and download and comprehension of information.\n",
    "\n",
    "    \n",
    "- Cleaning of files, logic organisation and data correction validation.\n",
    "\n",
    "    \n",
    "- Selection of final fields and file and consolidation of all data files in a single dataset.\n",
    "\n",
    "    \n",
    "- Preliminary analysis of data. Statistical description of information.\n",
    "\n",
    "    \n",
    "- Analysis of different machine learning models and creation of our model.\n",
    "\n",
    "    \n",
    "- Test of the model and presentation of results.\n",
    "\n",
    "\n",
    "![gant.gif](attachment:gant.gif)\n",
    "<img src=\"../Img/results_schema.gif\">\n",
    "\n"
   ]
  },
  {
   "cell_type": "markdown",
   "metadata": {},
   "source": [
    "## 7. Dependencies, Assumptions & Constraints\n",
    "\n",
    "### Dependencies:\n",
    "\n",
    "We don’t know yet how to generate a probabilistic model to help us in our objective.\n",
    "\n",
    "### Assumptions:\n",
    "\n",
    "We are assuming that the information we get from the page is correct.\n",
    "\n",
    "We are assuming that the page will always be updating the information with the games of each week.\n",
    "\n",
    "We are assuming that the new information uploaded to the page will keep the same structure.\n",
    "\n",
    "### Constraints:\n",
    "Webpage source of information must be active and it must continue providing information weekly.\n",
    "\n",
    "Structure of source information will not change and will be as accurate as nowadays.\n",
    "\n",
    "Hardware production infrastructure must be provided by the client and depends on other technical providers.\n",
    "\n"
   ]
  },
  {
   "cell_type": "code",
   "execution_count": null,
   "metadata": {
    "collapsed": true
   },
   "outputs": [],
   "source": []
  }
 ],
 "metadata": {
  "kernelspec": {
   "display_name": "Python 3",
   "language": "python",
   "name": "python3"
  },
  "language_info": {
   "codemirror_mode": {
    "name": "ipython",
    "version": 3
   },
   "file_extension": ".py",
   "mimetype": "text/x-python",
   "name": "python",
   "nbconvert_exporter": "python",
   "pygments_lexer": "ipython3",
   "version": "3.7.0"
  }
 },
 "nbformat": 4,
 "nbformat_minor": 2
}
