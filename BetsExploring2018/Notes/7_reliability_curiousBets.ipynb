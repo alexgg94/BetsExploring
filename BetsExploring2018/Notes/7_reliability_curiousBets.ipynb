{
 "cells": [
  {
   "cell_type": "code",
   "execution_count": 1,
   "metadata": {},
   "outputs": [],
   "source": [
    "import pyspark\n",
    "sc = pyspark.SparkContext('local[*]')"
   ]
  },
  {
   "cell_type": "code",
   "execution_count": 271,
   "metadata": {},
   "outputs": [
    {
     "name": "stdout",
     "output_type": "stream",
     "text": [
      "\n",
      "Bet houses -> [u'B365', u'BS', u'BW', u'GB', u'IW', u'LB', u'SJ', u'VC', u'WH']\n",
      "\n",
      "Bets by house -> [(u'D', [(u'B365', (u'2.75', u'3.3', u'2.5')), (u'BW', (u'2.6', u'3.3', u'2.55')), (u'IW', (u'2.6', u'3.2', u'2.5')), (u'LB', (u'2.7', u'3.4', u'2.5')), (u'VC', (u'2.75', u'3.6', u'2.45')), (u'WH', (u'2.6', u'3.3', u'2.5'))]), (u'H', [(u'B365', (u'1.7', u'3.5', u'5.25')), (u'BW', (u'1.65', u'3.8', u'4.75')), (u'IW', (u'1.7', u'3.5', u'4.4')), (u'LB', (u'1.7', u'3.8', u'4.75')), (u'VC', (u'1.73', u'3.9', u'4.6')), (u'WH', (u'1.73', u'3.6', u'4.33'))]), (u'A', [(u'B365', (u'1.67', u'3.75', u'5.0')), (u'BW', (u'1.65', u'3.6', u'5.0')), (u'IW', (u'1.75', u'3.4', u'4.3')), (u'LB', (u'1.67', u'3.8', u'4.75')), (u'VC', (u'1.7', u'4.1', u'4.6')), (u'WH', (u'1.75', u'3.75', u'4.0'))]), (u'A', [(u'B365', (u'3.6', u'3.75', u'1.91')), (u'BW', (u'3.6', u'3.6', u'1.91')), (u'IW', (u'3.7', u'3.3', u'1.9')), (u'LB', (u'3.6', u'3.75', u'1.91')), (u'VC', (u'3.7', u'3.9', u'1.91')), (u'WH', (u'3.75', u'3.75', u'1.91'))]), (u'A', [(u'B365', (u'3.2', u'3.4', u'2.2')), (u'BW', (u'3.2', u'3.4', u'2.1')), (u'IW', (u'2.9', u'3.3', u'2.2')), (u'LB', (u'3.1', u'3.4', u'2.25')), (u'VC', (u'3.1', u'3.5', u'2.25')), (u'WH', (u'3.0', u'3.3', u'2.2'))])]\n"
     ]
    }
   ],
   "source": [
    "def remove_duplicates(lst):\n",
    "    seen = set()\n",
    "    seen_add = seen.add\n",
    "    return [x for x in lst if not (x in seen or seen_add(x))]\n",
    "\n",
    "def group(lst):\n",
    "    grouped_bets = []\n",
    "    iteration = 0\n",
    "    for index in range(len(lst)/3):\n",
    "        if lst[iteration*3] != \"\":\n",
    "            grouped_bets.append((bet_houses[index], (lst[iteration*3], lst[iteration*3 + 1], lst[iteration*3 + 2])))\n",
    "        iteration += 1\n",
    "    return grouped_bets\n",
    "\n",
    "bets_csv_file = sc.textFile(\"/home/gg6/BetsExploring/Data/Interim/main_competitions.csv\")\n",
    "\n",
    "bet_houses = remove_duplicates(bets_csv_file.map(lambda line: line.split(\",\"))\\\n",
    "        .map(lambda line : map(lambda bet_house : bet_house[:-1], line[10:37])).take(1)[0])\n",
    "\n",
    "bets = bets_csv_file.map(lambda line: line.split(\",\"))\\\n",
    "        .filter(lambda line : line[0] != \"Country\").map(lambda line: (line[9], group(line[10:37])))\n",
    "    \n",
    "print(\"\\nBet houses -> \" + str(bet_houses))\n",
    "print(\"\\nBets by house -> \" + str(bets.take(5)))"
   ]
  },
  {
   "cell_type": "code",
   "execution_count": 285,
   "metadata": {},
   "outputs": [
    {
     "name": "stdout",
     "output_type": "stream",
     "text": [
      "Bets with mean -> [(u'D', (2.6666666666666665, 3.35, 2.5), [(u'B365', (u'2.75', u'3.3', u'2.5')), (u'BW', (u'2.6', u'3.3', u'2.55')), (u'IW', (u'2.6', u'3.2', u'2.5')), (u'LB', (u'2.7', u'3.4', u'2.5')), (u'VC', (u'2.75', u'3.6', u'2.45')), (u'WH', (u'2.6', u'3.3', u'2.5'))]), (u'H', (1.7016666666666669, 3.6833333333333336, 4.68), [(u'B365', (u'1.7', u'3.5', u'5.25')), (u'BW', (u'1.65', u'3.8', u'4.75')), (u'IW', (u'1.7', u'3.5', u'4.4')), (u'LB', (u'1.7', u'3.8', u'4.75')), (u'VC', (u'1.73', u'3.9', u'4.6')), (u'WH', (u'1.73', u'3.6', u'4.33'))]), (u'A', (1.6983333333333333, 3.733333333333333, 4.608333333333333), [(u'B365', (u'1.67', u'3.75', u'5.0')), (u'BW', (u'1.65', u'3.6', u'5.0')), (u'IW', (u'1.75', u'3.4', u'4.3')), (u'LB', (u'1.67', u'3.8', u'4.75')), (u'VC', (u'1.7', u'4.1', u'4.6')), (u'WH', (u'1.75', u'3.75', u'4.0'))]), (u'A', (3.658333333333333, 3.6749999999999994, 1.9083333333333332), [(u'B365', (u'3.6', u'3.75', u'1.91')), (u'BW', (u'3.6', u'3.6', u'1.91')), (u'IW', (u'3.7', u'3.3', u'1.9')), (u'LB', (u'3.6', u'3.75', u'1.91')), (u'VC', (u'3.7', u'3.9', u'1.91')), (u'WH', (u'3.75', u'3.75', u'1.91'))]), (u'A', (3.0833333333333335, 3.3833333333333333, 2.1999999999999997), [(u'B365', (u'3.2', u'3.4', u'2.2')), (u'BW', (u'3.2', u'3.4', u'2.1')), (u'IW', (u'2.9', u'3.3', u'2.2')), (u'LB', (u'3.1', u'3.4', u'2.25')), (u'VC', (u'3.1', u'3.5', u'2.25')), (u'WH', (u'3.0', u'3.3', u'2.2'))])]\n"
     ]
    }
   ],
   "source": [
    "def bets_mean(bets):\n",
    "    total_bets = len(bets)\n",
    "    \n",
    "    mean_home = 0.0\n",
    "    mean_draw = 0.0\n",
    "    mean_away = 0.0\n",
    "    \n",
    "    if(total_bets > 0):\n",
    "    \n",
    "        for bet in bets:\n",
    "            try:\n",
    "                mean_home += float(bet[1][0])\n",
    "                mean_draw += float(bet[1][1])\n",
    "                mean_away += float(bet[1][2])\n",
    "            except:\n",
    "                pass\n",
    "        mean_home = mean_home / total_bets\n",
    "        mean_draw = mean_draw / total_bets\n",
    "        mean_away = mean_away / total_bets\n",
    "    \n",
    "    return(mean_home, mean_draw, mean_away)\n",
    "    \n",
    "bets_with_mean = bets.map(lambda line : (line[0], bets_mean(line[1]), line[1]))\n",
    "\n",
    "print(\"Bets with mean -> \" + str(bets_with_mean.take(5)))\n",
    "    "
   ]
  },
  {
   "cell_type": "code",
   "execution_count": 283,
   "metadata": {},
   "outputs": [
    {
     "name": "stdout",
     "output_type": "stream",
     "text": [
      "Bets over mean -> [(u'D', ([], [], [])), (u'H', ([], [], [])), (u'A', ([], [], [])), (u'A', ([], [], [])), (u'A', ([], [], [])), (u'D', ([], [], [])), (u'A', ([], [], [])), (u'D', ([], [], [])), (u'A', ([], [], [])), (u'D', ([], [], [])), (u'D', ([], [], [])), (u'H', ([], [], [])), (u'A', ([], [], [])), (u'A', ([], [], [])), (u'H', ([], [], [u'VC'])), (u'D', ([], [], [])), (u'H', ([], [], [])), (u'H', ([], [], [])), (u'A', ([], [], [])), (u'A', ([], [], [])), (u'H', ([], [], [])), (u'A', ([], [], [])), (u'A', ([], [], [])), (u'A', ([], [], [])), (u'A', ([], [], [])), (u'H', ([], [], [])), (u'A', ([], [], [])), (u'D', ([], [], [])), (u'H', ([], [], [])), (u'H', ([], [], [])), (u'H', ([], [], [])), (u'D', ([], [], [])), (u'H', ([], [], [])), (u'D', ([], [], [])), (u'A', ([], [], [])), (u'D', ([], [], [])), (u'H', ([], [], [])), (u'H', ([], [], [])), (u'H', ([], [], [])), (u'A', ([], [], [])), (u'D', ([], [], [])), (u'H', ([], [], [])), (u'H', ([], [], [])), (u'H', ([], [], [])), (u'D', ([], [], [])), (u'A', ([], [], [])), (u'A', ([], [], [])), (u'H', ([], [], [])), (u'H', ([], [], [])), (u'D', ([], [], []))]\n"
     ]
    }
   ],
   "source": [
    "curious_ratio = 1.25\n",
    "\n",
    "def evaluate_bets_over_mean(line):\n",
    "    curious_home_bets = []\n",
    "    curious_draw_bets = []\n",
    "    curious_away_bets = []\n",
    "    \n",
    "    for bet in line[2]:\n",
    "        try:\n",
    "            if(float(bet[1][0]) >= line[1][0] * curious_ratio):\n",
    "                curious_home_bets.append(bet[0])\n",
    "            if(float(bet[1][1]) >= line[1][1] * curious_ratio):\n",
    "                curious_draw_bets.append(bet[0])\n",
    "            if(float(bet[1][2]) >= line[1][2] * curious_ratio):\n",
    "                curious_away_bets.append(bet[0])\n",
    "        except:\n",
    "            pass\n",
    "        \n",
    "    return (curious_home_bets, curious_draw_bets, curious_away_bets)\n",
    "\n",
    "curious_bets = bets_with_mean.map(lambda line : (line[0], evaluate_bets_over_mean(line)))\n",
    "print(\"Bets over mean -> \" + str(curious_bets.take(50)))"
   ]
  },
  {
   "cell_type": "code",
   "execution_count": 284,
   "metadata": {},
   "outputs": [
    {
     "name": "stdout",
     "output_type": "stream",
     "text": [
      "Bets under mean -> [(u'D', ([], [], [])), (u'H', ([], [], [])), (u'A', ([], [], [])), (u'A', ([], [], [])), (u'A', ([], [], [])), (u'D', ([], [], [])), (u'A', ([], [], [])), (u'D', ([], [], [])), (u'A', ([], [], [])), (u'D', ([], [], [])), (u'D', ([], [], [])), (u'H', ([], [], [])), (u'A', ([], [], [])), (u'A', ([], [], [])), (u'H', ([], [], [u'IW'])), (u'D', ([], [], [])), (u'H', ([], [], [])), (u'H', ([], [], [])), (u'A', ([], [], [])), (u'A', ([], [], [])), (u'H', ([], [], [])), (u'A', ([], [], [])), (u'A', ([], [], [])), (u'A', ([], [], [])), (u'A', ([], [], [])), (u'H', ([], [], [])), (u'A', ([], [], [])), (u'D', ([], [], [])), (u'H', ([], [], [])), (u'H', ([], [], [])), (u'H', ([], [], [])), (u'D', ([], [], [])), (u'H', ([], [], [])), (u'D', ([], [], [])), (u'A', ([], [], [])), (u'D', ([], [], [])), (u'H', ([], [], [])), (u'H', ([], [], [])), (u'H', ([], [], [])), (u'A', ([], [], [])), (u'D', ([], [], [])), (u'H', ([], [], [])), (u'H', ([], [], [])), (u'H', ([], [], [])), (u'D', ([], [], [])), (u'A', ([], [], [])), (u'A', ([], [], [])), (u'H', ([], [], [])), (u'H', ([], [], [])), (u'D', ([], [], []))]\n"
     ]
    }
   ],
   "source": [
    "def evaluate_bets_under_mean(line):\n",
    "    curious_home_bets = []\n",
    "    curious_draw_bets = []\n",
    "    curious_away_bets = []\n",
    "    \n",
    "    for bet in line[2]:\n",
    "        try:\n",
    "            if(float(bet[1][0]) <= line[1][0] / curious_ratio):\n",
    "                curious_home_bets.append(bet[0])\n",
    "            if(float(bet[1][1]) <= line[1][1] / curious_ratio):\n",
    "                curious_draw_bets.append(bet[0])\n",
    "            if(float(bet[1][2]) <= line[1][2] / curious_ratio):\n",
    "                curious_away_bets.append(bet[0])\n",
    "        except:\n",
    "            pass\n",
    "        \n",
    "    return (curious_home_bets, curious_draw_bets, curious_away_bets)\n",
    "\n",
    "curious_bets = bets_with_mean.map(lambda line : (line[0], evaluate_bets_under_mean(line)))\n",
    "print(\"Bets under mean -> \" + str(curious_bets.take(50)))"
   ]
  },
  {
   "cell_type": "code",
   "execution_count": 274,
   "metadata": {},
   "outputs": [
    {
     "name": "stdout",
     "output_type": "stream",
     "text": [
      "Maximum bets -> [(u'D', ((u'B365', 2.75), (u'VC', 3.6), (u'BW', 2.55))), (u'H', ((u'VC', 1.73), (u'VC', 3.9), (u'B365', 5.25))), (u'A', ((u'IW', 1.75), (u'VC', 4.1), (u'B365', 5.0))), (u'A', ((u'WH', 3.75), (u'VC', 3.9), (u'B365', 1.91))), (u'A', ((u'B365', 3.2), (u'VC', 3.5), (u'LB', 2.25))), (u'D', ((u'IW', 1.75), (u'VC', 4.1), (u'B365', 5.0))), (u'A', ((u'B365', 3.75), (u'VC', 3.7), (u'IW', 2.1))), (u'D', ((u'BW', 2.4), (u'VC', 3.5), (u'LB', 3.1))), (u'A', ((u'B365', 5.5), (u'BW', 4.2), (u'LB', 1.62))), (u'D', ((u'LB', 2.7), (u'B365', 3.6), (u'IW', 2.5)))]\n"
     ]
    }
   ],
   "source": [
    "def maximum_bets(line):\n",
    "    home_maximum = (\"\", 0.0)\n",
    "    draw_maximum = (\"\", 0.0)\n",
    "    away_maximum = (\"\", 0.0)\n",
    "    \n",
    "    for bet in line[1]:\n",
    "        try:\n",
    "            if(float(bet[1][0]) > home_maximum[1]):\n",
    "                home_maximum = (bet[0], float(bet[1][0]))\n",
    "            if(float(bet[1][1]) > draw_maximum[1]):\n",
    "                draw_maximum = (bet[0], float(bet[1][1]))\n",
    "            if(float(bet[1][2]) > away_maximum[1]):\n",
    "                away_maximum = (bet[0], float(bet[1][2]))\n",
    "        except:\n",
    "            pass\n",
    "    \n",
    "    return (home_maximum, draw_maximum, away_maximum)\n",
    "\n",
    "print(\"Maximum bets -> \" + str(bets.map(lambda line: (line[0], maximum_bets(line))).take(10)))"
   ]
  },
  {
   "cell_type": "code",
   "execution_count": 279,
   "metadata": {},
   "outputs": [
    {
     "name": "stdout",
     "output_type": "stream",
     "text": [
      "Minimum bets -> [(u'D', ((u'BW', 2.6), (u'IW', 3.2), (u'VC', 2.45))), (u'H', ((u'BW', 1.65), (u'B365', 3.5), (u'WH', 4.33))), (u'A', ((u'BW', 1.65), (u'IW', 3.4), (u'WH', 4.0))), (u'A', ((u'B365', 3.6), (u'IW', 3.3), (u'IW', 1.9))), (u'A', ((u'IW', 2.9), (u'IW', 3.3), (u'BW', 2.1))), (u'D', ((u'BW', 1.67), (u'B365', 3.6), (u'IW', 4.0))), (u'A', ((u'IW', 3.1), (u'IW', 3.3), (u'B365', 1.95))), (u'D', ((u'LB', 2.25), (u'BW', 3.3), (u'IW', 2.75))), (u'A', ((u'IW', 4.6), (u'WH', 3.8), (u'BW', 1.53))), (u'D', ((u'IW', 2.55), (u'IW', 3.3), (u'WH', 2.38)))]\n"
     ]
    }
   ],
   "source": [
    "def minimum_bets(line):\n",
    "    home_minimum = (\"\", 99.0)\n",
    "    draw_minimum = (\"\", 99.0)\n",
    "    away_minimum = (\"\", 99.0)\n",
    "    \n",
    "    for bet in line[1]:\n",
    "        try:\n",
    "            if(float(bet[1][0]) < home_minimum[1]):\n",
    "                home_minimum = (bet[0], float(bet[1][0]))\n",
    "            if(float(bet[1][1]) < draw_minimum[1]):\n",
    "                draw_minimum = (bet[0], float(bet[1][1]))\n",
    "            if(float(bet[1][2]) < away_minimum[1]):\n",
    "                away_minimum = (bet[0], float(bet[1][2]))\n",
    "        except:\n",
    "            pass\n",
    "    \n",
    "    return (home_minimum, draw_minimum, away_minimum)\n",
    "\n",
    "print(\"Minimum bets -> \" + str(bets.map(lambda line: (line[0], minimum_bets(line))).take(10)))"
   ]
  },
  {
   "cell_type": "code",
   "execution_count": 275,
   "metadata": {},
   "outputs": [
    {
     "name": "stdout",
     "output_type": "stream",
     "text": [
      "\n",
      "Hit ratio -> [(u'B365', (49212, 50927)), (u'LB', (47978, 50404)), (u'IW', (47657, 51417)), (u'VC', (47097, 48611)), (u'WH', (47758, 50323)), (u'SJ', (32408, 34049)), (u'BW', (47998, 49809)), (u'GB', (30514, 31792)), (u'BS', (21250, 22181))]\n",
      "\n",
      "Total bets -> [(u'B365', 100139), (u'LB', 98382), (u'IW', 99074), (u'VC', 95708), (u'WH', 98081), (u'SJ', 66457), (u'BW', 97807), (u'GB', 62306), (u'BS', 43431)]\n",
      "\n",
      "Hit rate -> [(u'B365', 0.4914369027052397), (u'LB', 0.48767050883291657), (u'IW', 0.48102428487797), (u'VC', 0.4920905253479333), (u'WH', 0.4869240729601044), (u'SJ', 0.48765367079464916), (u'BW', 0.4907419714335375), (u'GB', 0.48974416589092545), (u'BS', 0.4892818493702655)]\n"
     ]
    }
   ],
   "source": [
    "def bets_hit(line):\n",
    "    hit = []\n",
    "    \n",
    "    for bet in line[1]:\n",
    "        try:\n",
    "            if(line[0] == \"H\"):\n",
    "                if(float(bet[1][0]) < float(bet[1][1]) and float(bet[1][0]) < float(bet[1][2])):\n",
    "                   hit.append((bet[0], (1, 0)))\n",
    "                else:\n",
    "                   hit.append((bet[0], (0, 1)))\n",
    "            if(line[0] == \"D\"):\n",
    "                if(float(bet[1][1]) < float(bet[1][0]) and float(bet[1][1]) < float(bet[1][2])):\n",
    "                   hit.append((bet[0], (1, 0)))\n",
    "                else:\n",
    "                   hit.append((bet[0], (0, 1)))\n",
    "            if(line[0] == \"A\"):\n",
    "                if(float(bet[1][2]) < float(bet[1][0]) and float(bet[1][2]) < float(bet[1][1])):\n",
    "                   hit.append((bet[0], (1, 0)))\n",
    "                else:\n",
    "                   hit.append((bet[0], (0, 1)))\n",
    "        except:\n",
    "            pass\n",
    "    return hit\n",
    "\n",
    "hit_ratio = bets.flatMap(lambda line : bets_hit(line)).reduceByKey(lambda a, b: (a[0] + b[0], a[1] + b[1]))\n",
    "\n",
    "print(\"\\nHit ratio -> \" + str(hit_ratio.collect()))\n",
    "\n",
    "print(\"\\nTotal bets -> \" + str(hit_ratio.map(lambda x: (x[0], x[1][0] + x[1][1])).collect()))\n",
    "\n",
    "hit_rate = hit_ratio.map(lambda x: (x[0], float(x[1][0]) / float(x[1][0] + x[1][1])))\n",
    "\n",
    "print(\"\\nHit rate -> \" + str(hit_rate.collect()))"
   ]
  },
  {
   "cell_type": "code",
   "execution_count": 282,
   "metadata": {},
   "outputs": [
    {
     "data": {
      "text/plain": [
       "<matplotlib.legend.Legend at 0x1eaa4d10>"
      ]
     },
     "execution_count": 282,
     "metadata": {},
     "output_type": "execute_result"
    },
    {
     "data": {
      "image/png": "[encoded data removed]",
      "text/plain": [
       "<Figure size 1440x720 with 1 Axes>"
      ]
     },
     "metadata": {},
     "output_type": "display_data"
    }
   ],
   "source": [
    "import matplotlib.pyplot as plt\n",
    "import numpy as np\n",
    "\n",
    "fig_size = plt.rcParams[\"figure.figsize\"]\n",
    "fig_size[0] = 20\n",
    "fig_size[1] = 10\n",
    "plt.rcParams[\"figure.figsize\"] = fig_size\n",
    "\n",
    "plt.bar(hit_rate.keys().collect(), hit_rate.values().collect(), 1/1.5, label=\"Hit rate\")\n",
    "axes = plt.gca()\n",
    "axes.set_ylim([0.46, 0.5])\n",
    "plt.xlabel(\"Bet house\")\n",
    "plt.ylabel(\"Hit rate\")\n",
    "plt.legend()"
   ]
  },
  {
   "cell_type": "code",
   "execution_count": null,
   "metadata": {},
   "outputs": [],
   "source": []
  }
 ],
 "metadata": {
  "kernelspec": {
   "display_name": "Python 2",
   "language": "python",
   "name": "python2"
  },
  "language_info": {
   "codemirror_mode": {
    "name": "ipython",
    "version": 2
   },
   "file_extension": ".py",
   "mimetype": "text/x-python",
   "name": "python",
   "nbconvert_exporter": "python",
   "pygments_lexer": "ipython2",
   "version": "2.7.5"
  }
 },
 "nbformat": 4,
 "nbformat_minor": 2
}
