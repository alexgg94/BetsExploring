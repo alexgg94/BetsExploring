{
 "cells": [
  {
   "cell_type": "markdown",
   "metadata": {},
   "source": [
    "# Big Data Project\n",
    "## Outcome: Divergence\n",
    "\n",
    "In this notebook we will outcome 'Divergence'\n",
    "\n",
    "'Divergence' will be used to detect matches with a big difference between bet houses quotas.\n"
   ]
  },
  {
   "cell_type": "code",
   "execution_count": 1,
   "metadata": {},
   "outputs": [
    {
     "data": {
      "text/html": [
       "\n",
       "        <div>\n",
       "            <p><b>SparkContext</b></p>\n",
       "\n",
       "            <p><a href=\"http://SERVERSERMENA.sermena.com:4040\">Spark UI</a></p>\n",
       "\n",
       "            <dl>\n",
       "              <dt>Version</dt>\n",
       "                <dd><code>v2.3.1</code></dd>\n",
       "              <dt>Master</dt>\n",
       "                <dd><code>local[*]</code></dd>\n",
       "              <dt>AppName</dt>\n",
       "                <dd><code>Bets Exploring</code></dd>\n",
       "            </dl>\n",
       "        </div>\n",
       "        "
      ],
      "text/plain": [
       "<SparkContext master=local[*] appName=Bets Exploring>"
      ]
     },
     "execution_count": 1,
     "metadata": {},
     "output_type": "execute_result"
    }
   ],
   "source": [
    "from pyspark.sql import SparkSession\n",
    "from pyspark.sql.types import StringType, DataType, DecimalType\n",
    "from pyspark.sql.functions import udf\n",
    "import datetime\n",
    "import pyspark\n",
    "\n",
    "spark = SparkSession \\\n",
    "    .builder \\\n",
    "    .appName(\"Bets Exploring\") \\\n",
    "    .getOrCreate()\n",
    "    \n",
    "sc = spark.sparkContext\n",
    "\n",
    "sc"
   ]
  },
  {
   "cell_type": "code",
   "execution_count": 20,
   "metadata": {
    "collapsed": true
   },
   "outputs": [],
   "source": [
    "pathori = \"../Data/Raw/Main/\"\n",
    "pathtemp = \"../Data/Interim/\"\n",
    "pathdest = \"../Data/Processed/\"\n",
    "filetemp = \"main_competitions_consistent.csv\"\n",
    "filetemprecent = \"main_competitions_consistent_recent.csv\"\n",
    "bethouses = ['B365', 'BS', 'BW', 'GB', 'IW', 'LB', 'SB', 'SJ', 'VC', 'WH']\n",
    "quotatypes = ['H','D','A']"
   ]
  },
  {
   "cell_type": "code",
   "execution_count": 21,
   "metadata": {
    "collapsed": true
   },
   "outputs": [],
   "source": [
    "# Open dataset\n",
    "df = spark.read.csv(path = pathtemp + filetemprecent, header = True, inferSchema = True)\n",
    "#df = df.withColumn(\"Date\", df[\"Date\"].cast(\"date\"))"
   ]
  },
  {
   "cell_type": "code",
   "execution_count": 22,
   "metadata": {},
   "outputs": [
    {
     "name": "stdout",
     "output_type": "stream",
     "text": [
      "Size:    11374\n",
      "Columns: ['Country', 'Competition', 'Season', 'Div', 'Date', 'HomeTeam', 'AwayTeam', 'FTR', 'B365H', 'B365D', 'B365A', 'BWH', 'BWD', 'BWA', 'IWH', 'IWD', 'IWA', 'LBH', 'LBD', 'LBA', 'VCH', 'VCD', 'VCA', 'WHH', 'WHD', 'WHA']\n",
      "root\n",
      " |-- Country: string (nullable = true)\n",
      " |-- Competition: string (nullable = true)\n",
      " |-- Season: string (nullable = true)\n",
      " |-- Div: string (nullable = true)\n",
      " |-- Date: timestamp (nullable = true)\n",
      " |-- HomeTeam: string (nullable = true)\n",
      " |-- AwayTeam: string (nullable = true)\n",
      " |-- FTR: string (nullable = true)\n",
      " |-- B365H: double (nullable = true)\n",
      " |-- B365D: double (nullable = true)\n",
      " |-- B365A: double (nullable = true)\n",
      " |-- BWH: double (nullable = true)\n",
      " |-- BWD: double (nullable = true)\n",
      " |-- BWA: double (nullable = true)\n",
      " |-- IWH: double (nullable = true)\n",
      " |-- IWD: double (nullable = true)\n",
      " |-- IWA: double (nullable = true)\n",
      " |-- LBH: double (nullable = true)\n",
      " |-- LBD: double (nullable = true)\n",
      " |-- LBA: double (nullable = true)\n",
      " |-- VCH: double (nullable = true)\n",
      " |-- VCD: double (nullable = true)\n",
      " |-- VCA: double (nullable = true)\n",
      " |-- WHH: double (nullable = true)\n",
      " |-- WHD: double (nullable = true)\n",
      " |-- WHA: double (nullable = true)\n",
      "\n"
     ]
    }
   ],
   "source": [
    "print (\"Size:   \", df.count())\n",
    "print (\"Columns:\", df.columns)\n",
    "df.printSchema()"
   ]
  },
  {
   "cell_type": "code",
   "execution_count": 23,
   "metadata": {},
   "outputs": [
    {
     "name": "stdout",
     "output_type": "stream",
     "text": [
      "+-------+-------------+---------+---+-------------------+---------+----------------+---+-----+-----+-----+----+---+----+----+---+---+----+---+----+----+----+----+----+----+----+\n",
      "|Country|  Competition|   Season|Div|               Date| HomeTeam|        AwayTeam|FTR|B365H|B365D|B365A| BWH|BWD| BWA| IWH|IWD|IWA| LBH|LBD| LBA| VCH| VCD| VCA| WHH| WHD| WHA|\n",
      "+-------+-------------+---------+---+-------------------+---------+----------------+---+-----+-----+-----+----+---+----+----+---+---+----+---+----+----+----+----+----+----+----+\n",
      "|Belgium|JupilerLeague|2017-2018| B1|2017-07-28 00:00:00|  Antwerp|      Anderlecht|  D| 5.75|  3.8|  1.6| 5.0|4.0|1.67| 4.7|3.6|1.7| 5.2|3.7|1.61| 5.5| 3.9|1.62|4.75|3.75|1.67|\n",
      "|Belgium|JupilerLeague|2017-2018| B1|2017-07-29 00:00:00|Charleroi|        Kortrijk|  H| 1.62| 3.75|  5.5|1.67|3.7| 5.5| 1.6|3.7|5.4|1.61|3.6| 5.2|1.65| 3.8|5.25|1.65|3.75| 4.8|\n",
      "|Belgium|JupilerLeague|2017-2018| B1|2017-07-29 00:00:00|    Eupen|         Waregem|  A|  2.6|  3.4|  2.6| 2.7|3.4| 2.6|2.65|3.3|2.5|2.55|3.3| 2.5|2.63| 3.4| 2.6| 2.6| 3.4| 2.5|\n",
      "|Belgium|JupilerLeague|2017-2018| B1|2017-07-29 00:00:00|     Genk|Waasland-Beveren|  D|  1.4| 4.75|  7.0|1.42|4.6|7.75| 1.4|4.4|7.3|1.36|4.5| 8.0|1.36|4.75| 8.5| 1.4| 4.5| 7.0|\n",
      "|Belgium|JupilerLeague|2017-2018| B1|2017-07-29 00:00:00|  Lokeren|     Club Brugge|  A|  4.2|  3.6| 1.83|4.25|3.7|1.83| 4.2|3.5|1.8| 4.0|3.4|1.83| 4.2| 3.6|1.83|4.33| 3.6|1.75|\n",
      "+-------+-------------+---------+---+-------------------+---------+----------------+---+-----+-----+-----+----+---+----+----+---+---+----+---+----+----+----+----+----+----+----+\n",
      "only showing top 5 rows\n",
      "\n"
     ]
    }
   ],
   "source": [
    "df.show(5)"
   ]
  },
  {
   "cell_type": "code",
   "execution_count": 24,
   "metadata": {},
   "outputs": [
    {
     "data": {
      "text/plain": [
       "11374"
      ]
     },
     "execution_count": 24,
     "metadata": {},
     "output_type": "execute_result"
    }
   ],
   "source": [
    "df.count()"
   ]
  },
  {
   "cell_type": "code",
   "execution_count": 25,
   "metadata": {},
   "outputs": [
    {
     "name": "stdout",
     "output_type": "stream",
     "text": [
      "+-------+-------+------------+---------+-----+--------+--------+-----+\n",
      "|summary|Country| Competition|   Season|  Div|HomeTeam|AwayTeam|  FTR|\n",
      "+-------+-------+------------+---------+-----+--------+--------+-----+\n",
      "|  count|  11374|       11374|    11374|11374|   11374|   11374|11374|\n",
      "|   mean|   null|        null|     null| null|    null|    null| null|\n",
      "| stddev|   null|        null|     null| null|    null|    null| null|\n",
      "|    min|Belgium|Championship|2017-2018|   B1|     AEK|     AEK|    A|\n",
      "|    max| Turkey|      SerieB|2018-2019|   T1|  Zwolle|  Zwolle|    H|\n",
      "+-------+-------+------------+---------+-----+--------+--------+-----+\n",
      "\n"
     ]
    }
   ],
   "source": [
    "df.describe('Country','Competition','Season','Div','Date','HomeTeam','AwayTeam','FTR').show()"
   ]
  },
  {
   "cell_type": "code",
   "execution_count": 26,
   "metadata": {
    "collapsed": true
   },
   "outputs": [],
   "source": [
    "# df.describe('WHH','WHD','WHA','SBH','SBD','SBA','IWH','IWD','IWA','GBH','GBD','GBA').show()"
   ]
  },
  {
   "cell_type": "code",
   "execution_count": 29,
   "metadata": {},
   "outputs": [
    {
     "name": "stdout",
     "output_type": "stream",
     "text": [
      "Potential bet houses: ['B365', 'BS', 'BW', 'GB', 'IW', 'LB', 'SB', 'SJ', 'VC', 'WH']\n",
      "Bet houses selected : ['B365', 'BW', 'IW', 'LB', 'VC', 'WH']\n",
      "Bet houses columns  : ['B365H', 'B365D', 'B365A', 'BWH', 'BWD', 'BWA', 'IWH', 'IWD', 'IWA', 'LBH', 'LBD', 'LBA', 'VCH', 'VCD', 'VCA', 'WHH', 'WHD', 'WHA']\n"
     ]
    }
   ],
   "source": [
    "# Bet Houses selection depending on dataset simulation\n",
    "print (\"Potential bet houses:\", bethouses)\n",
    "betHousesCols = []\n",
    "betHousesOk = []\n",
    "for bethouse in bethouses:\n",
    "    col = bethouse + 'H'\n",
    "    if col in df.columns:\n",
    "        betHousesOk.append(bethouse)\n",
    "        betHousesCols.append(bethouse + 'H')\n",
    "        betHousesCols.append(bethouse + 'D')\n",
    "        betHousesCols.append(bethouse + 'A')\n",
    "        \n",
    "print (\"Bet houses selected :\" , betHousesOk)\n",
    "print (\"Bet houses columns  :\", betHousesCols)"
   ]
  },
  {
   "cell_type": "code",
   "execution_count": 30,
   "metadata": {},
   "outputs": [
    {
     "name": "stdout",
     "output_type": "stream",
     "text": [
      "Row(B365H=5.75, B365D=3.8, B365A=1.6, BWH=5.0, BWD=4.0, BWA=1.67, IWH=4.7, IWD=3.6, IWA=1.7, LBH=5.2, LBD=3.7, LBA=1.61, VCH=5.5, VCD=3.9, VCA=1.62, WHH=4.75, WHD=3.75, WHA=1.67)\n",
      "\n",
      "B365H : 5.75  BWH : 5.0  IWH : 4.7  LBH : 5.2  VCH : 5.5  WHH : 4.75  \n",
      "Count: 6  Sum: 30.9  Max: 5.75  Min: 4.7  Mean: 5.1499999999999995\n",
      "Diver Max:   11.65048543689322  Diver Min:   8.737864077669888  Divergence:  11.65048543689322\n",
      "\n",
      "B365D : 3.8  BWD : 4.0  IWD : 3.6  LBD : 3.7  VCD : 3.9  WHD : 3.75  \n",
      "Count: 6  Sum: 22.75  Max: 4.0  Min: 3.6  Mean: 3.7916666666666665\n",
      "Diver Max:   5.494505494505497  Diver Min:   5.054945054945048  Divergence:  11.65048543689322\n",
      "\n",
      "B365A : 1.6  BWA : 1.67  IWA : 1.7  LBA : 1.61  VCA : 1.62  WHA : 1.67  \n",
      "Count: 6  Sum: 9.87  Max: 1.7  Min: 1.6  Mean: 1.6449999999999998\n",
      "Diver Max:   3.3434650455927084  Diver Min:   2.7355623100303816  Divergence:  11.65048543689322\n"
     ]
    }
   ],
   "source": [
    "# Divergence calculation simulation\n",
    "match = df[betHousesCols].take(1)[0]\n",
    "print (match)\n",
    "\n",
    "quotatypes = ['H','D','A']\n",
    "divergence = 0\n",
    "for quotatype in quotatypes:\n",
    "    print ()\n",
    "    min = 1000\n",
    "    max = 0\n",
    "    sum = 0\n",
    "    count = 0\n",
    "    for bethouse in betHousesOk:\n",
    "        col = bethouse + quotatype\n",
    "        val = match[col]\n",
    "        if not val is None:\n",
    "            print (col, ':', val, end='  ')\n",
    "            sum = sum + val\n",
    "            count = count + 1\n",
    "            if val > max:\n",
    "                max = val\n",
    "            if val < min:\n",
    "                min = val\n",
    "    if count > 0:\n",
    "        mean = sum/count\n",
    "        diverMax = ((max / mean) - 1)*100\n",
    "        if diverMax > divergence:\n",
    "            divergence = diverMax\n",
    "        diverMin = (abs((min / mean) - 1))*100\n",
    "        if diverMin > divergence:\n",
    "            divergence = diverMin\n",
    "    \n",
    "    print ('\\nCount:', count, end='  ')\n",
    "    print ('Sum:', sum, end='  ')\n",
    "    print ('Max:', max, end='  ')\n",
    "    print ('Min:', min, end='  ')\n",
    "    print ('Mean:', mean)\n",
    "    print ('Diver Max:  ', diverMax, end='  ')\n",
    "    print ('Diver Min:  ', diverMin, end='  ')\n",
    "    print ('Divergence: ', divergence)\n",
    "       "
   ]
  },
  {
   "cell_type": "code",
   "execution_count": 31,
   "metadata": {
    "collapsed": true
   },
   "outputs": [],
   "source": [
    "def filterBetHouses0(df, bethouses):\n",
    "    betHousesCols = []\n",
    "    betHousesOk = []\n",
    "    for bethouse in bethouses:\n",
    "        col = bethouse + 'H'\n",
    "        if col in dfok.columns:\n",
    "            betHousesOk.append(bethouse)\n",
    "            betHousesCols.append(bethouse + 'H')\n",
    "            betHousesCols.append(bethouse + 'D')\n",
    "            betHousesCols.append(bethouse + 'A')\n",
    "\n",
    "    return (betHousesOk, betHousesCols)"
   ]
  },
  {
   "cell_type": "code",
   "execution_count": 36,
   "metadata": {
    "collapsed": true
   },
   "outputs": [],
   "source": [
    "def filterBetHouses(df, bethouses):\n",
    "    betHousesOk = []\n",
    "    for bethouse in bethouses:\n",
    "        col = bethouse + 'H'\n",
    "        if col in df.columns:\n",
    "            betHousesOk.append(bethouse)\n",
    "    \n",
    "    return betHousesOk"
   ]
  },
  {
   "cell_type": "code",
   "execution_count": 33,
   "metadata": {
    "collapsed": true
   },
   "outputs": [],
   "source": [
    "def calcDivergence(match, bethouses):\n",
    "    resultList = ['H','D','A']\n",
    "    divergence = 0\n",
    "    for result in resultList:\n",
    "        min = 1000\n",
    "        max = 0\n",
    "        sum = 0\n",
    "        count = 0\n",
    "        for bethouse in bethouses:\n",
    "            col = bethouse + result\n",
    "            val = match[col]\n",
    "            if not val is None:\n",
    "                sum = sum + val\n",
    "                count = count + 1\n",
    "                if val > max:\n",
    "                    max = val\n",
    "                if val < min:\n",
    "                    min = val\n",
    "        mean = sum/count\n",
    "        diverMax = ((max / mean) - 1) * 100\n",
    "        if diverMax > divergence:\n",
    "            divergence = diverMax\n",
    "        diverMin = (abs((min / mean) - 1)) * 100\n",
    "        if diverMin > divergence:\n",
    "            divergence = diverMin\n",
    "\n",
    "    return divergence"
   ]
  },
  {
   "cell_type": "code",
   "execution_count": 37,
   "metadata": {},
   "outputs": [
    {
     "name": "stdout",
     "output_type": "stream",
     "text": [
      "Bet Houses: ['B365', 'BW', 'IW', 'LB', 'VC', 'WH']\n"
     ]
    },
    {
     "data": {
      "text/plain": [
       "[(Row(Country='Belgium', Competition='JupilerLeague', Season='2017-2018', Div='B1', Date=datetime.datetime(2017, 7, 28, 0, 0), HomeTeam='Antwerp', AwayTeam='Anderlecht', FTR='D', B365H=5.75, B365D=3.8, B365A=1.6, BWH=5.0, BWD=4.0, BWA=1.67, IWH=4.7, IWD=3.6, IWA=1.7, LBH=5.2, LBD=3.7, LBA=1.61, VCH=5.5, VCD=3.9, VCA=1.62, WHH=4.75, WHD=3.75, WHA=1.67),\n",
       "  11.65048543689322),\n",
       " (Row(Country='Belgium', Competition='JupilerLeague', Season='2017-2018', Div='B1', Date=datetime.datetime(2017, 7, 29, 0, 0), HomeTeam='Charleroi', AwayTeam='Kortrijk', FTR='H', B365H=1.62, B365D=3.75, B365A=5.5, BWH=1.67, BWD=3.7, BWA=5.5, IWH=1.6, IWD=3.7, IWA=5.4, LBH=1.61, LBD=3.6, LBA=5.2, VCH=1.65, VCD=3.8, VCA=5.25, WHH=1.65, WHD=3.75, WHA=4.8),\n",
       "  9.004739336492884)]"
      ]
     },
     "metadata": {},
     "output_type": "display_data"
    }
   ],
   "source": [
    "# Map divergence\n",
    "bethousesok = filterBetHouses(df, bethouses)\n",
    "print (\"Bet Houses:\", bethousesok)\n",
    "\n",
    "rdddiver = df.rdd.map(lambda match: (match, calcDivergence(match, bethousesok)))\n",
    "#rddlist = dfok.rdd.map(list)\n",
    "#rdddiver = rddlist.map(lambda match : (match, calcDivergence(match, bethouses)))\n",
    "display (rdddiver.take(2))"
   ]
  },
  {
   "cell_type": "code",
   "execution_count": 38,
   "metadata": {},
   "outputs": [
    {
     "name": "stdout",
     "output_type": "stream",
     "text": [
      "Period:  2018-11-01 00:00:00 to 2018-11-07 00:00:00\n",
      "Week matches:  123\n",
      "* Top N highest divergence matches:\n"
     ]
    },
    {
     "data": {
      "text/plain": [
       "[(Row(Country='Spain', Competition='Primera', Season='2017-2018', Div='SP1', Date=datetime.datetime(2018, 11, 2, 0, 0), HomeTeam='Barcelona', AwayTeam='Getafe', FTR='D', B365H=1.12, B365D=9.0, B365A=19.0, BWH=1.1, BWD=9.25, BWA=19.0, IWH=1.12, IWD=9.0, IWA=20.0, LBH=1.11, LBD=9.5, LBA=19.0, VCH=1.09, VCD=10.0, VCA=29.0, WHH=1.11, WHD=9.0, WHA=21.0),\n",
       "  37.00787401574803),\n",
       " (Row(Country='France', Competition='Division2', Season='2017-2018', Div='F2', Date=datetime.datetime(2018, 11, 5, 0, 0), HomeTeam='Le Havre', AwayTeam='Tours', FTR='H', B365H=1.19, B365D=6.0, B365A=15.0, BWH=1.22, BWD=6.0, BWA=10.5, IWH=1.22, IWD=6.25, IWA=10.75, LBH=1.2, LBD=6.0, LBA=13.0, VCH=1.18, VCD=6.5, VCA=17.0, WHH=1.22, WHD=6.0, WHA=9.5),\n",
       "  34.65346534653466),\n",
       " (Row(Country='Italy', Competition='SerieA', Season='2017-2018', Div='I1', Date=datetime.datetime(2018, 11, 3, 0, 0), HomeTeam='Juventus', AwayTeam='Udinese', FTR='H', B365H=1.22, B365D=6.5, B365A=13.0, BWH=1.25, BWD=5.75, BWA=13.0, IWH=1.25, IWD=6.0, IWA=11.0, LBH=1.25, LBD=5.25, LBA=15.0, VCH=1.22, VCD=6.0, VCA=18.0, WHH=1.25, WHD=5.5, WHA=13.0),\n",
       "  30.12048192771084),\n",
       " (Row(Country='Netherlands', Competition='Eredivisie', Season='2017-2018', Div='N1', Date=datetime.datetime(2018, 11, 2, 0, 0), HomeTeam='Ajax', AwayTeam='Twente', FTR='H', B365H=1.14, B365D=8.0, B365A=15.0, BWH=1.16, BWD=7.25, BWA=13.5, IWH=1.2, IWD=5.8, IWA=13.0, LBH=1.14, LBD=7.5, LBA=19.0, VCH=1.14, VCD=8.0, VCA=20.0, WHH=1.15, WHD=7.5, WHA=13.0),\n",
       "  28.342245989304814),\n",
       " (Row(Country='Belgium', Competition='JupilerLeague', Season='2017-2018', Div='B1', Date=datetime.datetime(2018, 11, 2, 0, 0), HomeTeam='Standard', AwayTeam='Mouscron', FTR='H', B365H=1.28, B365D=5.0, B365A=11.0, BWH=1.33, BWD=4.75, BWA=9.5, IWH=1.4, IWD=4.4, IWA=7.3, LBH=1.33, LBD=4.75, LBA=9.5, VCH=1.3, VCD=5.0, VCA=10.5, WHH=1.3, WHD=4.8, WHA=9.5),\n",
       "  23.560209424083766)]"
      ]
     },
     "metadata": {},
     "output_type": "display_data"
    },
    {
     "name": "stdout",
     "output_type": "stream",
     "text": [
      "* Top N lowest divergence matches:\n"
     ]
    },
    {
     "data": {
      "text/plain": [
       "[(Row(Country='Germany', Competition='Liga1', Season='2017-2018', Div='D1', Date=datetime.datetime(2018, 11, 2, 0, 0), HomeTeam='Werder Bremen', AwayTeam='Wolfsburg', FTR='H', B365H=2.14, B365D=3.39, B365A=3.39, BWH=2.1, BWD=3.3, BWA=3.4, IWH=2.1, IWD=3.4, IWA=3.5, LBH=2.05, LBD=3.3, LBA=3.5, VCH=2.15, VCD=3.4, VCA=3.6, WHH=2.05, WHD=3.4, WHA=3.6),\n",
       "  3.09671272034302),\n",
       " (Row(Country='Germany', Competition='Liga2', Season='2017-2018', Div='D2', Date=datetime.datetime(2018, 11, 2, 0, 0), HomeTeam='Greuther Furth', AwayTeam='Dresden', FTR='H', B365H=2.5, B365D=3.2, B365A=2.79, BWH=2.45, BWD=3.25, BWA=2.85, IWH=2.5, IWD=3.2, IWA=2.75, LBH=2.45, LBD=3.2, LBA=2.75, VCH=2.5, VCD=3.3, VCA=2.88, WHH=2.45, WHD=3.3, WHA=2.7),\n",
       "  3.349282296650724),\n",
       " (Row(Country='Belgium', Competition='JupilerLeague', Season='2017-2018', Div='B1', Date=datetime.datetime(2018, 11, 3, 0, 0), HomeTeam='Genk', AwayTeam='Gent', FTR='A', B365H=2.1, B365D=3.5, B365A=3.25, BWH=2.2, BWD=3.5, BWA=3.25, IWH=2.1, IWD=3.3, IWA=3.3, LBH=2.15, LBD=3.3, LBA=3.1, VCH=2.2, VCD=3.5, VCA=3.13, WHH=2.1, WHD=3.5, WHA=3.1),\n",
       "  3.8834951456310773),\n",
       " (Row(Country='Spain', Competition='Segunda', Season='2017-2018', Div='SP2', Date=datetime.datetime(2018, 11, 3, 0, 0), HomeTeam='Reus Deportiu', AwayTeam='Huesca', FTR='D', B365H=3.0, B365D=2.87, B365A=2.62, BWH=3.0, BWD=2.9, BWA=2.6, IWH=2.8, IWD=2.95, IWA=2.6, LBH=2.8, LBD=2.9, LBA=2.55, VCH=2.9, VCD=3.0, VCA=2.7, WHH=2.8, WHD=2.88, WHA=2.6),\n",
       "  4.046242774566466),\n",
       " (Row(Country='Italy', Competition='SerieA', Season='2017-2018', Div='I1', Date=datetime.datetime(2018, 11, 3, 0, 0), HomeTeam='Crotone', AwayTeam='Sampdoria', FTR='H', B365H=3.25, B365D=3.25, B365A=2.29, BWH=3.1, BWD=3.3, BWA=2.35, IWH=3.15, IWD=3.3, IWA=2.3, LBH=3.1, LBD=3.25, LBA=2.3, VCH=3.3, VCD=3.2, VCA=2.38, WHH=3.1, WHD=3.1, WHA=2.4),\n",
       "  4.210526315789465)]"
      ]
     },
     "metadata": {},
     "output_type": "display_data"
    }
   ],
   "source": [
    "# Top N highest and lower divergence matches of a web - simulation\n",
    "import datetime\n",
    "\n",
    "date_ini = '2018-11-01'\n",
    "date_end = '2018-11-07'\n",
    "date_ini_obj = datetime.datetime.strptime(date_ini, '%Y-%m-%d')\n",
    "date_end_obj = datetime.datetime.strptime(date_end, '%Y-%m-%d')\n",
    "print (\"Period: \", date_ini_obj, \"to\", date_end_obj)\n",
    "\n",
    "rddperiod = rdddiver.filter(lambda match: match[0][4]>=date_ini_obj).filter(lambda match: match[0][4]<=date_end_obj)\n",
    "print(\"Week matches: \", rddperiod.count())\n",
    "\n",
    "# Top N highest\n",
    "print (\"* Top N highest divergence matches:\")\n",
    "display (rddperiod.top(5, key=lambda match: match[1]))\n",
    "\n",
    "# Top N lowest\n",
    "print (\"* Top N lowest divergence matches:\")\n",
    "display (rddperiod.top(5, key=lambda match: -match[1]))\n"
   ]
  },
  {
   "cell_type": "code",
   "execution_count": 39,
   "metadata": {
    "collapsed": true
   },
   "outputs": [],
   "source": [
    "# Calculate Top N higher and lowest divergence matches in a periode of time\n",
    "\n",
    "def topNDivergence(rdd, date_ini, date_end):\n",
    "    \n",
    "    date_ini_obj = datetime.datetime.strptime(date_ini, '%Y-%m-%d')\n",
    "    date_end_obj = datetime.datetime.strptime(date_end, '%Y-%m-%d')\n",
    "\n",
    "    rddperiod = rdd.filter(lambda match: match[0][4]>=date_ini_obj).filter(lambda match: match[0][4]<=date_end_obj)\n",
    "\n",
    "    rddhigh = rddperiod.top(5, key=lambda match: match[1])\n",
    "    \n",
    "    rddlow  = rddperiod.top(5, key=lambda match: -match[1])\n",
    "    \n",
    "    count = rdd.count()\n",
    "    \n",
    "    return (count, rddhigh, rddlow)\n"
   ]
  },
  {
   "cell_type": "code",
   "execution_count": 40,
   "metadata": {
    "scrolled": true
   },
   "outputs": [
    {
     "name": "stdout",
     "output_type": "stream",
     "text": [
      "Matches: 11374\n",
      "\n",
      "* Top N highest divergence matches:\n",
      "[(Row(Country='Spain', Competition='Primera', Season='2017-2018', Div='SP1', Date=datetime.datetime(2018, 11, 2, 0, 0), HomeTeam='Barcelona', AwayTeam='Getafe', FTR='D', B365H=1.12, B365D=9.0, B365A=19.0, BWH=1.1, BWD=9.25, BWA=19.0, IWH=1.12, IWD=9.0, IWA=20.0, LBH=1.11, LBD=9.5, LBA=19.0, VCH=1.09, VCD=10.0, VCA=29.0, WHH=1.11, WHD=9.0, WHA=21.0), 37.00787401574803), (Row(Country='France', Competition='Division2', Season='2017-2018', Div='F2', Date=datetime.datetime(2018, 11, 5, 0, 0), HomeTeam='Le Havre', AwayTeam='Tours', FTR='H', B365H=1.19, B365D=6.0, B365A=15.0, BWH=1.22, BWD=6.0, BWA=10.5, IWH=1.22, IWD=6.25, IWA=10.75, LBH=1.2, LBD=6.0, LBA=13.0, VCH=1.18, VCD=6.5, VCA=17.0, WHH=1.22, WHD=6.0, WHA=9.5), 34.65346534653466), (Row(Country='Italy', Competition='SerieA', Season='2017-2018', Div='I1', Date=datetime.datetime(2018, 11, 3, 0, 0), HomeTeam='Juventus', AwayTeam='Udinese', FTR='H', B365H=1.22, B365D=6.5, B365A=13.0, BWH=1.25, BWD=5.75, BWA=13.0, IWH=1.25, IWD=6.0, IWA=11.0, LBH=1.25, LBD=5.25, LBA=15.0, VCH=1.22, VCD=6.0, VCA=18.0, WHH=1.25, WHD=5.5, WHA=13.0), 30.12048192771084), (Row(Country='Netherlands', Competition='Eredivisie', Season='2017-2018', Div='N1', Date=datetime.datetime(2018, 11, 2, 0, 0), HomeTeam='Ajax', AwayTeam='Twente', FTR='H', B365H=1.14, B365D=8.0, B365A=15.0, BWH=1.16, BWD=7.25, BWA=13.5, IWH=1.2, IWD=5.8, IWA=13.0, LBH=1.14, LBD=7.5, LBA=19.0, VCH=1.14, VCD=8.0, VCA=20.0, WHH=1.15, WHD=7.5, WHA=13.0), 28.342245989304814), (Row(Country='Belgium', Competition='JupilerLeague', Season='2017-2018', Div='B1', Date=datetime.datetime(2018, 11, 2, 0, 0), HomeTeam='Standard', AwayTeam='Mouscron', FTR='H', B365H=1.28, B365D=5.0, B365A=11.0, BWH=1.33, BWD=4.75, BWA=9.5, IWH=1.4, IWD=4.4, IWA=7.3, LBH=1.33, LBD=4.75, LBA=9.5, VCH=1.3, VCD=5.0, VCA=10.5, WHH=1.3, WHD=4.8, WHA=9.5), 23.560209424083766)]\n",
      "\n",
      "* Top N lowest divergence matches:\n",
      "[(Row(Country='Germany', Competition='Liga1', Season='2017-2018', Div='D1', Date=datetime.datetime(2018, 11, 2, 0, 0), HomeTeam='Werder Bremen', AwayTeam='Wolfsburg', FTR='H', B365H=2.14, B365D=3.39, B365A=3.39, BWH=2.1, BWD=3.3, BWA=3.4, IWH=2.1, IWD=3.4, IWA=3.5, LBH=2.05, LBD=3.3, LBA=3.5, VCH=2.15, VCD=3.4, VCA=3.6, WHH=2.05, WHD=3.4, WHA=3.6), 3.09671272034302), (Row(Country='Germany', Competition='Liga2', Season='2017-2018', Div='D2', Date=datetime.datetime(2018, 11, 2, 0, 0), HomeTeam='Greuther Furth', AwayTeam='Dresden', FTR='H', B365H=2.5, B365D=3.2, B365A=2.79, BWH=2.45, BWD=3.25, BWA=2.85, IWH=2.5, IWD=3.2, IWA=2.75, LBH=2.45, LBD=3.2, LBA=2.75, VCH=2.5, VCD=3.3, VCA=2.88, WHH=2.45, WHD=3.3, WHA=2.7), 3.349282296650724), (Row(Country='Belgium', Competition='JupilerLeague', Season='2017-2018', Div='B1', Date=datetime.datetime(2018, 11, 3, 0, 0), HomeTeam='Genk', AwayTeam='Gent', FTR='A', B365H=2.1, B365D=3.5, B365A=3.25, BWH=2.2, BWD=3.5, BWA=3.25, IWH=2.1, IWD=3.3, IWA=3.3, LBH=2.15, LBD=3.3, LBA=3.1, VCH=2.2, VCD=3.5, VCA=3.13, WHH=2.1, WHD=3.5, WHA=3.1), 3.8834951456310773), (Row(Country='Spain', Competition='Segunda', Season='2017-2018', Div='SP2', Date=datetime.datetime(2018, 11, 3, 0, 0), HomeTeam='Reus Deportiu', AwayTeam='Huesca', FTR='D', B365H=3.0, B365D=2.87, B365A=2.62, BWH=3.0, BWD=2.9, BWA=2.6, IWH=2.8, IWD=2.95, IWA=2.6, LBH=2.8, LBD=2.9, LBA=2.55, VCH=2.9, VCD=3.0, VCA=2.7, WHH=2.8, WHD=2.88, WHA=2.6), 4.046242774566466), (Row(Country='Italy', Competition='SerieA', Season='2017-2018', Div='I1', Date=datetime.datetime(2018, 11, 3, 0, 0), HomeTeam='Crotone', AwayTeam='Sampdoria', FTR='H', B365H=3.25, B365D=3.25, B365A=2.29, BWH=3.1, BWD=3.3, BWA=2.35, IWH=3.15, IWD=3.3, IWA=2.3, LBH=3.1, LBD=3.25, LBA=2.3, VCH=3.3, VCD=3.2, VCA=2.38, WHH=3.1, WHD=3.1, WHA=2.4), 4.210526315789465)]\n"
     ]
    }
   ],
   "source": [
    "# Example of use of topNDivergence\n",
    "\n",
    "topNDiver = topNDivergence(rdddiver, '2018-11-01', '2018-11-07')\n",
    "print (\"Matches:\", topNDiver[0])\n",
    "print (\"\\n* Top N highest divergence matches:\")\n",
    "print (topNDiver[1])\n",
    "print (\"\\n* Top N lowest divergence matches:\")\n",
    "print (topNDiver[2])\n"
   ]
  },
  {
   "cell_type": "code",
   "execution_count": 41,
   "metadata": {},
   "outputs": [
    {
     "name": "stdout",
     "output_type": "stream",
     "text": [
      "Matches: 11374\n",
      "Sample data:\n",
      " [('Belgium', 'JupilerLeague', '2017-2018', datetime.datetime(2017, 7, 28, 0, 0), 'Antwerp', 'Anderlecht', 11.65), ('Belgium', 'JupilerLeague', '2017-2018', datetime.datetime(2017, 7, 29, 0, 0), 'Charleroi', 'Kortrijk', 9.0)]\n"
     ]
    }
   ],
   "source": [
    "# Obtain Dataframe to make graphic analisys\n",
    "rddhist = rdddiver.map(lambda match: (match[0][0], match[0][1], match[0][2], match[0][4], match[0][5], match[0][6], round(match[1],2)))\n",
    "print ('Matches:', rddhist.count())\n",
    "print ('Sample data:\\n', rddhist.take(2))"
   ]
  },
  {
   "cell_type": "code",
   "execution_count": 42,
   "metadata": {},
   "outputs": [
    {
     "name": "stdout",
     "output_type": "stream",
     "text": [
      "+-------+-------------+---------+-------------------+---------+----------------+----------+\n",
      "|Country|  Competition|   Season|               Date| HomeTeam|        AwayTeam|Divergence|\n",
      "+-------+-------------+---------+-------------------+---------+----------------+----------+\n",
      "|Belgium|JupilerLeague|2017-2018|2017-07-28 00:00:00|  Antwerp|      Anderlecht|     11.65|\n",
      "|Belgium|JupilerLeague|2017-2018|2017-07-29 00:00:00|Charleroi|        Kortrijk|       9.0|\n",
      "|Belgium|JupilerLeague|2017-2018|2017-07-29 00:00:00|    Eupen|         Waregem|      2.99|\n",
      "|Belgium|JupilerLeague|2017-2018|2017-07-29 00:00:00|     Genk|Waasland-Beveren|     11.96|\n",
      "|Belgium|JupilerLeague|2017-2018|2017-07-29 00:00:00|  Lokeren|     Club Brugge|      4.69|\n",
      "+-------+-------------+---------+-------------------+---------+----------------+----------+\n",
      "only showing top 5 rows\n",
      "\n",
      "+-------+-----------------+\n",
      "|summary|       Divergence|\n",
      "+-------+-----------------+\n",
      "|  count|            11373|\n",
      "|   mean|8.418530730677897|\n",
      "| stddev|5.113879883162956|\n",
      "|    min|             1.64|\n",
      "|    10%|             4.31|\n",
      "|    25%|             5.42|\n",
      "|    50%|             6.98|\n",
      "|    75%|             9.69|\n",
      "|    90%|            14.06|\n",
      "|    max|            81.55|\n",
      "+-------+-----------------+\n",
      "\n"
     ]
    }
   ],
   "source": [
    "dfhist = rddhist.toDF(['Country','Competition','Season','Date','HomeTeam','AwayTeam','Divergence'])\n",
    "dfhist.show(5)\n",
    "dfdiver = dfhist.select('Divergence')\n",
    "dfdiver.summary('count','mean','stddev','min','10%','25%','50%','75%','90%','max').show()\n",
    "quantile = dfdiver.approxQuantile('Divergence',[0.10,0.25,0.50,0.75,0.9],0)"
   ]
  },
  {
   "cell_type": "code",
   "execution_count": 43,
   "metadata": {
    "collapsed": true
   },
   "outputs": [],
   "source": [
    "from pyspark_dist_explore import hist\n",
    "import matplotlib.pyplot as plt"
   ]
  },
  {
   "cell_type": "code",
   "execution_count": 44,
   "metadata": {},
   "outputs": [
    {
     "name": "stdout",
     "output_type": "stream",
     "text": [
      "[11.65048543689322, 9.004739336492884, 2.9879211697393604, 11.96487376509332, 4.686258935663212, 3.9999999999999702, 6.647807637906644, 6.267029972752036, 6.702412868632701, 6.060606060606066, 7.594264471587886, 7.641196013289053, 5.695687550854345, 6.770255271920078, 15.04424778761062, 12.923462986198242, 4.347826086956541, 6.730769230769251, 4.895104895104918, 11.911357340720219]\n"
     ]
    }
   ],
   "source": [
    "diverhist = rdddiver.map(lambda row: row[1]).collect()\n",
    "print (diverhist[:20])"
   ]
  },
  {
   "cell_type": "code",
   "execution_count": 45,
   "metadata": {},
   "outputs": [
    {
     "data": {
      "image/png": "[encoded data removed]",
      "text/plain": [
       "<matplotlib.figure.Figure at 0x1ab8023fd0>"
      ]
     },
     "metadata": {},
     "output_type": "display_data"
    }
   ],
   "source": [
    "plt.hist(diverhist, bins=70, normed=True, rwidth=0.9, label='Divergence')\n",
    "fig = plt.gcf()\n",
    "fig.set_size_inches(24, 10)\n",
    "plt.axvline(x=quantile[0], color='#ff00ff', label='10%')\n",
    "plt.axvline(x=quantile[1], color='#ff0000', label='25%')\n",
    "plt.axvline(x=quantile[2], color='#0000ff', label='50%')\n",
    "plt.axvline(x=mean, color='#00ff00', label='mean')\n",
    "plt.axvline(x=quantile[3], color='#00ffff', label='75%')\n",
    "plt.axvline(x=quantile[4], color='#ffff00', label='90%')\n",
    "plt.title('% Divergence (max_quota / mean_quota)', fontsize='20')\n",
    "plt.legend(fontsize='15')\n",
    "plt.show()"
   ]
  },
  {
   "cell_type": "code",
   "execution_count": 46,
   "metadata": {},
   "outputs": [
    {
     "name": "stdout",
     "output_type": "stream",
     "text": [
      "[2.9879211697393604, 3.9999999999999702, 3.4146341463414664, 3.4482758620689724, 4.270109235352515, 3.910614525139655, 4.211793020457266, 4.00616332819721, 3.6144578313252906, 3.4992607195662995, 3.2258064516129004, 4.232469993682897, 4.134762633996969, 2.6946107784431073, 4.098360655737698, 3.4992607195662995, 4.270109235352515, 3.826266804550149, 3.8834951456310773, 4.270109235352515]\n"
     ]
    }
   ],
   "source": [
    "diverlow = rdddiver.filter(lambda row: row[1]<quantile[0]).map(lambda row: row[1]).collect()\n",
    "print(diverlow[:20])"
   ]
  },
  {
   "cell_type": "code",
   "execution_count": 47,
   "metadata": {},
   "outputs": [
    {
     "data": {
      "image/png": "[encoded data removed]",
      "text/plain": [
       "<matplotlib.figure.Figure at 0x1ab55c1828>"
      ]
     },
     "metadata": {},
     "output_type": "display_data"
    }
   ],
   "source": [
    "\n",
    "plt.hist(diverlow, bins=70, normed=True, rwidth=0.9)\n",
    "fig = plt.gcf()\n",
    "fig.set_size_inches(24, 10)\n",
    "plt.title('% Divergence (<quantile 10%) (max_quota / mean_quota)', fontsize='20')\n",
    "plt.show()"
   ]
  },
  {
   "cell_type": "code",
   "execution_count": 48,
   "metadata": {},
   "outputs": [
    {
     "name": "stdout",
     "output_type": "stream",
     "text": [
      "[15.04424778761062, 15.596330275229352, 20.398009950248753, 14.999999999999991, 14.155251141552494, 15.9235668789809, 14.28571428571428, 22.580645161290313, 14.48931116389549, 19.43462897526501, 22.26415094339622, 16.473317865429237, 15.021459227467815, 18.309859154929576, 18.8470066518847, 16.546762589928043, 15.867158671586722, 14.28571428571428, 16.455696202531644, 18.75]\n"
     ]
    }
   ],
   "source": [
    "diverhigh = rdddiver.filter(lambda row: row[1]>quantile[4]).map(lambda row: row[1]).collect()\n",
    "print(diverhigh[:20])"
   ]
  },
  {
   "cell_type": "code",
   "execution_count": 49,
   "metadata": {},
   "outputs": [
    {
     "data": {
      "image/png": "[encoded data removed]",
      "text/plain": [
       "<matplotlib.figure.Figure at 0x1ab9afe390>"
      ]
     },
     "metadata": {},
     "output_type": "display_data"
    }
   ],
   "source": [
    "plt.hist(diverhigh, bins=70, normed=True, rwidth=0.9)\n",
    "fig = plt.gcf()\n",
    "fig.set_size_inches(24, 10)\n",
    "plt.title('% Divergence (>quantile 90%) (max_quota / mean_quota)', fontsize='20')\n",
    "plt.show()"
   ]
  },
  {
   "cell_type": "code",
   "execution_count": null,
   "metadata": {
    "collapsed": true
   },
   "outputs": [],
   "source": []
  },
  {
   "cell_type": "code",
   "execution_count": null,
   "metadata": {
    "collapsed": true
   },
   "outputs": [],
   "source": []
  },
  {
   "cell_type": "code",
   "execution_count": null,
   "metadata": {
    "collapsed": true
   },
   "outputs": [],
   "source": []
  },
  {
   "cell_type": "code",
   "execution_count": null,
   "metadata": {
    "collapsed": true
   },
   "outputs": [],
   "source": []
  }
 ],
 "metadata": {
  "kernelspec": {
   "display_name": "Python 3",
   "language": "python",
   "name": "python3"
  },
  "language_info": {
   "codemirror_mode": {
    "name": "ipython",
    "version": 3
   },
   "file_extension": ".py",
   "mimetype": "text/x-python",
   "name": "python",
   "nbconvert_exporter": "python",
   "pygments_lexer": "ipython3",
   "version": "3.6.3"
  }
 },
 "nbformat": 4,
 "nbformat_minor": 2
}
