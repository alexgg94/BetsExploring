{
 "cells": [
  {
   "cell_type": "markdown",
   "metadata": {},
   "source": [
    "# Big Data Project\n",
    "## Outcome: Divergence\n",
    "\n",
    "In this notebook we will outcome 'Divergence'\n",
    "\n",
    "'Divergence' will be used to detect matches with a big difference between bet houses quotas.\n"
   ]
  },
  {
   "cell_type": "code",
   "execution_count": 1,
   "metadata": {},
   "outputs": [
    {
     "data": {
      "text/html": [
       "\n",
       "        <div>\n",
       "            <p><b>SparkContext</b></p>\n",
       "\n",
       "            <p><a href=\"http://SERVERSERMENA.sermena.com:4040\">Spark UI</a></p>\n",
       "\n",
       "            <dl>\n",
       "              <dt>Version</dt>\n",
       "                <dd><code>v2.3.1</code></dd>\n",
       "              <dt>Master</dt>\n",
       "                <dd><code>local[*]</code></dd>\n",
       "              <dt>AppName</dt>\n",
       "                <dd><code>Bets Exploring</code></dd>\n",
       "            </dl>\n",
       "        </div>\n",
       "        "
      ],
      "text/plain": [
       "<SparkContext master=local[*] appName=Bets Exploring>"
      ]
     },
     "execution_count": 1,
     "metadata": {},
     "output_type": "execute_result"
    }
   ],
   "source": [
    "from pyspark.sql import SparkSession\n",
    "import pyspark\n",
    "\n",
    "spark = SparkSession \\\n",
    "    .builder \\\n",
    "    .appName(\"Bets Exploring\") \\\n",
    "    .getOrCreate()\n",
    "    \n",
    "sc = spark.sparkContext\n",
    "\n",
    "sc"
   ]
  },
  {
   "cell_type": "code",
   "execution_count": 2,
   "metadata": {
    "collapsed": true
   },
   "outputs": [],
   "source": [
    "pathori = \"../Data/Raw/Main/\"\n",
    "pathtemp = \"../Data/Interim/\"\n",
    "pathdest = \"../Data/Processed/\"\n",
    "filetemp = \"main_competitions.csv\"\n",
    "filedest = \"main_competitions.csv\"\n",
    "bethouses = ['WH','SB','IW','GB']\n",
    "quotatypes = ['H','D','A']"
   ]
  },
  {
   "cell_type": "code",
   "execution_count": 3,
   "metadata": {
    "collapsed": true
   },
   "outputs": [],
   "source": [
    "# Open dataset\n",
    "df = spark.read.csv(path = pathdest + filedest, header = True, inferSchema = True)\n",
    "df = df.withColumn(\"Date\", df[\"Date\"].cast(\"date\"))"
   ]
  },
  {
   "cell_type": "code",
   "execution_count": 4,
   "metadata": {},
   "outputs": [
    {
     "name": "stdout",
     "output_type": "stream",
     "text": [
      "root\n",
      " |-- Country: string (nullable = true)\n",
      " |-- Competition: string (nullable = true)\n",
      " |-- Season: string (nullable = true)\n",
      " |-- Div: string (nullable = true)\n",
      " |-- Date: date (nullable = true)\n",
      " |-- HomeTeam: string (nullable = true)\n",
      " |-- AwayTeam: string (nullable = true)\n",
      " |-- FTR: string (nullable = true)\n",
      " |-- WHH: double (nullable = true)\n",
      " |-- WHD: double (nullable = true)\n",
      " |-- WHA: double (nullable = true)\n",
      " |-- SBH: double (nullable = true)\n",
      " |-- SBD: double (nullable = true)\n",
      " |-- SBA: double (nullable = true)\n",
      " |-- IWH: double (nullable = true)\n",
      " |-- IWD: double (nullable = true)\n",
      " |-- IWA: double (nullable = true)\n",
      " |-- GBH: double (nullable = true)\n",
      " |-- GBD: double (nullable = true)\n",
      " |-- GBA: double (nullable = true)\n",
      "\n"
     ]
    }
   ],
   "source": [
    "df.printSchema()"
   ]
  },
  {
   "cell_type": "code",
   "execution_count": 5,
   "metadata": {},
   "outputs": [
    {
     "name": "stdout",
     "output_type": "stream",
     "text": [
      "+-------+-------------+---------+---+----------+--------------+-------------+---+----+----+----+----+----+----+----+---+---+----+----+----+\n",
      "|Country|  Competition|   Season|Div|      Date|      HomeTeam|     AwayTeam|FTR| WHH| WHD| WHA| SBH| SBD| SBA| IWH|IWD|IWA| GBH| GBD| GBA|\n",
      "+-------+-------------+---------+---+----------+--------------+-------------+---+----+----+----+----+----+----+----+---+---+----+----+----+\n",
      "|Belgium|JupilerLeague|2003-2004| B1|2003-08-08|   Club Brugge|         Genk|  H|null|null|null|1.44|3.75| 6.5|1.45|3.8|5.4| 1.4| 3.8|6.85|\n",
      "|Belgium|JupilerLeague|2003-2004| B1|2003-09-08|    Anderlecht|      Antwerp|  H|1.22| 5.0| 9.5| 1.2| 5.5|10.0| 1.3|4.2|8.0| 1.2| 5.5|9.25|\n",
      "|Belgium|JupilerLeague|2003-2004| B1|2003-09-08|     Charleroi|       Lierse|  A| 2.5| 3.4| 2.3|2.62| 3.4|2.25| 2.9|3.2|2.1| 2.5|3.35|2.35|\n",
      "|Belgium|JupilerLeague|2003-2004| B1|2003-09-08|      Germinal|       Bergen|  H| 1.9| 3.5| 3.2| 1.9| 3.4| 3.4| 1.9|3.4|3.2|1.85|3.35| 3.5|\n",
      "|Belgium|JupilerLeague|2003-2004| B1|2003-09-08|       Lokeren|   St Truiden|  D|1.66| 3.6| 4.0|1.72| 3.5| 4.0| 1.9|3.4|3.2| 1.8| 3.4|3.65|\n",
      "|Belgium|JupilerLeague|2003-2004| B1|2003-09-08|      Westerlo|  Louvieroise|  D|1.72| 3.5| 3.8| 1.8| 3.5| 3.6|1.85|3.3|3.4|1.85|3.45| 3.5|\n",
      "|Belgium|JupilerLeague|2003-2004| B1|2003-10-08|       Beveren|         Gent|  A| 2.3| 3.4| 2.5|2.25| 3.5| 2.6| 2.3|3.4|2.3|2.35|3.35| 2.5|\n",
      "|Belgium|JupilerLeague|2003-2004| B1|2003-10-08|Heusden Zolder|Cercle Brugge|  D| 2.0| 3.4| 3.0| 2.1| 3.4|2.87| 2.1|3.3|2.8|2.05|3.45| 2.9|\n",
      "|Belgium|JupilerLeague|2003-2004| B1|2003-10-08|      Mouscron|     Standard|  D|2.62| 3.5| 2.2|2.62| 3.4|2.25| 2.5|3.3|2.2|2.55| 3.5|2.25|\n",
      "|Belgium|JupilerLeague|2003-2004| B1|2003-08-16|       Antwerp|     Westerlo|  H|1.85| 3.4| 3.3| 2.1|3.25| 3.0| 2.3|3.1|2.6| 2.0| 3.2| 3.2|\n",
      "+-------+-------------+---------+---+----------+--------------+-------------+---+----+----+----+----+----+----+----+---+---+----+----+----+\n",
      "only showing top 10 rows\n",
      "\n"
     ]
    }
   ],
   "source": [
    "df.show(10)"
   ]
  },
  {
   "cell_type": "code",
   "execution_count": 6,
   "metadata": {},
   "outputs": [
    {
     "data": {
      "text/plain": [
       "106839"
      ]
     },
     "execution_count": 6,
     "metadata": {},
     "output_type": "execute_result"
    }
   ],
   "source": [
    "df.count()"
   ]
  },
  {
   "cell_type": "code",
   "execution_count": 7,
   "metadata": {},
   "outputs": [
    {
     "name": "stdout",
     "output_type": "stream",
     "text": [
      "+-------+-------+------------+---------+------+------------+------------+------+\n",
      "|summary|Country| Competition|   Season|   Div|    HomeTeam|    AwayTeam|   FTR|\n",
      "+-------+-------+------------+---------+------+------------+------------+------+\n",
      "|  count| 106839|      106839|   106839|106806|      106569|      106569|106805|\n",
      "|   mean|   null|        null|     null|  null|        null|        null|  null|\n",
      "| stddev|   null|        null|     null|  null|        null|        null|  null|\n",
      "|    min|Belgium|Championship|2003-2004|    B1|A. Sebatspor|A. Sebatspor|     A|\n",
      "|    max| Turkey|      SerieB|2018-2019|    T1|      Zwolle|      Zwolle|     H|\n",
      "+-------+-------+------------+---------+------+------------+------------+------+\n",
      "\n"
     ]
    }
   ],
   "source": [
    "df.describe('Country','Competition','Season','Div','Date','HomeTeam','AwayTeam','FTR').show()"
   ]
  },
  {
   "cell_type": "code",
   "execution_count": 8,
   "metadata": {},
   "outputs": [
    {
     "name": "stdout",
     "output_type": "stream",
     "text": [
      "+-------+------------------+------------------+------------------+------------------+------------------+-----------------+------------------+------------------+------------------+------------------+------------------+-----------------+\n",
      "|summary|               WHH|               WHD|               WHA|               SBH|               SBD|              SBA|               IWH|               IWD|               IWA|               GBH|               GBD|              GBA|\n",
      "+-------+------------------+------------------+------------------+------------------+------------------+-----------------+------------------+------------------+------------------+------------------+------------------+-----------------+\n",
      "|  count|            104253|            104253|            104253|             56510|             56511|            56511|            105397|            105397|            105393|             64436|             64436|            64436|\n",
      "|   mean|2.3983402875697903|3.4690791631896793| 3.937763133914715| 2.302137657051849|3.4116155615720163|3.935155633416473|2.3261167775174045| 3.381067487689549|3.7254956211514063|2.3114616053137955|3.4118078403376493|3.907283040536362|\n",
      "| stddev|1.2603729570215099|0.7371194535623358|2.5997295291444824|1.0833633080843863|0.6138279093250925|2.293296531653786|1.1120298376103432|0.6541017189695849|2.2245382684037813|1.0714885266296705|0.6144939240723198|2.223279438884085|\n",
      "|    min|              1.01|              1.02|              1.02|              1.02|               1.2|             1.02|              1.01|               1.5|              1.03|              1.04|              1.25|             1.06|\n",
      "|    max|              26.0|              17.0|              71.0|              26.0|              13.0|             34.0|              25.0|              16.0|              70.0|              24.0|              11.0|             34.0|\n",
      "+-------+------------------+------------------+------------------+------------------+------------------+-----------------+------------------+------------------+------------------+------------------+------------------+-----------------+\n",
      "\n"
     ]
    }
   ],
   "source": [
    "df.describe('WHH','WHD','WHA','SBH','SBD','SBA','IWH','IWD','IWA','GBH','GBD','GBA').show()"
   ]
  },
  {
   "cell_type": "code",
   "execution_count": 9,
   "metadata": {},
   "outputs": [
    {
     "name": "stdout",
     "output_type": "stream",
     "text": [
      "53472\n",
      "+-------+-------------+---------+---+----------+----------+-----------+---+----+---+---+----+---+----+----+---+---+----+----+----+\n",
      "|Country|  Competition|   Season|Div|      Date|  HomeTeam|   AwayTeam|FTR| WHH|WHD|WHA| SBH|SBD| SBA| IWH|IWD|IWA| GBH| GBD| GBA|\n",
      "+-------+-------------+---------+---+----------+----------+-----------+---+----+---+---+----+---+----+----+---+---+----+----+----+\n",
      "|Belgium|JupilerLeague|2003-2004| B1|2003-09-08|Anderlecht|    Antwerp|  H|1.22|5.0|9.5| 1.2|5.5|10.0| 1.3|4.2|8.0| 1.2| 5.5|9.25|\n",
      "|Belgium|JupilerLeague|2003-2004| B1|2003-09-08| Charleroi|     Lierse|  A| 2.5|3.4|2.3|2.62|3.4|2.25| 2.9|3.2|2.1| 2.5|3.35|2.35|\n",
      "|Belgium|JupilerLeague|2003-2004| B1|2003-09-08|  Germinal|     Bergen|  H| 1.9|3.5|3.2| 1.9|3.4| 3.4| 1.9|3.4|3.2|1.85|3.35| 3.5|\n",
      "|Belgium|JupilerLeague|2003-2004| B1|2003-09-08|   Lokeren| St Truiden|  D|1.66|3.6|4.0|1.72|3.5| 4.0| 1.9|3.4|3.2| 1.8| 3.4|3.65|\n",
      "|Belgium|JupilerLeague|2003-2004| B1|2003-09-08|  Westerlo|Louvieroise|  D|1.72|3.5|3.8| 1.8|3.5| 3.6|1.85|3.3|3.4|1.85|3.45| 3.5|\n",
      "+-------+-------------+---------+---+----------+----------+-----------+---+----+---+---+----+---+----+----+---+---+----+----+----+\n",
      "only showing top 5 rows\n",
      "\n"
     ]
    }
   ],
   "source": [
    "dfok = df.dropna(how='any')\n",
    "print(dfok.count())\n",
    "dfok.show(5)"
   ]
  },
  {
   "cell_type": "code",
   "execution_count": 28,
   "metadata": {},
   "outputs": [
    {
     "name": "stdout",
     "output_type": "stream",
     "text": [
      "Match:  Row(Country='Belgium', Competition='JupilerLeague', Season='2003-2004', Div='B1', Date=datetime.date(2003, 9, 8), HomeTeam='Anderlecht', AwayTeam='Antwerp', FTR='H', WHH=1.22, WHD=5.0, WHA=9.5, SBH=1.2, SBD=5.5, SBA=10.0, IWH=1.3, IWD=4.2, IWA=8.0, GBH=1.2, GBD=5.5, GBA=9.25)\n",
      "Bet houses:  ['WH', 'SB', 'IW', 'GB']\n",
      "\n",
      "WHH : 1.22  SBH : 1.2  IWH : 1.3  GBH : 1.2  \n",
      "Count: 4  Sum: 4.92  Max: 1.3  Min: 1.2  Mean: 1.23\n",
      "Diver 1:   0.08843537414965996  Diver 2:   0.12925170068027214  Divergence:  0.05691056910569103\n",
      "\n",
      "WHD : 5.0  SBD : 5.5  IWD : 4.2  GBD : 5.5  \n",
      "Count: 4  Sum: 20.2  Max: 5.5  Min: 4.2  Mean: 5.05\n",
      "Diver 1:   0.08843537414965996  Diver 2:   0.12925170068027214  Divergence:  0.16831683168316824\n",
      "\n",
      "WHA : 9.5  SBA : 10.0  IWA : 8.0  GBA : 9.25  \n",
      "Count: 4  Sum: 36.75  Max: 10.0  Min: 8.0  Mean: 9.1875\n",
      "Diver 1:   0.08843537414965996  Diver 2:   0.12925170068027214  Divergence:  0.16831683168316824\n"
     ]
    }
   ],
   "source": [
    "# Divergence calculation simulation\n",
    "\n",
    "match = dfok.take(1)[0]\n",
    "print (\"Match: \", match)\n",
    "print (\"Bet houses: \", bethouses)\n",
    "\n",
    "resultList = ['H','D','A']\n",
    "divergence = 0\n",
    "for result in resultList:\n",
    "    print ()\n",
    "    min = 1000\n",
    "    max = 0\n",
    "    sum = 0\n",
    "    count = 0\n",
    "    for bethouse in bethouses:\n",
    "        col = bethouse + result\n",
    "        val = match[col]\n",
    "        if not val is None:\n",
    "            print (col, ':', val, end='  ')\n",
    "            sum = sum + val\n",
    "            count = count + 1\n",
    "            if val > max:\n",
    "                max = val\n",
    "            if val < min:\n",
    "                min = val\n",
    "    mean = sum/count\n",
    "    diverMax = (max / mean) - 1\n",
    "    if diverMax > divergence:\n",
    "        divergence = diverMax\n",
    "    diverMin = abs((min / mean) - 1)\n",
    "    if diverMin > divergence:\n",
    "        divergence = diverMin\n",
    "    \n",
    "    print ('\\nCount:', count, end='  ')\n",
    "    print ('Sum:', sum, end='  ')\n",
    "    print ('Max:', max, end='  ')\n",
    "    print ('Min:', min, end='  ')\n",
    "    print ('Mean:', mean)\n",
    "    print ('Diver 1:  ', diver1, end='  ')\n",
    "    print ('Diver 2:  ', diver2, end='  ')\n",
    "    print ('Divergence: ', divergence)\n",
    "       "
   ]
  },
  {
   "cell_type": "code",
   "execution_count": 29,
   "metadata": {
    "collapsed": true
   },
   "outputs": [],
   "source": [
    "def calcDivergence(match, bethouses) :\n",
    "    resultList = ['H','D','A']\n",
    "    divergence = 0\n",
    "    for result in resultList:\n",
    "        min = 1000\n",
    "        max = 0\n",
    "        sum = 0\n",
    "        count = 0\n",
    "        for bethouse in bethouses:\n",
    "            col = bethouse + result\n",
    "            val = match[col]\n",
    "            if not val is None:\n",
    "                sum = sum + val\n",
    "                count = count + 1\n",
    "                if val > max:\n",
    "                    max = val\n",
    "                if val < min:\n",
    "                    min = val\n",
    "        mean = sum/count\n",
    "        diverMax = (max / mean) - 1\n",
    "        if diverMax > divergence:\n",
    "            divergence = diverMax\n",
    "        diverMin = abs((min / mean) - 1)\n",
    "        if diverMin > divergence:\n",
    "            divergence = diverMin\n",
    "            \n",
    "    return divergence"
   ]
  },
  {
   "cell_type": "code",
   "execution_count": 30,
   "metadata": {},
   "outputs": [
    {
     "name": "stdout",
     "output_type": "stream",
     "text": [
      "Row(Country='Belgium', Competition='JupilerLeague', Season='2003-2004', Div='B1', Date=datetime.date(2003, 9, 8), HomeTeam='Anderlecht', AwayTeam='Antwerp', FTR='H', WHH=1.22, WHD=5.0, WHA=9.5, SBH=1.2, SBD=5.5, SBA=10.0, IWH=1.3, IWD=4.2, IWA=8.0, GBH=1.2, GBD=5.5, GBA=9.25)\n",
      "0.16831683168316824\n"
     ]
    }
   ],
   "source": [
    "match = dfok.take(1)[0]\n",
    "divergence = calcDivergence(match, bethouses)\n",
    "print (match)\n",
    "print (divergence)"
   ]
  },
  {
   "cell_type": "code",
   "execution_count": 32,
   "metadata": {},
   "outputs": [
    {
     "data": {
      "text/plain": [
       "[(Row(Country='Belgium', Competition='JupilerLeague', Season='2003-2004', Div='B1', Date=datetime.date(2003, 9, 8), HomeTeam='Anderlecht', AwayTeam='Antwerp', FTR='H', WHH=1.22, WHD=5.0, WHA=9.5, SBH=1.2, SBD=5.5, SBA=10.0, IWH=1.3, IWD=4.2, IWA=8.0, GBH=1.2, GBD=5.5, GBA=9.25),\n",
       "  0.16831683168316824),\n",
       " (Row(Country='Belgium', Competition='JupilerLeague', Season='2003-2004', Div='B1', Date=datetime.date(2003, 9, 8), HomeTeam='Charleroi', AwayTeam='Lierse', FTR='A', WHH=2.5, WHD=3.4, WHA=2.3, SBH=2.62, SBD=3.4, SBA=2.25, IWH=2.9, IWD=3.2, IWA=2.1, GBH=2.5, GBD=3.35, GBA=2.35),\n",
       "  0.102661596958175),\n",
       " (Row(Country='Belgium', Competition='JupilerLeague', Season='2003-2004', Div='B1', Date=datetime.date(2003, 9, 8), HomeTeam='Germinal', AwayTeam='Bergen', FTR='H', WHH=1.9, WHD=3.5, WHA=3.2, SBH=1.9, SBD=3.4, SBA=3.4, IWH=1.9, IWD=3.4, IWA=3.2, GBH=1.85, GBD=3.35, GBA=3.5),\n",
       "  0.05263157894736836),\n",
       " (Row(Country='Belgium', Competition='JupilerLeague', Season='2003-2004', Div='B1', Date=datetime.date(2003, 9, 8), HomeTeam='Lokeren', AwayTeam='St Truiden', FTR='D', WHH=1.66, WHD=3.6, WHA=4.0, SBH=1.72, SBD=3.5, SBA=4.0, IWH=1.9, IWD=3.4, IWA=3.2, GBH=1.8, GBD=3.4, GBA=3.65),\n",
       "  0.13804713804713797),\n",
       " (Row(Country='Belgium', Competition='JupilerLeague', Season='2003-2004', Div='B1', Date=datetime.date(2003, 9, 8), HomeTeam='Westerlo', AwayTeam='Louvieroise', FTR='D', WHH=1.72, WHD=3.5, WHA=3.8, SBH=1.8, SBD=3.5, SBA=3.6, IWH=1.85, IWD=3.3, IWA=3.4, GBH=1.85, GBD=3.45, GBA=3.5),\n",
       "  0.06293706293706292)]"
      ]
     },
     "execution_count": 32,
     "metadata": {},
     "output_type": "execute_result"
    }
   ],
   "source": [
    "rdddiver = dfok.rdd.map(lambda match: (match, calcDivergence(match, bethouses)))\n",
    "rdddiver.take(5)"
   ]
  },
  {
   "cell_type": "code",
   "execution_count": 33,
   "metadata": {},
   "outputs": [
    {
     "ename": "ValueError",
     "evalue": "Cannot convert column into bool: please use '&' for 'and', '|' for 'or', '~' for 'not' when building DataFrame boolean expressions.",
     "output_type": "error",
     "traceback": [
      "\u001b[1;31m---------------------------------------------------------------------------\u001b[0m",
      "\u001b[1;31mValueError\u001b[0m                                Traceback (most recent call last)",
      "\u001b[1;32m<ipython-input-33-9d7136d4def3>\u001b[0m in \u001b[0;36m<module>\u001b[1;34m()\u001b[0m\n\u001b[1;32m----> 1\u001b[1;33m \u001b[0mdfdiver\u001b[0m \u001b[1;33m=\u001b[0m \u001b[0mdfok\u001b[0m\u001b[1;33m.\u001b[0m\u001b[0mwithColumn\u001b[0m\u001b[1;33m(\u001b[0m\u001b[1;34m\"Divergence\"\u001b[0m\u001b[1;33m,\u001b[0m \u001b[0mcalcDivergence\u001b[0m\u001b[1;33m(\u001b[0m\u001b[0mdfok\u001b[0m\u001b[1;33m,\u001b[0m \u001b[0mbethouses\u001b[0m\u001b[1;33m)\u001b[0m\u001b[1;33m)\u001b[0m\u001b[1;33m\u001b[0m\u001b[0m\n\u001b[0m",
      "\u001b[1;32m<ipython-input-29-db0e796ed05e>\u001b[0m in \u001b[0;36mcalcDivergence\u001b[1;34m(match, bethouses)\u001b[0m\n\u001b[0;32m     13\u001b[0m                 \u001b[0msum\u001b[0m \u001b[1;33m=\u001b[0m \u001b[0msum\u001b[0m \u001b[1;33m+\u001b[0m \u001b[0mval\u001b[0m\u001b[1;33m\u001b[0m\u001b[0m\n\u001b[0;32m     14\u001b[0m                 \u001b[0mcount\u001b[0m \u001b[1;33m=\u001b[0m \u001b[0mcount\u001b[0m \u001b[1;33m+\u001b[0m \u001b[1;36m1\u001b[0m\u001b[1;33m\u001b[0m\u001b[0m\n\u001b[1;32m---> 15\u001b[1;33m                 \u001b[1;32mif\u001b[0m \u001b[0mval\u001b[0m \u001b[1;33m>\u001b[0m \u001b[0mmax\u001b[0m\u001b[1;33m:\u001b[0m\u001b[1;33m\u001b[0m\u001b[0m\n\u001b[0m\u001b[0;32m     16\u001b[0m                     \u001b[0mmax\u001b[0m \u001b[1;33m=\u001b[0m \u001b[0mval\u001b[0m\u001b[1;33m\u001b[0m\u001b[0m\n\u001b[0;32m     17\u001b[0m                 \u001b[1;32mif\u001b[0m \u001b[0mval\u001b[0m \u001b[1;33m<\u001b[0m \u001b[0mmin\u001b[0m\u001b[1;33m:\u001b[0m\u001b[1;33m\u001b[0m\u001b[0m\n",
      "\u001b[1;32mC:\\Java\\anaconda3\\lib\\site-packages\\pyspark\\sql\\column.py\u001b[0m in \u001b[0;36m__nonzero__\u001b[1;34m(self)\u001b[0m\n\u001b[0;32m    633\u001b[0m \u001b[1;33m\u001b[0m\u001b[0m\n\u001b[0;32m    634\u001b[0m     \u001b[1;32mdef\u001b[0m \u001b[0m__nonzero__\u001b[0m\u001b[1;33m(\u001b[0m\u001b[0mself\u001b[0m\u001b[1;33m)\u001b[0m\u001b[1;33m:\u001b[0m\u001b[1;33m\u001b[0m\u001b[0m\n\u001b[1;32m--> 635\u001b[1;33m         raise ValueError(\"Cannot convert column into bool: please use '&' for 'and', '|' for 'or', \"\n\u001b[0m\u001b[0;32m    636\u001b[0m                          \"'~' for 'not' when building DataFrame boolean expressions.\")\n\u001b[0;32m    637\u001b[0m     \u001b[0m__bool__\u001b[0m \u001b[1;33m=\u001b[0m \u001b[0m__nonzero__\u001b[0m\u001b[1;33m\u001b[0m\u001b[0m\n",
      "\u001b[1;31mValueError\u001b[0m: Cannot convert column into bool: please use '&' for 'and', '|' for 'or', '~' for 'not' when building DataFrame boolean expressions."
     ]
    }
   ],
   "source": [
    "dfdiver = dfok.withColumn(\"Divergence\", calcDivergence(dfok, bethouses))"
   ]
  },
  {
   "cell_type": "code",
   "execution_count": null,
   "metadata": {
    "collapsed": true
   },
   "outputs": [],
   "source": [
    "dfspain.orderBy('WHA', ascending=False).show(5)\n"
   ]
  },
  {
   "cell_type": "code",
   "execution_count": null,
   "metadata": {
    "collapsed": true
   },
   "outputs": [],
   "source": [
    "dfspain = dfspain.withColumn('mean', (dfspain['WHA']+dfspain['IWA'])/2)\n"
   ]
  },
  {
   "cell_type": "code",
   "execution_count": null,
   "metadata": {
    "collapsed": true
   },
   "outputs": [],
   "source": []
  },
  {
   "cell_type": "code",
   "execution_count": null,
   "metadata": {
    "collapsed": true
   },
   "outputs": [],
   "source": [
    "dfspain = dfspain.withColumn('mean', (dfspain['WHA']+dfspain['IWA'])/2)\n",
    "dfspain.show(10)"
   ]
  },
  {
   "cell_type": "code",
   "execution_count": null,
   "metadata": {
    "collapsed": true
   },
   "outputs": [],
   "source": []
  }
 ],
 "metadata": {
  "kernelspec": {
   "display_name": "Python 3",
   "language": "python",
   "name": "python3"
  },
  "language_info": {
   "codemirror_mode": {
    "name": "ipython",
    "version": 3
   },
   "file_extension": ".py",
   "mimetype": "text/x-python",
   "name": "python",
   "nbconvert_exporter": "python",
   "pygments_lexer": "ipython3",
   "version": "3.6.3"
  }
 },
 "nbformat": 4,
 "nbformat_minor": 2
}
