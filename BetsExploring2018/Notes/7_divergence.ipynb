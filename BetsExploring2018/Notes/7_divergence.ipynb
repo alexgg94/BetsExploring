{
 "cells": [
  {
   "cell_type": "markdown",
   "metadata": {},
   "source": [
    "# Big Data Project\n",
    "## Outcome: Divergence\n",
    "\n",
    "In this notebook we will outcome 'Divergence'\n",
    "\n",
    "'Divergence' will be used to detect matches with a big difference between bet houses quotas.\n"
   ]
  },
  {
   "cell_type": "code",
   "execution_count": 1,
   "metadata": {},
   "outputs": [
    {
     "data": {
      "text/html": [
       "\n",
       "        <div>\n",
       "            <p><b>SparkContext</b></p>\n",
       "\n",
       "            <p><a href=\"http://SERVERSERMENA.sermena.com:4040\">Spark UI</a></p>\n",
       "\n",
       "            <dl>\n",
       "              <dt>Version</dt>\n",
       "                <dd><code>v2.3.1</code></dd>\n",
       "              <dt>Master</dt>\n",
       "                <dd><code>local[*]</code></dd>\n",
       "              <dt>AppName</dt>\n",
       "                <dd><code>Bets Exploring</code></dd>\n",
       "            </dl>\n",
       "        </div>\n",
       "        "
      ],
      "text/plain": [
       "<SparkContext master=local[*] appName=Bets Exploring>"
      ]
     },
     "execution_count": 1,
     "metadata": {},
     "output_type": "execute_result"
    }
   ],
   "source": [
    "from pyspark.sql import SparkSession\n",
    "from pyspark.sql.types import StringType, DataType, DecimalType\n",
    "from pyspark.sql.functions import udf\n",
    "import pyspark\n",
    "\n",
    "spark = SparkSession \\\n",
    "    .builder \\\n",
    "    .appName(\"Bets Exploring\") \\\n",
    "    .getOrCreate()\n",
    "    \n",
    "sc = spark.sparkContext\n",
    "\n",
    "sc"
   ]
  },
  {
   "cell_type": "code",
   "execution_count": 2,
   "metadata": {
    "collapsed": true
   },
   "outputs": [],
   "source": [
    "pathori = \"../Data/Raw/Main/\"\n",
    "pathtemp = \"../Data/Interim/\"\n",
    "pathdest = \"../Data/Processed/\"\n",
    "filetemp = \"main_competitions.csv\"\n",
    "filedest = \"main_competitions_recent.csv\"\n",
    "bethouses = ['B365', 'BS', 'BW', 'GB', 'IW', 'LB', 'SB', 'SJ', 'VC', 'WH']\n",
    "quotatypes = ['H','D','A']"
   ]
  },
  {
   "cell_type": "code",
   "execution_count": 3,
   "metadata": {
    "collapsed": true
   },
   "outputs": [],
   "source": [
    "# Open dataset\n",
    "df = spark.read.csv(path = pathdest + filedest, header = True, inferSchema = True)\n",
    "df = df.withColumn(\"Date\", df[\"Date\"].cast(\"date\"))"
   ]
  },
  {
   "cell_type": "code",
   "execution_count": 4,
   "metadata": {},
   "outputs": [
    {
     "name": "stdout",
     "output_type": "stream",
     "text": [
      "Size:    11374\n",
      "Columns: ['Country', 'Competition', 'Season', 'Div', 'Date', 'HomeTeam', 'AwayTeam', 'FTR', 'B365H', 'B365D', 'B365A', 'BWH', 'BWD', 'BWA', 'IWH', 'IWD', 'IWA', 'LBH', 'LBD', 'LBA', 'VCH', 'VCD', 'VCA', 'WHH', 'WHD', 'WHA']\n",
      "root\n",
      " |-- Country: string (nullable = true)\n",
      " |-- Competition: string (nullable = true)\n",
      " |-- Season: string (nullable = true)\n",
      " |-- Div: string (nullable = true)\n",
      " |-- Date: date (nullable = true)\n",
      " |-- HomeTeam: string (nullable = true)\n",
      " |-- AwayTeam: string (nullable = true)\n",
      " |-- FTR: string (nullable = true)\n",
      " |-- B365H: double (nullable = true)\n",
      " |-- B365D: double (nullable = true)\n",
      " |-- B365A: double (nullable = true)\n",
      " |-- BWH: double (nullable = true)\n",
      " |-- BWD: double (nullable = true)\n",
      " |-- BWA: double (nullable = true)\n",
      " |-- IWH: double (nullable = true)\n",
      " |-- IWD: double (nullable = true)\n",
      " |-- IWA: double (nullable = true)\n",
      " |-- LBH: double (nullable = true)\n",
      " |-- LBD: double (nullable = true)\n",
      " |-- LBA: double (nullable = true)\n",
      " |-- VCH: double (nullable = true)\n",
      " |-- VCD: double (nullable = true)\n",
      " |-- VCA: double (nullable = true)\n",
      " |-- WHH: double (nullable = true)\n",
      " |-- WHD: double (nullable = true)\n",
      " |-- WHA: double (nullable = true)\n",
      "\n"
     ]
    }
   ],
   "source": [
    "print (\"Size:   \", df.count())\n",
    "print (\"Columns:\", df.columns)\n",
    "df.printSchema()"
   ]
  },
  {
   "cell_type": "code",
   "execution_count": 5,
   "metadata": {},
   "outputs": [
    {
     "name": "stdout",
     "output_type": "stream",
     "text": [
      "+-------+-------------+---------+---+----------+---------+----------------+---+-----+-----+-----+----+---+----+----+---+---+----+---+----+----+----+----+----+----+----+\n",
      "|Country|  Competition|   Season|Div|      Date| HomeTeam|        AwayTeam|FTR|B365H|B365D|B365A| BWH|BWD| BWA| IWH|IWD|IWA| LBH|LBD| LBA| VCH| VCD| VCA| WHH| WHD| WHA|\n",
      "+-------+-------------+---------+---+----------+---------+----------------+---+-----+-----+-----+----+---+----+----+---+---+----+---+----+----+----+----+----+----+----+\n",
      "|Belgium|JupilerLeague|2017-2018| B1|2017-07-28|  Antwerp|      Anderlecht|  D| 5.75|  3.8|  1.6| 5.0|4.0|1.67| 4.7|3.6|1.7| 5.2|3.7|1.61| 5.5| 3.9|1.62|4.75|3.75|1.67|\n",
      "|Belgium|JupilerLeague|2017-2018| B1|2017-07-29|Charleroi|        Kortrijk|  H| 1.62| 3.75|  5.5|1.67|3.7| 5.5| 1.6|3.7|5.4|1.61|3.6| 5.2|1.65| 3.8|5.25|1.65|3.75| 4.8|\n",
      "|Belgium|JupilerLeague|2017-2018| B1|2017-07-29|    Eupen|         Waregem|  A|  2.6|  3.4|  2.6| 2.7|3.4| 2.6|2.65|3.3|2.5|2.55|3.3| 2.5|2.63| 3.4| 2.6| 2.6| 3.4| 2.5|\n",
      "|Belgium|JupilerLeague|2017-2018| B1|2017-07-29|     Genk|Waasland-Beveren|  D|  1.4| 4.75|  7.0|1.42|4.6|7.75| 1.4|4.4|7.3|1.36|4.5| 8.0|1.36|4.75| 8.5| 1.4| 4.5| 7.0|\n",
      "|Belgium|JupilerLeague|2017-2018| B1|2017-07-29|  Lokeren|     Club Brugge|  A|  4.2|  3.6| 1.83|4.25|3.7|1.83| 4.2|3.5|1.8| 4.0|3.4|1.83| 4.2| 3.6|1.83|4.33| 3.6|1.75|\n",
      "+-------+-------------+---------+---+----------+---------+----------------+---+-----+-----+-----+----+---+----+----+---+---+----+---+----+----+----+----+----+----+----+\n",
      "only showing top 5 rows\n",
      "\n"
     ]
    }
   ],
   "source": [
    "df.show(5)"
   ]
  },
  {
   "cell_type": "code",
   "execution_count": 6,
   "metadata": {},
   "outputs": [
    {
     "data": {
      "text/plain": [
       "11374"
      ]
     },
     "execution_count": 6,
     "metadata": {},
     "output_type": "execute_result"
    }
   ],
   "source": [
    "df.count()"
   ]
  },
  {
   "cell_type": "code",
   "execution_count": 7,
   "metadata": {},
   "outputs": [
    {
     "name": "stdout",
     "output_type": "stream",
     "text": [
      "+-------+-------+------------+---------+-----+--------+--------+-----+\n",
      "|summary|Country| Competition|   Season|  Div|HomeTeam|AwayTeam|  FTR|\n",
      "+-------+-------+------------+---------+-----+--------+--------+-----+\n",
      "|  count|  11374|       11374|    11374|11374|   11374|   11374|11374|\n",
      "|   mean|   null|        null|     null| null|    null|    null| null|\n",
      "| stddev|   null|        null|     null| null|    null|    null| null|\n",
      "|    min|Belgium|Championship|2017-2018|   B1|     AEK|     AEK|    A|\n",
      "|    max| Turkey|      SerieB|2018-2019|   T1|  Zwolle|  Zwolle|    H|\n",
      "+-------+-------+------------+---------+-----+--------+--------+-----+\n",
      "\n"
     ]
    }
   ],
   "source": [
    "df.describe('Country','Competition','Season','Div','Date','HomeTeam','AwayTeam','FTR').show()"
   ]
  },
  {
   "cell_type": "code",
   "execution_count": 9,
   "metadata": {},
   "outputs": [],
   "source": [
    "# df.describe('WHH','WHD','WHA','SBH','SBD','SBA','IWH','IWD','IWA','GBH','GBD','GBA').show()"
   ]
  },
  {
   "cell_type": "code",
   "execution_count": 10,
   "metadata": {},
   "outputs": [
    {
     "name": "stdout",
     "output_type": "stream",
     "text": [
      "7668\n",
      "+-------+-------------+---------+---+----------+---------+----------------+---+-----+-----+-----+----+---+----+----+---+---+----+---+----+----+----+----+----+----+----+\n",
      "|Country|  Competition|   Season|Div|      Date| HomeTeam|        AwayTeam|FTR|B365H|B365D|B365A| BWH|BWD| BWA| IWH|IWD|IWA| LBH|LBD| LBA| VCH| VCD| VCA| WHH| WHD| WHA|\n",
      "+-------+-------------+---------+---+----------+---------+----------------+---+-----+-----+-----+----+---+----+----+---+---+----+---+----+----+----+----+----+----+----+\n",
      "|Belgium|JupilerLeague|2017-2018| B1|2017-07-28|  Antwerp|      Anderlecht|  D| 5.75|  3.8|  1.6| 5.0|4.0|1.67| 4.7|3.6|1.7| 5.2|3.7|1.61| 5.5| 3.9|1.62|4.75|3.75|1.67|\n",
      "|Belgium|JupilerLeague|2017-2018| B1|2017-07-29|Charleroi|        Kortrijk|  H| 1.62| 3.75|  5.5|1.67|3.7| 5.5| 1.6|3.7|5.4|1.61|3.6| 5.2|1.65| 3.8|5.25|1.65|3.75| 4.8|\n",
      "|Belgium|JupilerLeague|2017-2018| B1|2017-07-29|    Eupen|         Waregem|  A|  2.6|  3.4|  2.6| 2.7|3.4| 2.6|2.65|3.3|2.5|2.55|3.3| 2.5|2.63| 3.4| 2.6| 2.6| 3.4| 2.5|\n",
      "|Belgium|JupilerLeague|2017-2018| B1|2017-07-29|     Genk|Waasland-Beveren|  D|  1.4| 4.75|  7.0|1.42|4.6|7.75| 1.4|4.4|7.3|1.36|4.5| 8.0|1.36|4.75| 8.5| 1.4| 4.5| 7.0|\n",
      "|Belgium|JupilerLeague|2017-2018| B1|2017-07-29|  Lokeren|     Club Brugge|  A|  4.2|  3.6| 1.83|4.25|3.7|1.83| 4.2|3.5|1.8| 4.0|3.4|1.83| 4.2| 3.6|1.83|4.33| 3.6|1.75|\n",
      "+-------+-------------+---------+---+----------+---------+----------------+---+-----+-----+-----+----+---+----+----+---+---+----+---+----+----+----+----+----+----+----+\n",
      "only showing top 5 rows\n",
      "\n"
     ]
    }
   ],
   "source": [
    "dfok = df.dropna(how='any')\n",
    "print(dfok.count())\n",
    "dfok.show(5)"
   ]
  },
  {
   "cell_type": "code",
   "execution_count": 13,
   "metadata": {},
   "outputs": [
    {
     "name": "stdout",
     "output_type": "stream",
     "text": [
      "['B365', 'BW', 'IW', 'LB', 'SJ', 'VC', 'WH']\n",
      "['B365', 'BW', 'IW', 'LB', 'VC', 'WH']\n"
     ]
    }
   ],
   "source": [
    "# Bet Houses selection depending on dataset simulation\n",
    "print (bethouses)\n",
    "for bethouse in bethouses:\n",
    "    col = bethouse + 'H'\n",
    "    if not col in dfok.columns:\n",
    "        bethouses.remove(bethouse)\n",
    "        \n",
    "print (bethouses)"
   ]
  },
  {
   "cell_type": "code",
   "execution_count": 14,
   "metadata": {},
   "outputs": [
    {
     "name": "stdout",
     "output_type": "stream",
     "text": [
      "\n",
      "B365H : 5.75  BWH : 5.0  IWH : 4.7  LBH : 5.2  VCH : 5.5  WHH : 4.75  \n",
      "Count: 6  Sum: 30.9  Max: 5.75  Min: 4.7  Mean: 5.1499999999999995\n",
      "Diver Max:   0.11650485436893221  Diver Min:   0.08737864077669888  Divergence:  0.11650485436893221\n",
      "\n",
      "B365D : 3.8  BWD : 4.0  IWD : 3.6  LBD : 3.7  VCD : 3.9  WHD : 3.75  \n",
      "Count: 6  Sum: 22.75  Max: 4.0  Min: 3.6  Mean: 3.7916666666666665\n",
      "Diver Max:   0.05494505494505497  Diver Min:   0.05054945054945048  Divergence:  0.11650485436893221\n",
      "\n",
      "B365A : 1.6  BWA : 1.67  IWA : 1.7  LBA : 1.61  VCA : 1.62  WHA : 1.67  \n",
      "Count: 6  Sum: 9.87  Max: 1.7  Min: 1.6  Mean: 1.6449999999999998\n",
      "Diver Max:   0.033434650455927084  Diver Min:   0.027355623100303816  Divergence:  0.11650485436893221\n"
     ]
    }
   ],
   "source": [
    "# Divergence calculation simulation\n",
    "match = dfok.take(1)[0]\n",
    "\n",
    "resultList = ['H','D','A']\n",
    "divergence = 0\n",
    "for result in resultList:\n",
    "    print ()\n",
    "    min = 1000\n",
    "    max = 0\n",
    "    sum = 0\n",
    "    count = 0\n",
    "    for bethouse in bethouses:\n",
    "        col = bethouse + result\n",
    "        val = match[col]\n",
    "        if not val is None:\n",
    "            print (col, ':', val, end='  ')\n",
    "            sum = sum + val\n",
    "            count = count + 1\n",
    "            if val > max:\n",
    "                max = val\n",
    "            if val < min:\n",
    "                min = val\n",
    "    mean = sum/count\n",
    "    diverMax = (max / mean) - 1\n",
    "    if diverMax > divergence:\n",
    "        divergence = diverMax\n",
    "    diverMin = abs((min / mean) - 1)\n",
    "    if diverMin > divergence:\n",
    "        divergence = diverMin\n",
    "    \n",
    "    print ('\\nCount:', count, end='  ')\n",
    "    print ('Sum:', sum, end='  ')\n",
    "    print ('Max:', max, end='  ')\n",
    "    print ('Min:', min, end='  ')\n",
    "    print ('Mean:', mean)\n",
    "    print ('Diver Max:  ', diverMax, end='  ')\n",
    "    print ('Diver Min:  ', diverMin, end='  ')\n",
    "    print ('Divergence: ', divergence)\n",
    "       "
   ]
  },
  {
   "cell_type": "code",
   "execution_count": 15,
   "metadata": {},
   "outputs": [],
   "source": [
    "def filterBetHouses(df, bethouses):\n",
    "    for bethouse in bethouses:\n",
    "        col = bethouse + 'H'\n",
    "        if not col in df.columns:\n",
    "            bethouses.remove(bethouse)\n",
    "\n",
    "    return bethouses"
   ]
  },
  {
   "cell_type": "code",
   "execution_count": 16,
   "metadata": {
    "collapsed": true
   },
   "outputs": [],
   "source": [
    "def calcDivergence(match, bethouses) :\n",
    "    resultList = ['H','D','A']\n",
    "    divergence = 0\n",
    "    for result in resultList:\n",
    "        min = 1000\n",
    "        max = 0\n",
    "        sum = 0\n",
    "        count = 0\n",
    "        for bethouse in bethouses:\n",
    "            col = bethouse + result\n",
    "            val = match[col]\n",
    "            if not val is None:\n",
    "                sum = sum + val\n",
    "                count = count + 1\n",
    "                if val > max:\n",
    "                    max = val\n",
    "                if val < min:\n",
    "                    min = val\n",
    "        mean = sum/count\n",
    "        diverMax = (max / mean) - 1\n",
    "        if diverMax > divergence:\n",
    "            divergence = diverMax\n",
    "        diverMin = abs((min / mean) - 1)\n",
    "        if diverMin > divergence:\n",
    "            divergence = diverMin\n",
    "            \n",
    "    return divergence"
   ]
  },
  {
   "cell_type": "code",
   "execution_count": 19,
   "metadata": {},
   "outputs": [
    {
     "name": "stdout",
     "output_type": "stream",
     "text": [
      "Bet Housess: ['B365', 'BW', 'IW', 'LB', 'VC', 'WH']\n"
     ]
    },
    {
     "data": {
      "text/plain": [
       "[(Row(Country='Belgium', Competition='JupilerLeague', Season='2017-2018', Div='B1', Date=datetime.date(2017, 7, 28), HomeTeam='Antwerp', AwayTeam='Anderlecht', FTR='D', B365H=5.75, B365D=3.8, B365A=1.6, BWH=5.0, BWD=4.0, BWA=1.67, IWH=4.7, IWD=3.6, IWA=1.7, LBH=5.2, LBD=3.7, LBA=1.61, VCH=5.5, VCD=3.9, VCA=1.62, WHH=4.75, WHD=3.75, WHA=1.67),\n",
       "  0.11650485436893221),\n",
       " (Row(Country='Belgium', Competition='JupilerLeague', Season='2017-2018', Div='B1', Date=datetime.date(2017, 7, 29), HomeTeam='Charleroi', AwayTeam='Kortrijk', FTR='H', B365H=1.62, B365D=3.75, B365A=5.5, BWH=1.67, BWD=3.7, BWA=5.5, IWH=1.6, IWD=3.7, IWA=5.4, LBH=1.61, LBD=3.6, LBA=5.2, VCH=1.65, VCD=3.8, VCA=5.25, WHH=1.65, WHD=3.75, WHA=4.8),\n",
       "  0.09004739336492884),\n",
       " (Row(Country='Belgium', Competition='JupilerLeague', Season='2017-2018', Div='B1', Date=datetime.date(2017, 7, 29), HomeTeam='Eupen', AwayTeam='Waregem', FTR='A', B365H=2.6, B365D=3.4, B365A=2.6, BWH=2.7, BWD=3.4, BWA=2.6, IWH=2.65, IWD=3.3, IWA=2.5, LBH=2.55, LBD=3.3, LBA=2.5, VCH=2.63, VCD=3.4, VCA=2.6, WHH=2.6, WHD=3.4, WHA=2.5),\n",
       "  0.029879211697393604),\n",
       " (Row(Country='Belgium', Competition='JupilerLeague', Season='2017-2018', Div='B1', Date=datetime.date(2017, 7, 29), HomeTeam='Genk', AwayTeam='Waasland-Beveren', FTR='D', B365H=1.4, B365D=4.75, B365A=7.0, BWH=1.42, BWD=4.6, BWA=7.75, IWH=1.4, IWD=4.4, IWA=7.3, LBH=1.36, LBD=4.5, LBA=8.0, VCH=1.36, VCD=4.75, VCA=8.5, WHH=1.4, WHD=4.5, WHA=7.0),\n",
       "  0.1196487376509332),\n",
       " (Row(Country='Belgium', Competition='JupilerLeague', Season='2017-2018', Div='B1', Date=datetime.date(2017, 7, 29), HomeTeam='Lokeren', AwayTeam='Club Brugge', FTR='A', B365H=4.2, B365D=3.6, B365A=1.83, BWH=4.25, BWD=3.7, BWA=1.83, IWH=4.2, IWD=3.5, IWA=1.8, LBH=4.0, LBD=3.4, LBA=1.83, VCH=4.2, VCD=3.6, VCA=1.83, WHH=4.33, WHD=3.6, WHA=1.75),\n",
       "  0.04686258935663212)]"
      ]
     },
     "execution_count": 19,
     "metadata": {},
     "output_type": "execute_result"
    }
   ],
   "source": [
    "# Map divergence\n",
    "bethouses = filterBetHouses(dfok, bethouses)\n",
    "rdddiver = dfok.rdd.map(lambda match: (match, calcDivergence(match, bethouses)))\n",
    "print (\"Bet Housess:\", bethouses)\n",
    "rdddiver.take(5)"
   ]
  },
  {
   "cell_type": "code",
   "execution_count": 20,
   "metadata": {},
   "outputs": [
    {
     "ename": "ValueError",
     "evalue": "Cannot convert column into bool: please use '&' for 'and', '|' for 'or', '~' for 'not' when building DataFrame boolean expressions.",
     "output_type": "error",
     "traceback": [
      "\u001b[1;31m---------------------------------------------------------------------------\u001b[0m",
      "\u001b[1;31mValueError\u001b[0m                                Traceback (most recent call last)",
      "\u001b[1;32m<ipython-input-20-825d9360a456>\u001b[0m in \u001b[0;36m<module>\u001b[1;34m()\u001b[0m\n\u001b[0;32m      1\u001b[0m \u001b[1;31m# Help me: Trying to addcolumn in DataFrame\u001b[0m\u001b[1;33m\u001b[0m\u001b[1;33m\u001b[0m\u001b[0m\n\u001b[0;32m      2\u001b[0m \u001b[1;31m# Option 1\u001b[0m\u001b[1;33m\u001b[0m\u001b[1;33m\u001b[0m\u001b[0m\n\u001b[1;32m----> 3\u001b[1;33m \u001b[0mdfdiver\u001b[0m \u001b[1;33m=\u001b[0m \u001b[0mdfok\u001b[0m\u001b[1;33m.\u001b[0m\u001b[0mwithColumn\u001b[0m\u001b[1;33m(\u001b[0m\u001b[1;34m'Divergence'\u001b[0m\u001b[1;33m,\u001b[0m \u001b[0mcalcDivergence\u001b[0m\u001b[1;33m(\u001b[0m\u001b[0mdfok\u001b[0m\u001b[1;33m,\u001b[0m \u001b[0mbethouses\u001b[0m\u001b[1;33m)\u001b[0m\u001b[1;33m)\u001b[0m\u001b[1;33m\u001b[0m\u001b[0m\n\u001b[0m\u001b[0;32m      4\u001b[0m \u001b[0mdfdiver\u001b[0m\u001b[1;33m.\u001b[0m\u001b[0mshow\u001b[0m\u001b[1;33m(\u001b[0m\u001b[1;36m5\u001b[0m\u001b[1;33m)\u001b[0m\u001b[1;33m\u001b[0m\u001b[0m\n",
      "\u001b[1;32m<ipython-input-16-db0e796ed05e>\u001b[0m in \u001b[0;36mcalcDivergence\u001b[1;34m(match, bethouses)\u001b[0m\n\u001b[0;32m     13\u001b[0m                 \u001b[0msum\u001b[0m \u001b[1;33m=\u001b[0m \u001b[0msum\u001b[0m \u001b[1;33m+\u001b[0m \u001b[0mval\u001b[0m\u001b[1;33m\u001b[0m\u001b[0m\n\u001b[0;32m     14\u001b[0m                 \u001b[0mcount\u001b[0m \u001b[1;33m=\u001b[0m \u001b[0mcount\u001b[0m \u001b[1;33m+\u001b[0m \u001b[1;36m1\u001b[0m\u001b[1;33m\u001b[0m\u001b[0m\n\u001b[1;32m---> 15\u001b[1;33m                 \u001b[1;32mif\u001b[0m \u001b[0mval\u001b[0m \u001b[1;33m>\u001b[0m \u001b[0mmax\u001b[0m\u001b[1;33m:\u001b[0m\u001b[1;33m\u001b[0m\u001b[0m\n\u001b[0m\u001b[0;32m     16\u001b[0m                     \u001b[0mmax\u001b[0m \u001b[1;33m=\u001b[0m \u001b[0mval\u001b[0m\u001b[1;33m\u001b[0m\u001b[0m\n\u001b[0;32m     17\u001b[0m                 \u001b[1;32mif\u001b[0m \u001b[0mval\u001b[0m \u001b[1;33m<\u001b[0m \u001b[0mmin\u001b[0m\u001b[1;33m:\u001b[0m\u001b[1;33m\u001b[0m\u001b[0m\n",
      "\u001b[1;32mC:\\Java\\anaconda3\\lib\\site-packages\\pyspark\\sql\\column.py\u001b[0m in \u001b[0;36m__nonzero__\u001b[1;34m(self)\u001b[0m\n\u001b[0;32m    633\u001b[0m \u001b[1;33m\u001b[0m\u001b[0m\n\u001b[0;32m    634\u001b[0m     \u001b[1;32mdef\u001b[0m \u001b[0m__nonzero__\u001b[0m\u001b[1;33m(\u001b[0m\u001b[0mself\u001b[0m\u001b[1;33m)\u001b[0m\u001b[1;33m:\u001b[0m\u001b[1;33m\u001b[0m\u001b[0m\n\u001b[1;32m--> 635\u001b[1;33m         raise ValueError(\"Cannot convert column into bool: please use '&' for 'and', '|' for 'or', \"\n\u001b[0m\u001b[0;32m    636\u001b[0m                          \"'~' for 'not' when building DataFrame boolean expressions.\")\n\u001b[0;32m    637\u001b[0m     \u001b[0m__bool__\u001b[0m \u001b[1;33m=\u001b[0m \u001b[0m__nonzero__\u001b[0m\u001b[1;33m\u001b[0m\u001b[0m\n",
      "\u001b[1;31mValueError\u001b[0m: Cannot convert column into bool: please use '&' for 'and', '|' for 'or', '~' for 'not' when building DataFrame boolean expressions."
     ]
    }
   ],
   "source": [
    "# Help me: Trying to addcolumn in DataFrame\n",
    "# Option 1\n",
    "dfdiver = dfok.withColumn('Divergence', calcDivergence(dfok, bethouses))\n",
    "dfdiver.show(5)"
   ]
  },
  {
   "cell_type": "code",
   "execution_count": 21,
   "metadata": {},
   "outputs": [
    {
     "ename": "TypeError",
     "evalue": "Invalid argument, not a string or column: DataFrame[Country: string, Competition: string, Season: string, Div: string, Date: date, HomeTeam: string, AwayTeam: string, FTR: string, B365H: double, B365D: double, B365A: double, BWH: double, BWD: double, BWA: double, IWH: double, IWD: double, IWA: double, LBH: double, LBD: double, LBA: double, VCH: double, VCD: double, VCA: double, WHH: double, WHD: double, WHA: double] of type <class 'pyspark.sql.dataframe.DataFrame'>. For column literals, use 'lit', 'array', 'struct' or 'create_map' function.",
     "output_type": "error",
     "traceback": [
      "\u001b[1;31m---------------------------------------------------------------------------\u001b[0m",
      "\u001b[1;31mTypeError\u001b[0m                                 Traceback (most recent call last)",
      "\u001b[1;32m<ipython-input-21-adcef6116ba9>\u001b[0m in \u001b[0;36m<module>\u001b[1;34m()\u001b[0m\n\u001b[0;32m      1\u001b[0m \u001b[1;31m# Option 2\u001b[0m\u001b[1;33m\u001b[0m\u001b[1;33m\u001b[0m\u001b[0m\n\u001b[0;32m      2\u001b[0m \u001b[0mto_diver\u001b[0m \u001b[1;33m=\u001b[0m \u001b[0mudf\u001b[0m\u001b[1;33m(\u001b[0m\u001b[1;32mlambda\u001b[0m \u001b[0mmatch\u001b[0m\u001b[1;33m:\u001b[0m \u001b[0mcalcDivergence\u001b[0m\u001b[1;33m(\u001b[0m\u001b[0mmatch\u001b[0m\u001b[1;33m,\u001b[0m \u001b[0mbethouses\u001b[0m\u001b[1;33m,\u001b[0m \u001b[0mDecimalType\u001b[0m\u001b[1;33m(\u001b[0m\u001b[1;33m)\u001b[0m\u001b[1;33m)\u001b[0m\u001b[1;33m)\u001b[0m\u001b[1;33m\u001b[0m\u001b[0m\n\u001b[1;32m----> 3\u001b[1;33m \u001b[0mdfdiver\u001b[0m \u001b[1;33m=\u001b[0m \u001b[0mdfok\u001b[0m\u001b[1;33m.\u001b[0m\u001b[0mwithColumn\u001b[0m\u001b[1;33m(\u001b[0m\u001b[1;34m'Divergence'\u001b[0m\u001b[1;33m,\u001b[0m \u001b[0mto_diver\u001b[0m\u001b[1;33m(\u001b[0m\u001b[0mdfok\u001b[0m\u001b[1;33m)\u001b[0m\u001b[1;33m)\u001b[0m\u001b[1;33m\u001b[0m\u001b[0m\n\u001b[0m\u001b[0;32m      4\u001b[0m \u001b[0mdfdiver\u001b[0m\u001b[1;33m.\u001b[0m\u001b[0mshow\u001b[0m\u001b[1;33m(\u001b[0m\u001b[1;36m5\u001b[0m\u001b[1;33m)\u001b[0m\u001b[1;33m\u001b[0m\u001b[0m\n",
      "\u001b[1;32mC:\\Java\\anaconda3\\lib\\site-packages\\pyspark\\sql\\udf.py\u001b[0m in \u001b[0;36mwrapper\u001b[1;34m(*args)\u001b[0m\n\u001b[0;32m    186\u001b[0m         \u001b[1;33m@\u001b[0m\u001b[0mfunctools\u001b[0m\u001b[1;33m.\u001b[0m\u001b[0mwraps\u001b[0m\u001b[1;33m(\u001b[0m\u001b[0mself\u001b[0m\u001b[1;33m.\u001b[0m\u001b[0mfunc\u001b[0m\u001b[1;33m,\u001b[0m \u001b[0massigned\u001b[0m\u001b[1;33m=\u001b[0m\u001b[0massignments\u001b[0m\u001b[1;33m)\u001b[0m\u001b[1;33m\u001b[0m\u001b[0m\n\u001b[0;32m    187\u001b[0m         \u001b[1;32mdef\u001b[0m \u001b[0mwrapper\u001b[0m\u001b[1;33m(\u001b[0m\u001b[1;33m*\u001b[0m\u001b[0margs\u001b[0m\u001b[1;33m)\u001b[0m\u001b[1;33m:\u001b[0m\u001b[1;33m\u001b[0m\u001b[0m\n\u001b[1;32m--> 188\u001b[1;33m             \u001b[1;32mreturn\u001b[0m \u001b[0mself\u001b[0m\u001b[1;33m(\u001b[0m\u001b[1;33m*\u001b[0m\u001b[0margs\u001b[0m\u001b[1;33m)\u001b[0m\u001b[1;33m\u001b[0m\u001b[0m\n\u001b[0m\u001b[0;32m    189\u001b[0m \u001b[1;33m\u001b[0m\u001b[0m\n\u001b[0;32m    190\u001b[0m         \u001b[0mwrapper\u001b[0m\u001b[1;33m.\u001b[0m\u001b[0m__name__\u001b[0m \u001b[1;33m=\u001b[0m \u001b[0mself\u001b[0m\u001b[1;33m.\u001b[0m\u001b[0m_name\u001b[0m\u001b[1;33m\u001b[0m\u001b[0m\n",
      "\u001b[1;32mC:\\Java\\anaconda3\\lib\\site-packages\\pyspark\\sql\\udf.py\u001b[0m in \u001b[0;36m__call__\u001b[1;34m(self, *cols)\u001b[0m\n\u001b[0;32m    166\u001b[0m         \u001b[0mjudf\u001b[0m \u001b[1;33m=\u001b[0m \u001b[0mself\u001b[0m\u001b[1;33m.\u001b[0m\u001b[0m_judf\u001b[0m\u001b[1;33m\u001b[0m\u001b[0m\n\u001b[0;32m    167\u001b[0m         \u001b[0msc\u001b[0m \u001b[1;33m=\u001b[0m \u001b[0mSparkContext\u001b[0m\u001b[1;33m.\u001b[0m\u001b[0m_active_spark_context\u001b[0m\u001b[1;33m\u001b[0m\u001b[0m\n\u001b[1;32m--> 168\u001b[1;33m         \u001b[1;32mreturn\u001b[0m \u001b[0mColumn\u001b[0m\u001b[1;33m(\u001b[0m\u001b[0mjudf\u001b[0m\u001b[1;33m.\u001b[0m\u001b[0mapply\u001b[0m\u001b[1;33m(\u001b[0m\u001b[0m_to_seq\u001b[0m\u001b[1;33m(\u001b[0m\u001b[0msc\u001b[0m\u001b[1;33m,\u001b[0m \u001b[0mcols\u001b[0m\u001b[1;33m,\u001b[0m \u001b[0m_to_java_column\u001b[0m\u001b[1;33m)\u001b[0m\u001b[1;33m)\u001b[0m\u001b[1;33m)\u001b[0m\u001b[1;33m\u001b[0m\u001b[0m\n\u001b[0m\u001b[0;32m    169\u001b[0m \u001b[1;33m\u001b[0m\u001b[0m\n\u001b[0;32m    170\u001b[0m     \u001b[1;31m# This function is for improving the online help system in the interactive interpreter.\u001b[0m\u001b[1;33m\u001b[0m\u001b[1;33m\u001b[0m\u001b[0m\n",
      "\u001b[1;32mC:\\Java\\anaconda3\\lib\\site-packages\\pyspark\\sql\\column.py\u001b[0m in \u001b[0;36m_to_seq\u001b[1;34m(sc, cols, converter)\u001b[0m\n\u001b[0;32m     64\u001b[0m     \"\"\"\n\u001b[0;32m     65\u001b[0m     \u001b[1;32mif\u001b[0m \u001b[0mconverter\u001b[0m\u001b[1;33m:\u001b[0m\u001b[1;33m\u001b[0m\u001b[0m\n\u001b[1;32m---> 66\u001b[1;33m         \u001b[0mcols\u001b[0m \u001b[1;33m=\u001b[0m \u001b[1;33m[\u001b[0m\u001b[0mconverter\u001b[0m\u001b[1;33m(\u001b[0m\u001b[0mc\u001b[0m\u001b[1;33m)\u001b[0m \u001b[1;32mfor\u001b[0m \u001b[0mc\u001b[0m \u001b[1;32min\u001b[0m \u001b[0mcols\u001b[0m\u001b[1;33m]\u001b[0m\u001b[1;33m\u001b[0m\u001b[0m\n\u001b[0m\u001b[0;32m     67\u001b[0m     \u001b[1;32mreturn\u001b[0m \u001b[0msc\u001b[0m\u001b[1;33m.\u001b[0m\u001b[0m_jvm\u001b[0m\u001b[1;33m.\u001b[0m\u001b[0mPythonUtils\u001b[0m\u001b[1;33m.\u001b[0m\u001b[0mtoSeq\u001b[0m\u001b[1;33m(\u001b[0m\u001b[0mcols\u001b[0m\u001b[1;33m)\u001b[0m\u001b[1;33m\u001b[0m\u001b[0m\n\u001b[0;32m     68\u001b[0m \u001b[1;33m\u001b[0m\u001b[0m\n",
      "\u001b[1;32mC:\\Java\\anaconda3\\lib\\site-packages\\pyspark\\sql\\column.py\u001b[0m in \u001b[0;36m<listcomp>\u001b[1;34m(.0)\u001b[0m\n\u001b[0;32m     64\u001b[0m     \"\"\"\n\u001b[0;32m     65\u001b[0m     \u001b[1;32mif\u001b[0m \u001b[0mconverter\u001b[0m\u001b[1;33m:\u001b[0m\u001b[1;33m\u001b[0m\u001b[0m\n\u001b[1;32m---> 66\u001b[1;33m         \u001b[0mcols\u001b[0m \u001b[1;33m=\u001b[0m \u001b[1;33m[\u001b[0m\u001b[0mconverter\u001b[0m\u001b[1;33m(\u001b[0m\u001b[0mc\u001b[0m\u001b[1;33m)\u001b[0m \u001b[1;32mfor\u001b[0m \u001b[0mc\u001b[0m \u001b[1;32min\u001b[0m \u001b[0mcols\u001b[0m\u001b[1;33m]\u001b[0m\u001b[1;33m\u001b[0m\u001b[0m\n\u001b[0m\u001b[0;32m     67\u001b[0m     \u001b[1;32mreturn\u001b[0m \u001b[0msc\u001b[0m\u001b[1;33m.\u001b[0m\u001b[0m_jvm\u001b[0m\u001b[1;33m.\u001b[0m\u001b[0mPythonUtils\u001b[0m\u001b[1;33m.\u001b[0m\u001b[0mtoSeq\u001b[0m\u001b[1;33m(\u001b[0m\u001b[0mcols\u001b[0m\u001b[1;33m)\u001b[0m\u001b[1;33m\u001b[0m\u001b[0m\n\u001b[0;32m     68\u001b[0m \u001b[1;33m\u001b[0m\u001b[0m\n",
      "\u001b[1;32mC:\\Java\\anaconda3\\lib\\site-packages\\pyspark\\sql\\column.py\u001b[0m in \u001b[0;36m_to_java_column\u001b[1;34m(col)\u001b[0m\n\u001b[0;32m     52\u001b[0m             \u001b[1;34m\"{0} of type {1}. \"\u001b[0m\u001b[1;33m\u001b[0m\u001b[0m\n\u001b[0;32m     53\u001b[0m             \u001b[1;34m\"For column literals, use 'lit', 'array', 'struct' or 'create_map' \"\u001b[0m\u001b[1;33m\u001b[0m\u001b[0m\n\u001b[1;32m---> 54\u001b[1;33m             \"function.\".format(col, type(col)))\n\u001b[0m\u001b[0;32m     55\u001b[0m     \u001b[1;32mreturn\u001b[0m \u001b[0mjcol\u001b[0m\u001b[1;33m\u001b[0m\u001b[0m\n\u001b[0;32m     56\u001b[0m \u001b[1;33m\u001b[0m\u001b[0m\n",
      "\u001b[1;31mTypeError\u001b[0m: Invalid argument, not a string or column: DataFrame[Country: string, Competition: string, Season: string, Div: string, Date: date, HomeTeam: string, AwayTeam: string, FTR: string, B365H: double, B365D: double, B365A: double, BWH: double, BWD: double, BWA: double, IWH: double, IWD: double, IWA: double, LBH: double, LBD: double, LBA: double, VCH: double, VCD: double, VCA: double, WHH: double, WHD: double, WHA: double] of type <class 'pyspark.sql.dataframe.DataFrame'>. For column literals, use 'lit', 'array', 'struct' or 'create_map' function."
     ]
    }
   ],
   "source": [
    "# Option 2\n",
    "to_diver = udf(lambda match: calcDivergence(match, bethouses, DecimalType()))\n",
    "dfdiver = dfok.withColumn('Divergence', to_diver(dfok))\n",
    "dfdiver.show(5)"
   ]
  },
  {
   "cell_type": "code",
   "execution_count": 22,
   "metadata": {},
   "outputs": [
    {
     "data": {
      "text/plain": [
       "[(Row(Country='France', Competition='LeChampionnat', Season='2017-2018', Div='F1', Date=datetime.date(2018, 4, 29), HomeTeam='Paris SG', AwayTeam='Guingamp', FTR='D', B365H=1.08, B365D=11.0, B365A=26.0, BWH=1.07, BWD=12.0, BWA=29.0, IWH=1.1, IWD=8.0, IWA=20.0, LBH=1.08, LBD=12.0, LBA=34.0, VCH=1.06, VCD=13.0, VCA=46.0, WHH=1.11, WHD=8.5, WHA=21.0),\n",
       "  0.5681818181818183),\n",
       " (Row(Country='France', Competition='LeChampionnat', Season='2017-2018', Div='F1', Date=datetime.date(2017, 12, 20), HomeTeam='Paris SG', AwayTeam='Caen', FTR='H', B365H=1.07, B365D=12.0, B365A=29.0, BWH=1.08, BWD=11.5, BWA=26.0, IWH=1.1, IWD=8.0, IWA=20.0, LBH=1.07, LBD=12.0, LBA=41.0, VCH=1.05, VCD=13.0, VCA=51.0, WHH=1.06, WHD=12.0, WHA=29.0),\n",
       "  0.5612244897959184),\n",
       " (Row(Country='Portugal', Competition='Liga1', Season='2017-2018', Div='P1', Date=datetime.date(2018, 4, 28), HomeTeam='Benfica', AwayTeam='Tondela', FTR='A', B365H=1.12, B365D=8.0, B365A=19.0, BWH=1.08, BWD=9.5, BWA=23.0, IWH=1.08, IWD=10.0, IWA=25.0, LBH=1.08, LBD=10.0, LBA=41.0, VCH=1.07, VCD=11.5, VCA=34.0, WHH=1.1, WHD=8.0, WHA=17.0),\n",
       "  0.5471698113207548),\n",
       " (Row(Country='Greece', Competition='EthnikiKatigoria', Season='2017-2018', Div='G1', Date=datetime.date(2018, 4, 22), HomeTeam='Atromitos', AwayTeam='Platanias', FTR='H', B365H=1.12, B365D=7.0, B365A=15.0, BWH=1.1, BWD=9.5, BWA=29.0, IWH=1.09, IWD=8.0, IWA=31.0, LBH=1.09, LBD=9.0, LBA=46.0, VCH=1.07, VCD=9.0, VCA=29.0, WHH=1.05, WHD=11.0, WHA=29.0),\n",
       "  0.5418994413407823),\n",
       " (Row(Country='Netherlands', Competition='Eredivisie', Season='2017-2018', Div='N1', Date=datetime.date(2017, 11, 26), HomeTeam='Ajax', AwayTeam='Roda', FTR='H', B365H=1.06, B365D=11.0, B365A=29.0, BWH=1.06, BWD=13.0, BWA=29.0, IWH=1.07, IWD=9.5, IWA=22.0, LBH=1.06, LBD=13.0, LBA=46.0, VCH=1.05, VCD=15.0, VCA=31.0, WHH=1.05, WHD=12.0, WHA=23.0),\n",
       "  0.5333333333333334)]"
      ]
     },
     "execution_count": 22,
     "metadata": {},
     "output_type": "execute_result"
    }
   ],
   "source": [
    "# Top N highest divergence\n",
    "rdddiver.top(5, key=lambda match: match[1])"
   ]
  },
  {
   "cell_type": "code",
   "execution_count": 23,
   "metadata": {},
   "outputs": [
    {
     "data": {
      "text/plain": [
       "[(Row(Country='Spain', Competition='Primera', Season='2017-2018', Div='SP1', Date=datetime.date(2018, 1, 4), HomeTeam='Leganes', AwayTeam='Valencia', FTR='A', B365H=3.75, B365D=3.39, B365A=2.0, BWH=3.8, BWD=3.25, BWA=2.0, IWH=3.8, IWD=3.4, IWA=2.0, LBH=3.75, LBD=3.25, LBA=2.05, VCH=3.75, VCD=3.4, VCA=2.05, WHH=3.75, WHD=3.25, WHA=2.05),\n",
       "  0.02306920762286846),\n",
       " (Row(Country='England', Competition='Premier', Season='2017-2018', Div='E0', Date=datetime.date(2018, 10, 3), HomeTeam='Newcastle', AwayTeam='Southampton', FTR='H', B365H=2.79, B365D=3.2, B365A=2.79, BWH=2.7, BWD=3.1, BWA=2.8, IWH=2.7, IWD=3.2, IWA=2.7, LBH=2.7, LBD=3.1, LBA=2.7, VCH=2.8, VCD=3.2, VCA=2.8, WHH=2.8, WHD=3.1, WHA=2.8),\n",
       "  0.023508137432188048),\n",
       " (Row(Country='Germany', Competition='Liga2', Season='2017-2018', Div='D2', Date=datetime.date(2017, 3, 12), HomeTeam='Bochum', AwayTeam='Union Berlin', FTR='H', B365H=2.62, B365D=3.39, B365A=2.54, BWH=2.7, BWD=3.3, BWA=2.6, IWH=2.65, IWD=3.3, IWA=2.5, LBH=2.6, LBD=3.3, LBA=2.5, VCH=2.7, VCD=3.4, VCA=2.6, WHH=2.6, WHD=3.4, WHA=2.5),\n",
       "  0.023622047244094446),\n",
       " (Row(Country='France', Competition='LeChampionnat', Season='2017-2018', Div='F1', Date=datetime.date(2017, 9, 9), HomeTeam='Troyes', AwayTeam='Toulouse', FTR='D', B365H=2.88, B365D=3.2, B365A=2.6, BWH=2.85, BWD=3.25, BWA=2.55, IWH=2.8, IWD=3.1, IWA=2.5, LBH=2.87, LBD=3.1, LBA=2.5, VCH=2.9, VCD=3.2, VCA=2.6, WHH=2.88, WHD=3.2, WHA=2.5),\n",
       "  0.023622047244094557),\n",
       " (Row(Country='Germany', Competition='Liga2', Season='2017-2018', Div='D2', Date=datetime.date(2017, 7, 28), HomeTeam='Bochum', AwayTeam='St Pauli', FTR='A', B365H=2.38, B365D=3.3, B365A=2.9, BWH=2.45, BWD=3.3, BWA=2.85, IWH=2.4, IWD=3.2, IWA=2.85, LBH=2.37, LBD=3.2, LBA=2.87, VCH=2.38, VCD=3.3, VCA=2.9, WHH=2.38, WHD=3.2, WHA=2.88),\n",
       "  0.023676880222841312)]"
      ]
     },
     "execution_count": 23,
     "metadata": {},
     "output_type": "execute_result"
    }
   ],
   "source": [
    "rdddiver.top(5, key=lambda match: -match[1])"
   ]
  },
  {
   "cell_type": "code",
   "execution_count": null,
   "metadata": {
    "collapsed": true
   },
   "outputs": [],
   "source": []
  },
  {
   "cell_type": "code",
   "execution_count": null,
   "metadata": {
    "collapsed": true
   },
   "outputs": [],
   "source": []
  }
 ],
 "metadata": {
  "kernelspec": {
   "display_name": "Python 3",
   "language": "python",
   "name": "python3"
  },
  "language_info": {
   "codemirror_mode": {
    "name": "ipython",
    "version": 3
   },
   "file_extension": ".py",
   "mimetype": "text/x-python",
   "name": "python",
   "nbconvert_exporter": "python",
   "pygments_lexer": "ipython3",
   "version": "3.6.3"
  }
 },
 "nbformat": 4,
 "nbformat_minor": 2
}
