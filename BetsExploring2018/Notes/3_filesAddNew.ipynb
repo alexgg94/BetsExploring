{
 "cells": [
  {
   "cell_type": "code",
   "execution_count": 1,
   "metadata": {
    "collapsed": true
   },
   "outputs": [],
   "source": [
    "# Add new information to unified dataset\n",
    "\n"
   ]
  },
  {
   "cell_type": "code",
   "execution_count": 16,
   "metadata": {
    "collapsed": true
   },
   "outputs": [],
   "source": [
    "import json\n",
    "import os.path\n",
    "import sys\n",
    "import csv\n",
    "import numpy as np\n",
    "import pandas as pd\n",
    "from colorama import Fore"
   ]
  },
  {
   "cell_type": "code",
   "execution_count": 36,
   "metadata": {
    "collapsed": true
   },
   "outputs": [],
   "source": [
    "pathori = \"../Data/Raw/Main/\"\n",
    "pathtemp = \"../Data/Interim/\"\n",
    "pathdest = \"../Data/Processed/\"\n",
    "filetemp = \"main_competitions.csv\"\n",
    "filenew = \"main_competitions_new.csv\"\n",
    "filedest = \"main_competitions.csv\""
   ]
  },
  {
   "cell_type": "code",
   "execution_count": 18,
   "metadata": {},
   "outputs": [
    {
     "data": {
      "text/plain": [
       "(106839, 20)"
      ]
     },
     "execution_count": 18,
     "metadata": {},
     "output_type": "execute_result"
    }
   ],
   "source": [
    "# Read main dataset\n",
    "url=pathtemp + filetemp\n",
    "#print (Fore.BLACK + url)\n",
    "\n",
    "parse_dates=[\"Date\"]\n",
    "dsmain = pd.read_csv(url, parse_dates=parse_dates, index_col=False)\n",
    "dsmain.shape"
   ]
  },
  {
   "cell_type": "code",
   "execution_count": 19,
   "metadata": {},
   "outputs": [
    {
     "data": {
      "text/plain": [
       "(3549, 20)"
      ]
     },
     "execution_count": 19,
     "metadata": {},
     "output_type": "execute_result"
    }
   ],
   "source": [
    "# Read new dataset\n",
    "url=pathtemp + filenew\n",
    "#print (Fore.BLACK + url)\n",
    "\n",
    "parse_dates=[\"Date\"]\n",
    "dsnew = pd.read_csv(url, parse_dates=parse_dates, index_col=False)\n",
    "dsnew.shape"
   ]
  },
  {
   "cell_type": "code",
   "execution_count": 20,
   "metadata": {},
   "outputs": [
    {
     "data": {
      "text/plain": [
       "Index(['Country', 'Competition', 'Season', 'Div', 'Date', 'HomeTeam',\n",
       "       'AwayTeam', 'FTR', 'WHH', 'WHD', 'WHA', 'SBH', 'SBD', 'SBA', 'IWH',\n",
       "       'IWD', 'IWA', 'GBH', 'GBD', 'GBA'],\n",
       "      dtype='object')"
      ]
     },
     "execution_count": 20,
     "metadata": {},
     "output_type": "execute_result"
    }
   ],
   "source": [
    "dsmain.columns"
   ]
  },
  {
   "cell_type": "code",
   "execution_count": 21,
   "metadata": {},
   "outputs": [
    {
     "data": {
      "text/plain": [
       "(106839, 20)"
      ]
     },
     "execution_count": 21,
     "metadata": {},
     "output_type": "execute_result"
    }
   ],
   "source": [
    "dsjoin = dsmain.append(dsnew).drop_duplicates()\n",
    "dsjoin.shape"
   ]
  },
  {
   "cell_type": "code",
   "execution_count": 22,
   "metadata": {
    "collapsed": true
   },
   "outputs": [],
   "source": []
  },
  {
   "cell_type": "code",
   "execution_count": 25,
   "metadata": {},
   "outputs": [
    {
     "data": {
      "text/plain": [
       "2003-2004    2448\n",
       "2004-2005    1858\n",
       "2005-2006    7786\n",
       "2006-2007    7504\n",
       "2007-2008    6422\n",
       "2008-2009    7810\n",
       "2009-2010    7634\n",
       "2010-2011    7744\n",
       "2011-2012    7744\n",
       "2012-2013    7754\n",
       "2013-2014    7816\n",
       "2014-2015    7885\n",
       "2015-2016    7817\n",
       "2016-2017    7258\n",
       "2017-2018    7810\n",
       "2018-2019    3549\n",
       "Name: Season, dtype: int64"
      ]
     },
     "execution_count": 25,
     "metadata": {},
     "output_type": "execute_result"
    }
   ],
   "source": [
    "dsjoin['Season'].value_counts().sort_index()"
   ]
  },
  {
   "cell_type": "code",
   "execution_count": 33,
   "metadata": {},
   "outputs": [
    {
     "data": {
      "text/html": [
       "<div>\n",
       "<style>\n",
       "    .dataframe thead tr:only-child th {\n",
       "        text-align: right;\n",
       "    }\n",
       "\n",
       "    .dataframe thead th {\n",
       "        text-align: left;\n",
       "    }\n",
       "\n",
       "    .dataframe tbody tr th {\n",
       "        vertical-align: top;\n",
       "    }\n",
       "</style>\n",
       "<table border=\"1\" class=\"dataframe\">\n",
       "  <thead>\n",
       "    <tr>\n",
       "      <th></th>\n",
       "      <th></th>\n",
       "      <th colspan=\"3\" halign=\"left\">Season</th>\n",
       "    </tr>\n",
       "    <tr>\n",
       "      <th></th>\n",
       "      <th></th>\n",
       "      <th>min</th>\n",
       "      <th>max</th>\n",
       "      <th>count</th>\n",
       "    </tr>\n",
       "    <tr>\n",
       "      <th>Country</th>\n",
       "      <th>Competition</th>\n",
       "      <th></th>\n",
       "      <th></th>\n",
       "      <th></th>\n",
       "    </tr>\n",
       "  </thead>\n",
       "  <tbody>\n",
       "    <tr>\n",
       "      <th>Belgium</th>\n",
       "      <th>JupilerLeague</th>\n",
       "      <td>2003-2004</td>\n",
       "      <td>2018-2019</td>\n",
       "      <td>3812</td>\n",
       "    </tr>\n",
       "    <tr>\n",
       "      <th rowspan=\"5\" valign=\"top\">England</th>\n",
       "      <th>Championship</th>\n",
       "      <td>2003-2004</td>\n",
       "      <td>2018-2019</td>\n",
       "      <td>7993</td>\n",
       "    </tr>\n",
       "    <tr>\n",
       "      <th>Conference</th>\n",
       "      <td>2005-2006</td>\n",
       "      <td>2018-2019</td>\n",
       "      <td>6771</td>\n",
       "    </tr>\n",
       "    <tr>\n",
       "      <th>League1</th>\n",
       "      <td>2005-2006</td>\n",
       "      <td>2018-2019</td>\n",
       "      <td>7439</td>\n",
       "    </tr>\n",
       "    <tr>\n",
       "      <th>League2</th>\n",
       "      <td>2005-2006</td>\n",
       "      <td>2018-2019</td>\n",
       "      <td>7437</td>\n",
       "    </tr>\n",
       "    <tr>\n",
       "      <th>Premier</th>\n",
       "      <td>2005-2006</td>\n",
       "      <td>2018-2019</td>\n",
       "      <td>5111</td>\n",
       "    </tr>\n",
       "    <tr>\n",
       "      <th rowspan=\"2\" valign=\"top\">France</th>\n",
       "      <th>Division2</th>\n",
       "      <td>2004-2005</td>\n",
       "      <td>2018-2019</td>\n",
       "      <td>5121</td>\n",
       "    </tr>\n",
       "    <tr>\n",
       "      <th>LeChampionnat</th>\n",
       "      <td>2004-2005</td>\n",
       "      <td>2018-2019</td>\n",
       "      <td>5490</td>\n",
       "    </tr>\n",
       "    <tr>\n",
       "      <th rowspan=\"2\" valign=\"top\">Germany</th>\n",
       "      <th>Liga1</th>\n",
       "      <td>2004-2005</td>\n",
       "      <td>2018-2019</td>\n",
       "      <td>4419</td>\n",
       "    </tr>\n",
       "    <tr>\n",
       "      <th>Liga2</th>\n",
       "      <td>2005-2006</td>\n",
       "      <td>2018-2019</td>\n",
       "      <td>4131</td>\n",
       "    </tr>\n",
       "    <tr>\n",
       "      <th>Greece</th>\n",
       "      <th>EthnikiKatigoria</th>\n",
       "      <td>2003-2004</td>\n",
       "      <td>2018-2019</td>\n",
       "      <td>3605</td>\n",
       "    </tr>\n",
       "    <tr>\n",
       "      <th rowspan=\"2\" valign=\"top\">Italy</th>\n",
       "      <th>SerieA</th>\n",
       "      <td>2005-2006</td>\n",
       "      <td>2018-2019</td>\n",
       "      <td>5102</td>\n",
       "    </tr>\n",
       "    <tr>\n",
       "      <th>SerieB</th>\n",
       "      <td>2005-2006</td>\n",
       "      <td>2018-2019</td>\n",
       "      <td>6152</td>\n",
       "    </tr>\n",
       "    <tr>\n",
       "      <th>Netherlands</th>\n",
       "      <th>Eredivisie</th>\n",
       "      <td>2003-2004</td>\n",
       "      <td>2018-2019</td>\n",
       "      <td>4123</td>\n",
       "    </tr>\n",
       "    <tr>\n",
       "      <th>Portugal</th>\n",
       "      <th>Liga1</th>\n",
       "      <td>2004-2005</td>\n",
       "      <td>2018-2019</td>\n",
       "      <td>3636</td>\n",
       "    </tr>\n",
       "    <tr>\n",
       "      <th rowspan=\"4\" valign=\"top\">Scotland</th>\n",
       "      <th>Division1</th>\n",
       "      <td>2003-2004</td>\n",
       "      <td>2018-2019</td>\n",
       "      <td>2605</td>\n",
       "    </tr>\n",
       "    <tr>\n",
       "      <th>Division2</th>\n",
       "      <td>2003-2004</td>\n",
       "      <td>2018-2019</td>\n",
       "      <td>2785</td>\n",
       "    </tr>\n",
       "    <tr>\n",
       "      <th>Division3</th>\n",
       "      <td>2005-2006</td>\n",
       "      <td>2018-2019</td>\n",
       "      <td>2417</td>\n",
       "    </tr>\n",
       "    <tr>\n",
       "      <th>Premier</th>\n",
       "      <td>2005-2006</td>\n",
       "      <td>2018-2019</td>\n",
       "      <td>3068</td>\n",
       "    </tr>\n",
       "    <tr>\n",
       "      <th rowspan=\"2\" valign=\"top\">Spain</th>\n",
       "      <th>Primera</th>\n",
       "      <td>2003-2004</td>\n",
       "      <td>2018-2019</td>\n",
       "      <td>5480</td>\n",
       "    </tr>\n",
       "    <tr>\n",
       "      <th>Segunda</th>\n",
       "      <td>2005-2006</td>\n",
       "      <td>2018-2019</td>\n",
       "      <td>5744</td>\n",
       "    </tr>\n",
       "    <tr>\n",
       "      <th>Turkey</th>\n",
       "      <th>FutbolLigi1</th>\n",
       "      <td>2003-2004</td>\n",
       "      <td>2018-2019</td>\n",
       "      <td>4398</td>\n",
       "    </tr>\n",
       "  </tbody>\n",
       "</table>\n",
       "</div>"
      ],
      "text/plain": [
       "                                 Season                 \n",
       "                                    min        max count\n",
       "Country     Competition                                 \n",
       "Belgium     JupilerLeague     2003-2004  2018-2019  3812\n",
       "England     Championship      2003-2004  2018-2019  7993\n",
       "            Conference        2005-2006  2018-2019  6771\n",
       "            League1           2005-2006  2018-2019  7439\n",
       "            League2           2005-2006  2018-2019  7437\n",
       "            Premier           2005-2006  2018-2019  5111\n",
       "France      Division2         2004-2005  2018-2019  5121\n",
       "            LeChampionnat     2004-2005  2018-2019  5490\n",
       "Germany     Liga1             2004-2005  2018-2019  4419\n",
       "            Liga2             2005-2006  2018-2019  4131\n",
       "Greece      EthnikiKatigoria  2003-2004  2018-2019  3605\n",
       "Italy       SerieA            2005-2006  2018-2019  5102\n",
       "            SerieB            2005-2006  2018-2019  6152\n",
       "Netherlands Eredivisie        2003-2004  2018-2019  4123\n",
       "Portugal    Liga1             2004-2005  2018-2019  3636\n",
       "Scotland    Division1         2003-2004  2018-2019  2605\n",
       "            Division2         2003-2004  2018-2019  2785\n",
       "            Division3         2005-2006  2018-2019  2417\n",
       "            Premier           2005-2006  2018-2019  3068\n",
       "Spain       Primera           2003-2004  2018-2019  5480\n",
       "            Segunda           2005-2006  2018-2019  5744\n",
       "Turkey      FutbolLigi1       2003-2004  2018-2019  4398"
      ]
     },
     "execution_count": 33,
     "metadata": {},
     "output_type": "execute_result"
    }
   ],
   "source": [
    "aggregation = {\"Season\": [\"min\", \"max\", \"count\"]}\n",
    "dsjoin.groupby([\"Country\",\"Competition\"]).agg(aggregation)"
   ]
  },
  {
   "cell_type": "code",
   "execution_count": 35,
   "metadata": {},
   "outputs": [
    {
     "data": {
      "text/html": [
       "<div>\n",
       "<style>\n",
       "    .dataframe thead tr:only-child th {\n",
       "        text-align: right;\n",
       "    }\n",
       "\n",
       "    .dataframe thead th {\n",
       "        text-align: left;\n",
       "    }\n",
       "\n",
       "    .dataframe tbody tr th {\n",
       "        vertical-align: top;\n",
       "    }\n",
       "</style>\n",
       "<table border=\"1\" class=\"dataframe\">\n",
       "  <thead>\n",
       "    <tr>\n",
       "      <th></th>\n",
       "      <th></th>\n",
       "      <th>Date</th>\n",
       "    </tr>\n",
       "    <tr>\n",
       "      <th></th>\n",
       "      <th></th>\n",
       "      <th>max</th>\n",
       "    </tr>\n",
       "    <tr>\n",
       "      <th>Country</th>\n",
       "      <th>Competition</th>\n",
       "      <th></th>\n",
       "    </tr>\n",
       "  </thead>\n",
       "  <tbody>\n",
       "    <tr>\n",
       "      <th>Belgium</th>\n",
       "      <th>JupilerLeague</th>\n",
       "      <td>2018-12-16</td>\n",
       "    </tr>\n",
       "    <tr>\n",
       "      <th rowspan=\"5\" valign=\"top\">England</th>\n",
       "      <th>Championship</th>\n",
       "      <td>2018-12-17</td>\n",
       "    </tr>\n",
       "    <tr>\n",
       "      <th>Conference</th>\n",
       "      <td>2018-12-04</td>\n",
       "    </tr>\n",
       "    <tr>\n",
       "      <th>League1</th>\n",
       "      <td>2018-12-15</td>\n",
       "    </tr>\n",
       "    <tr>\n",
       "      <th>League2</th>\n",
       "      <td>2018-12-15</td>\n",
       "    </tr>\n",
       "    <tr>\n",
       "      <th>Premier</th>\n",
       "      <td>2018-12-16</td>\n",
       "    </tr>\n",
       "    <tr>\n",
       "      <th rowspan=\"2\" valign=\"top\">France</th>\n",
       "      <th>Division2</th>\n",
       "      <td>2018-12-17</td>\n",
       "    </tr>\n",
       "    <tr>\n",
       "      <th>LeChampionnat</th>\n",
       "      <td>2018-12-16</td>\n",
       "    </tr>\n",
       "    <tr>\n",
       "      <th rowspan=\"2\" valign=\"top\">Germany</th>\n",
       "      <th>Liga1</th>\n",
       "      <td>2018-12-16</td>\n",
       "    </tr>\n",
       "    <tr>\n",
       "      <th>Liga2</th>\n",
       "      <td>2018-12-17</td>\n",
       "    </tr>\n",
       "    <tr>\n",
       "      <th>Greece</th>\n",
       "      <th>EthnikiKatigoria</th>\n",
       "      <td>2018-12-17</td>\n",
       "    </tr>\n",
       "    <tr>\n",
       "      <th rowspan=\"2\" valign=\"top\">Italy</th>\n",
       "      <th>SerieA</th>\n",
       "      <td>2018-12-17</td>\n",
       "    </tr>\n",
       "    <tr>\n",
       "      <th>SerieB</th>\n",
       "      <td>2018-12-17</td>\n",
       "    </tr>\n",
       "    <tr>\n",
       "      <th>Netherlands</th>\n",
       "      <th>Eredivisie</th>\n",
       "      <td>2018-12-16</td>\n",
       "    </tr>\n",
       "    <tr>\n",
       "      <th>Portugal</th>\n",
       "      <th>Liga1</th>\n",
       "      <td>2018-12-16</td>\n",
       "    </tr>\n",
       "    <tr>\n",
       "      <th rowspan=\"4\" valign=\"top\">Scotland</th>\n",
       "      <th>Division1</th>\n",
       "      <td>2018-12-15</td>\n",
       "    </tr>\n",
       "    <tr>\n",
       "      <th>Division2</th>\n",
       "      <td>2018-12-15</td>\n",
       "    </tr>\n",
       "    <tr>\n",
       "      <th>Division3</th>\n",
       "      <td>2018-12-15</td>\n",
       "    </tr>\n",
       "    <tr>\n",
       "      <th>Premier</th>\n",
       "      <td>2018-12-16</td>\n",
       "    </tr>\n",
       "    <tr>\n",
       "      <th rowspan=\"2\" valign=\"top\">Spain</th>\n",
       "      <th>Primera</th>\n",
       "      <td>2018-12-17</td>\n",
       "    </tr>\n",
       "    <tr>\n",
       "      <th>Segunda</th>\n",
       "      <td>2018-12-16</td>\n",
       "    </tr>\n",
       "    <tr>\n",
       "      <th>Turkey</th>\n",
       "      <th>FutbolLigi1</th>\n",
       "      <td>2018-12-17</td>\n",
       "    </tr>\n",
       "  </tbody>\n",
       "</table>\n",
       "</div>"
      ],
      "text/plain": [
       "                                   Date\n",
       "                                    max\n",
       "Country     Competition                \n",
       "Belgium     JupilerLeague    2018-12-16\n",
       "England     Championship     2018-12-17\n",
       "            Conference       2018-12-04\n",
       "            League1          2018-12-15\n",
       "            League2          2018-12-15\n",
       "            Premier          2018-12-16\n",
       "France      Division2        2018-12-17\n",
       "            LeChampionnat    2018-12-16\n",
       "Germany     Liga1            2018-12-16\n",
       "            Liga2            2018-12-17\n",
       "Greece      EthnikiKatigoria 2018-12-17\n",
       "Italy       SerieA           2018-12-17\n",
       "            SerieB           2018-12-17\n",
       "Netherlands Eredivisie       2018-12-16\n",
       "Portugal    Liga1            2018-12-16\n",
       "Scotland    Division1        2018-12-15\n",
       "            Division2        2018-12-15\n",
       "            Division3        2018-12-15\n",
       "            Premier          2018-12-16\n",
       "Spain       Primera          2018-12-17\n",
       "            Segunda          2018-12-16\n",
       "Turkey      FutbolLigi1      2018-12-17"
      ]
     },
     "execution_count": 35,
     "metadata": {},
     "output_type": "execute_result"
    }
   ],
   "source": [
    "aggregation = {\"Date\": [\"max\"]}\n",
    "dsjoin.groupby([\"Country\",\"Competition\"]).agg(aggregation)"
   ]
  },
  {
   "cell_type": "code",
   "execution_count": 37,
   "metadata": {
    "collapsed": true
   },
   "outputs": [],
   "source": [
    "dsjoin.to_csv(pathdest + filedest, index=None)"
   ]
  },
  {
   "cell_type": "code",
   "execution_count": null,
   "metadata": {
    "collapsed": true
   },
   "outputs": [],
   "source": []
  }
 ],
 "metadata": {
  "kernelspec": {
   "display_name": "Python 3",
   "language": "python",
   "name": "python3"
  },
  "language_info": {
   "codemirror_mode": {
    "name": "ipython",
    "version": 3
   },
   "file_extension": ".py",
   "mimetype": "text/x-python",
   "name": "python",
   "nbconvert_exporter": "python",
   "pygments_lexer": "ipython3",
   "version": "3.6.3"
  }
 },
 "nbformat": 4,
 "nbformat_minor": 2
}
