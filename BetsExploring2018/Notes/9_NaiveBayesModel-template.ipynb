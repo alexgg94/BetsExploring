{
 "cells": [
  {
   "cell_type": "code",
   "execution_count": 1,
   "metadata": {
    "collapsed": true
   },
   "outputs": [],
   "source": [
    "import pyspark\n",
    "from pyspark.sql import SparkSession\n",
    "from pyspark.sql import Row\n",
    "from pyspark.sql.functions import isnan, when, count, col\n",
    "#from pyspark.ml.regression import LabeledPoint\n",
    "from pyspark.ml.classification import NaiveBayes\n",
    "from pyspark.ml.classification import NaiveBayesModel\n",
    "from pyspark.ml.linalg import Vector, SparseVector, DenseVector, Matrices\n",
    "from pyspark.ml.feature import VectorAssembler\n",
    "from pyspark.ml.evaluation import MulticlassClassificationEvaluator\n",
    "from random import shuffle\n",
    "import numpy as np\n",
    "import matplotlib.pyplot as plt"
   ]
  },
  {
   "cell_type": "code",
   "execution_count": 2,
   "metadata": {},
   "outputs": [
    {
     "data": {
      "text/html": [
       "\n",
       "        <div>\n",
       "            <p><b>SparkContext</b></p>\n",
       "\n",
       "            <p><a href=\"http://SERVERSERMENA.sermena.com:4040\">Spark UI</a></p>\n",
       "\n",
       "            <dl>\n",
       "              <dt>Version</dt>\n",
       "                <dd><code>v2.3.1</code></dd>\n",
       "              <dt>Master</dt>\n",
       "                <dd><code>local[*]</code></dd>\n",
       "              <dt>AppName</dt>\n",
       "                <dd><code>BetsExploring</code></dd>\n",
       "            </dl>\n",
       "        </div>\n",
       "        "
      ],
      "text/plain": [
       "<SparkContext master=local[*] appName=BetsExploring>"
      ]
     },
     "execution_count": 2,
     "metadata": {},
     "output_type": "execute_result"
    }
   ],
   "source": [
    "spark = SparkSession.builder.appName(\"BetsExploring\").getOrCreate()\n",
    "sc = spark.sparkContext\n",
    "sc"
   ]
  },
  {
   "cell_type": "code",
   "execution_count": 3,
   "metadata": {
    "collapsed": true
   },
   "outputs": [],
   "source": [
    "betsHouses = ['B365', 'BS', 'BW', 'GB', 'IW', 'LB', 'SB', 'SJ', 'VC', 'WH']\n",
    "quotaTypes = ['H','D','A']\n",
    "accuracyList = []"
   ]
  },
  {
   "cell_type": "code",
   "execution_count": 4,
   "metadata": {
    "collapsed": true
   },
   "outputs": [],
   "source": [
    "# Selecting fields included in dataframe to use as features\n",
    "\n",
    "def calcBetsHousesCols(df, betsHouses):\n",
    "    betsHousesCols = []\n",
    "    betsHousesOk = []\n",
    "    for betsHouse in betsHouses:\n",
    "        col = betsHouse + 'H'\n",
    "        if col in df.columns:\n",
    "            betsHousesOk.append(betsHouse)\n",
    "            betsHousesCols.append(betsHouse + 'H')\n",
    "            betsHousesCols.append(betsHouse + 'D')\n",
    "            betsHousesCols.append(betsHouse + 'A')\n",
    "\n",
    "#    print (\"Potential bets houses:\", betsHouses)\n",
    "#    print (\"Bets houses selected :\" , betsHousesOk)\n",
    "    print (\"Bets houses columns  :\", betsHousesCols)\n",
    "    \n",
    "    return betsHousesCols"
   ]
  },
  {
   "cell_type": "code",
   "execution_count": 5,
   "metadata": {
    "collapsed": true
   },
   "outputs": [],
   "source": [
    "# Cleaning nulls in dataframe, mixing deletion of columns and rows\n",
    "# Columns with less than 'percDropping' not null rows will be deleted\n",
    "# Rows with nulls aftes deleting columns will be deleted\n",
    "\n",
    "def cleanNulls(df, percDropping):\n",
    "#    print (\"Cleaning nulls:\")\n",
    "    totalrows = df.count()\n",
    "    notnullrows = df.dropna().count()\n",
    "    dropCols = []\n",
    "#    print (\"Total rows:\", totalrows)\n",
    "#    print (\"Not null rows: \", notnullrows)\n",
    "#    print (\"Percentage for dropping column: \", percDropping, \"%\")\n",
    "\n",
    "#    print (\"\\nNot null rows before cleaning:\")\n",
    "    dfok = df\n",
    "    for col in df.columns:\n",
    "\n",
    "        percOk = round((df.select(col).dropna().count() / totalrows) * 100, 2)\n",
    "#        print (col, \"\\t\", df.select(col).dropna().count(), \"\\t(\", percOk, \"%)\")\n",
    "\n",
    "        # Dropping columnss with a lot of nulls\n",
    "        if percOk < percDropping:\n",
    "            dropCols.append(col)\n",
    "            dfok = dfok.drop(col)\n",
    "    #        print (\"\\tColumn dropped\")\n",
    "\n",
    "    # Dropping row with nulls\n",
    "    dfok = dfok.dropna()\n",
    "    percOk = round((dfok.count() / totalrows) * 100 , 2)\n",
    "    print (\"\\nDropped columns:\", dropCols)\n",
    "    print (\"Not null rows after cleaning: \" , dfok.count(), \"\\t(\", percOk, \"%)\")\n",
    "#    print (\"Final columns:\", dfok.columns)\n",
    "    \n",
    "    return dfok"
   ]
  },
  {
   "cell_type": "code",
   "execution_count": 6,
   "metadata": {
    "collapsed": true
   },
   "outputs": [],
   "source": [
    "# Converting text result to numeric result\n",
    "\n",
    "def resultToNumeric(df):\n",
    "    dfok = df.withColumn(\"Label\", when(df['FTR']=='H',0)\n",
    "                             .when(df['FTR']=='D',1)\n",
    "                             .when(df['FTR']=='A',2).cast(\"double\"))\n",
    "    #dfok.show(3)\n",
    "                      \n",
    "    return dfok"
   ]
  },
  {
   "cell_type": "code",
   "execution_count": 7,
   "metadata": {
    "collapsed": true
   },
   "outputs": [],
   "source": [
    "# Create Dataframe with label and features \n",
    "\n",
    "def createLabelAndFeatures(df, betsHousesCols):\n",
    "    vectorAssembler = VectorAssembler(\n",
    "        inputCols = betsHousesCols, \n",
    "        outputCol = 'features')\n",
    "\n",
    "    vec_df = vectorAssembler.transform(df)\n",
    "\n",
    "    vec_df = vec_df.withColumn(\"label\", df[\"Label\"])\n",
    "\n",
    "    vec_df = vec_df.select(['features', 'label'])\n",
    "    vec_df.show(5, False)\n",
    "    #vec_df.printSchema()\n",
    "    \n",
    "    return vec_df"
   ]
  },
  {
   "cell_type": "code",
   "execution_count": 8,
   "metadata": {
    "collapsed": true
   },
   "outputs": [],
   "source": [
    "# Defining, Training and Avaluating Naive Bayes Model\n",
    "\n",
    "def calcNaiveBayesModel(df, paramCols):\n",
    "    \n",
    "    # Converting result to numeric\n",
    "    print (\"\\n  - Converting result to numeric\")\n",
    "    df = resultToNumeric(df)\n",
    "\n",
    "    # Creating vector with label and features for training\n",
    "    print (\"\\n  - Creating vector with label and features for training\")\n",
    "    #print (\"paramCols:\", paramCols)\n",
    "    vectrain = createLabelAndFeatures(df, paramCols)\n",
    "\n",
    "    # Training model\n",
    "    print (\"\\n  - Training model\")\n",
    "    nb = NaiveBayes(smoothing=1.0, modelType=\"multinomial\")\n",
    "    model = nb.fit(vectrain)\n",
    "    print(\"Pi   :\", model.pi)\n",
    "    print(\"Theta:\", model.theta)\n",
    "\n",
    "    # Calculating auto-prediction to avaluate model\n",
    "    print (\"\\n  - Calculating auto-prediction to avaluate model\")\n",
    "    predict_train = model.transform(vectrain)\n",
    "    predict_train.show(5, False)\n",
    "\n",
    "    # Evaluating model\n",
    "    print (\"\\n  - Evaluating model\")\n",
    "    nb_evaluator = MulticlassClassificationEvaluator(predictionCol=\"prediction\",labelCol=\"label\",metricName=\"accuracy\")\n",
    "    accuracy = nb_evaluator.evaluate(predict_train)\n",
    "    print (\"Accuracy: \", round(accuracy * 100, 2), \"%\")\n",
    "    \n",
    "    return (model, accuracy)"
   ]
  },
  {
   "cell_type": "code",
   "execution_count": 9,
   "metadata": {
    "collapsed": true
   },
   "outputs": [],
   "source": [
    "# Calculating predictions with test dataset\n",
    "def calcPrediction (model, df, paramCols):\n",
    "    \n",
    "    # Converting result to numeric\n",
    "    print (\"\\n  - Converting result to numeric\")\n",
    "    df = resultToNumeric(df)\n",
    "\n",
    "    # Creating vector with label and features for training\n",
    "    print (\"  - Creating vector with label and features for training\")\n",
    "    vectest = createLabelAndFeatures(df, paramCols)\n",
    "\n",
    "    # Calculating prediction\n",
    "    print (\"  - Calculating prediction\")\n",
    "    predict = model.transform(vectest)\n",
    "    print(predict.count())\n",
    "    predict.show(5, False)\n",
    "\n",
    "    # Evaluating test\n",
    "    print (\"  - Evaluating model\")\n",
    "    nb_evaluator = MulticlassClassificationEvaluator(predictionCol=\"prediction\",labelCol=\"label\",metricName=\"accuracy\")\n",
    "    accuracy = nb_evaluator.evaluate(predict)\n",
    "    print (\"Accuracy: \", round(accuracy * 100, 2), \"%\")\n",
    "    \n",
    "    return (predict, accuracy)"
   ]
  },
  {
   "cell_type": "code",
   "execution_count": 10,
   "metadata": {},
   "outputs": [
    {
     "name": "stdout",
     "output_type": "stream",
     "text": [
      "* Opening dataset file\n",
      "Rows   : 11374\n",
      "First row:\n",
      "[Row(Country='Belgium', Competition='JupilerLeague', Season='2017-2018', Div='B1', Date=datetime.datetime(2017, 7, 28, 0, 0), HomeTeam='Antwerp', AwayTeam='Anderlecht', FTR='D', B365H=5.75, B365D=3.8, B365A=1.6, BWH=5.0, BWD=4.0, BWA=1.67, IWH=4.7, IWD=3.6, IWA=1.7, LBH=5.2, LBD=3.7, LBA=1.61, VCH=5.5, VCD=3.9, VCA=1.62, WHH=4.75, WHD=3.75, WHA=1.67, Divergence=11.65048543689322)]\n",
      "root\n",
      " |-- Country: string (nullable = true)\n",
      " |-- Competition: string (nullable = true)\n",
      " |-- Season: string (nullable = true)\n",
      " |-- Div: string (nullable = true)\n",
      " |-- Date: timestamp (nullable = true)\n",
      " |-- HomeTeam: string (nullable = true)\n",
      " |-- AwayTeam: string (nullable = true)\n",
      " |-- FTR: string (nullable = true)\n",
      " |-- B365H: double (nullable = true)\n",
      " |-- B365D: double (nullable = true)\n",
      " |-- B365A: double (nullable = true)\n",
      " |-- BWH: double (nullable = true)\n",
      " |-- BWD: double (nullable = true)\n",
      " |-- BWA: double (nullable = true)\n",
      " |-- IWH: double (nullable = true)\n",
      " |-- IWD: double (nullable = true)\n",
      " |-- IWA: double (nullable = true)\n",
      " |-- LBH: double (nullable = true)\n",
      " |-- LBD: double (nullable = true)\n",
      " |-- LBA: double (nullable = true)\n",
      " |-- VCH: double (nullable = true)\n",
      " |-- VCD: double (nullable = true)\n",
      " |-- VCA: double (nullable = true)\n",
      " |-- WHH: double (nullable = true)\n",
      " |-- WHD: double (nullable = true)\n",
      " |-- WHA: double (nullable = true)\n",
      " |-- Divergence: double (nullable = true)\n",
      "\n"
     ]
    }
   ],
   "source": [
    "url = \"../Data/Processed/main_competitions_recent.csv\"\n",
    "# Open Dataset file\n",
    "print (\"* Opening dataset file\")\n",
    "df = spark.read.csv(path = url, header = True, inferSchema = True)\n",
    "print (\"Rows   :\", df.count())\n",
    "print (\"First row:\")\n",
    "print(df.take(1))\n",
    "df.printSchema()\n"
   ]
  },
  {
   "cell_type": "code",
   "execution_count": 11,
   "metadata": {},
   "outputs": [
    {
     "name": "stdout",
     "output_type": "stream",
     "text": [
      "\n",
      "* Cleaning nulls in columns and rows\n",
      "\n",
      "Dropped columns: ['LBH', 'LBD', 'LBA']\n",
      "Not null rows after cleaning:  11304 \t( 99.38 %)\n",
      "\n",
      "* Calculating Bets Houses Cols\n",
      "Bets houses columns  : ['B365H', 'B365D', 'B365A', 'BWH', 'BWD', 'BWA', 'IWH', 'IWD', 'IWA', 'VCH', 'VCD', 'VCA', 'WHH', 'WHD', 'WHA']\n",
      "\n",
      "* Spliting training and testing datasets\n",
      "  Train dataset: 8973 rows\n",
      "  Test dataset:  2331 rows\n",
      "\n",
      "* Defining, Training and Avaluating Naive Bayes Model\n",
      "\n",
      "  - Converting result to numeric\n",
      "\n",
      "  - Creating vector with label and features for training\n",
      "+-------------------------------------------------------------------+-----+\n",
      "|features                                                           |label|\n",
      "+-------------------------------------------------------------------+-----+\n",
      "|[1.62,4.0,5.0,1.6,3.8,5.5,1.7,3.7,4.5,1.65,4.0,5.0,1.62,3.8,5.0]   |0.0  |\n",
      "|[1.7,3.6,5.0,1.7,3.6,5.0,1.7,3.7,4.5,1.75,3.8,4.4,1.75,3.6,4.33]   |0.0  |\n",
      "|[1.53,4.0,6.25,1.57,4.0,5.5,1.55,4.0,5.5,1.57,4.2,5.4,1.62,3.8,5.0]|2.0  |\n",
      "|[1.9,3.6,3.75,1.91,3.5,4.1,1.9,3.45,3.8,2.0,3.5,3.6,2.0,3.4,3.5]   |1.0  |\n",
      "|[7.0,4.0,1.5,5.75,4.1,1.57,5.5,4.0,1.55,5.75,4.1,1.55,6.0,3.8,1.53]|2.0  |\n",
      "+-------------------------------------------------------------------+-----+\n",
      "only showing top 5 rows\n",
      "\n",
      "\n",
      "  - Training model\n",
      "Pi   : [-0.824643466911,-1.32787411746,-1.21547662881]\n",
      "Theta: DenseMatrix([[-3.2531795 , -2.64402429, -2.36243739, -3.26665357, -2.66057714,\n",
      "              -2.39315345, -3.27782149, -2.69446288, -2.45040114, -3.24816115,\n",
      "              -2.62881041, -2.33001236, -3.26201643, -2.67184672, -2.41448805],\n",
      "             [-2.96478428, -2.6101748 , -2.54048622, -2.98352853, -2.62748511,\n",
      "              -2.56973434, -2.99983881, -2.6517907 , -2.61021806, -2.9586107 ,\n",
      "              -2.60021446, -2.53892467, -2.98065205, -2.63281479, -2.58926739],\n",
      "             [-2.68547974, -2.60777643, -2.78171451, -2.713572  , -2.62379914,\n",
      "              -2.8032836 , -2.75257048, -2.65026367, -2.8330401 , -2.67434483,\n",
      "              -2.59566017, -2.78117667, -2.71609587, -2.62931028, -2.81776784]])\n",
      "\n",
      "  - Calculating auto-prediction to avaluate model\n",
      "+-------------------------------------------------------------------+-----+-------------------------------------------------------------+---------------------------------------------------------------+----------+\n",
      "|features                                                           |label|rawPrediction                                                |probability                                                    |prediction|\n",
      "+-------------------------------------------------------------------+-----+-------------------------------------------------------------+---------------------------------------------------------------+----------+\n",
      "|[1.62,4.0,5.0,1.6,3.8,5.5,1.7,3.7,4.5,1.65,4.0,5.0,1.62,3.8,5.0]   |0.0  |[-138.58556920219803,-140.57979402076523,-144.05135620671567]|[0.8769251804381182,0.11936629290156024,0.0037085266603216634] |0.0       |\n",
      "|[1.7,3.6,5.0,1.7,3.6,5.0,1.7,3.7,4.5,1.75,3.8,4.4,1.75,3.6,4.33]   |0.0  |[-133.05921947323003,-134.63947154002267,-137.58696199164368]|[0.8218762239795288,0.16924336993589081,0.008880406084580484]  |0.0       |\n",
      "|[1.53,4.0,6.25,1.57,4.0,5.5,1.55,4.0,5.5,1.57,4.2,5.4,1.62,3.8,5.0]|2.0  |[-145.64492652064752,-148.1792657317731,-152.36304757976566] |[0.9254778239647202,0.07340345163102341,0.0011187244042562482] |0.0       |\n",
      "|[1.9,3.6,3.75,1.91,3.5,4.1,1.9,3.45,3.8,2.0,3.5,3.6,2.0,3.4,3.5]   |1.0  |[-123.72607481318903,-124.21567636206096,-125.81561130677355]|[0.5758328625130401,0.35291099998937064,0.07125613749758919]   |0.0       |\n",
      "|[7.0,4.0,1.5,5.75,4.1,1.57,5.5,4.0,1.55,5.75,4.1,1.55,6.0,3.8,1.53]|2.0  |[-170.25537121328023,-162.90577938669531,-156.44033989543217]|[9.989237234588793E-7,0.0015538872450966545,0.9984451138311798]|2.0       |\n",
      "+-------------------------------------------------------------------+-----+-------------------------------------------------------------+---------------------------------------------------------------+----------+\n",
      "only showing top 5 rows\n",
      "\n",
      "\n",
      "  - Evaluating model\n",
      "Accuracy:  48.16 %\n",
      "\n",
      "* Calculating predictions with test dataset\n",
      "\n",
      "  - Converting result to numeric\n",
      "  - Creating vector with label and features for training\n",
      "+--------------------------------------------------------------------+-----+\n",
      "|features                                                            |label|\n",
      "+--------------------------------------------------------------------+-----+\n",
      "|[2.6,3.5,2.54,2.55,3.5,2.7,2.85,3.4,2.3,2.55,3.5,2.63,2.5,3.4,2.6]  |0.0  |\n",
      "|[1.53,3.79,6.5,1.57,4.1,6.0,1.55,4.0,5.5,1.53,4.1,6.0,1.53,3.8,6.0] |1.0  |\n",
      "|[3.3,3.25,2.2,3.2,3.25,2.35,2.9,3.3,2.3,3.13,3.25,2.3,3.2,3.2,2.2]  |2.0  |\n",
      "|[1.75,3.75,4.33,1.83,3.7,4.25,1.85,3.5,3.9,1.87,3.6,4.0,1.8,3.5,4.2]|0.0  |\n",
      "|[1.4,4.5,8.0,1.42,4.6,7.75,1.4,4.4,7.3,1.4,4.8,7.5,1.4,4.5,7.0]     |0.0  |\n",
      "+--------------------------------------------------------------------+-----+\n",
      "only showing top 5 rows\n",
      "\n",
      "  - Calculating prediction\n",
      "2331\n",
      "+--------------------------------------------------------------------+-----+-------------------------------------------------------------+---------------------------------------------------------------+----------+\n",
      "|features                                                            |label|rawPrediction                                                |probability                                                    |prediction|\n",
      "+--------------------------------------------------------------------+-----+-------------------------------------------------------------+---------------------------------------------------------------+----------+\n",
      "|[2.6,3.5,2.54,2.55,3.5,2.7,2.85,3.4,2.3,2.55,3.5,2.63,2.5,3.4,2.6]  |0.0  |[-119.90854343337756,-118.39424430490911,-117.7089577548774] |[0.06864591746757903,0.31208038227510093,0.61927370025732]     |2.0       |\n",
      "|[1.53,3.79,6.5,1.57,4.1,6.0,1.55,4.0,5.5,1.53,4.1,6.0,1.53,3.8,6.0] |1.0  |[-150.269031702116,-153.27986388921582,-158.0503502714462]   |[0.9526820568137405,0.046920235239363436,3.977079468959337E-4] |0.0       |\n",
      "|[3.3,3.25,2.2,3.2,3.25,2.35,2.9,3.3,2.3,3.13,3.25,2.3,3.2,3.2,2.2]  |2.0  |[-122.47762964443216,-119.97339437564986,-118.2231060276952] |[0.011953506561771942,0.14624158415945754,0.8418049092787705]  |2.0       |\n",
      "|[1.75,3.75,4.33,1.83,3.7,4.25,1.85,3.5,3.9,1.87,3.6,4.0,1.8,3.5,4.2]|0.0  |[-127.92809161296766,-128.92247140169374,-131.14022669617728]|[0.7091075260790759,0.26233633059888606,0.02855614332203803]   |0.0       |\n",
      "|[1.4,4.5,8.0,1.42,4.6,7.75,1.4,4.4,7.3,1.4,4.8,7.5,1.4,4.5,7.0]     |0.0  |[-174.06581823207821,-178.51944742050904,-185.22888794778058]|[0.9884837211210639,0.011502253650521944,1.4025228414161577E-5]|0.0       |\n",
      "+--------------------------------------------------------------------+-----+-------------------------------------------------------------+---------------------------------------------------------------+----------+\n",
      "only showing top 5 rows\n",
      "\n",
      "  - Evaluating model\n",
      "Accuracy:  48.05 %\n"
     ]
    }
   ],
   "source": [
    "# Calculating Naive Bayes Model and Prediction\n",
    "\n",
    "    \n",
    "# Cleaning nulls in columns and rows\n",
    "print (\"\\n* Cleaning nulls in columns and rows\")\n",
    "dfok = cleanNulls(df, 80)\n",
    "\n",
    "# Calculating Bets Houses Cols\n",
    "print (\"\\n* Calculating Bets Houses Cols\")\n",
    "betsHousesCols =  calcBetsHousesCols(dfok, betsHouses)\n",
    "\n",
    "# Spliting training and testing datasets\n",
    "print (\"\\n* Spliting training and testing datasets\")\n",
    "dftrain, dftest = dfok.randomSplit([0.8, 0.2], seed=1)\n",
    "print(\"  Train dataset:\", dftrain.count(), \"rows\")\n",
    "print(\"  Test dataset: \", dftest.count(), \"rows\")\n",
    "\n",
    "# Defining, Training and Avaluating Naive Bayes Model\n",
    "print (\"\\n* Defining, Training and Avaluating Naive Bayes Model\")\n",
    "(model, modelAccuracy) = calcNaiveBayesModel(dftrain, betsHousesCols)\n",
    "\n",
    "# Calculating predictions with test dataset\n",
    "print (\"\\n* Calculating predictions with test dataset\")\n",
    "(predict, predictAccuracy) = calcPrediction(model, dftest, betsHousesCols)\n"
   ]
  },
  {
   "cell_type": "code",
   "execution_count": 17,
   "metadata": {},
   "outputs": [
    {
     "data": {
      "text/plain": [
       "[Row(features=DenseVector([2.6, 3.5, 2.54, 2.55, 3.5, 2.7, 2.85, 3.4, 2.3, 2.55, 3.5, 2.63, 2.5, 3.4, 2.6]), label=0.0, rawPrediction=DenseVector([-119.9085, -118.3942, -117.709]), probability=DenseVector([0.0686, 0.3121, 0.6193]), prediction=2.0),\n",
       " Row(features=DenseVector([1.53, 3.79, 6.5, 1.57, 4.1, 6.0, 1.55, 4.0, 5.5, 1.53, 4.1, 6.0, 1.53, 3.8, 6.0]), label=1.0, rawPrediction=DenseVector([-150.269, -153.2799, -158.0504]), probability=DenseVector([0.9527, 0.0469, 0.0004]), prediction=0.0)]"
      ]
     },
     "execution_count": 17,
     "metadata": {},
     "output_type": "execute_result"
    }
   ],
   "source": [
    "rddpredict = predict.rdd\n",
    "rddpredict.take(2)"
   ]
  },
  {
   "cell_type": "code",
   "execution_count": null,
   "metadata": {
    "collapsed": true
   },
   "outputs": [],
   "source": []
  }
 ],
 "metadata": {
  "kernelspec": {
   "display_name": "Python 3",
   "language": "python",
   "name": "python3"
  },
  "language_info": {
   "codemirror_mode": {
    "name": "ipython",
    "version": 3
   },
   "file_extension": ".py",
   "mimetype": "text/x-python",
   "name": "python",
   "nbconvert_exporter": "python",
   "pygments_lexer": "ipython3",
   "version": "3.6.3"
  }
 },
 "nbformat": 4,
 "nbformat_minor": 2
}
