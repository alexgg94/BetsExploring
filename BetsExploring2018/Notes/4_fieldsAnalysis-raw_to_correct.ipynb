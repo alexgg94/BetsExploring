{
 "cells": [
  {
   "cell_type": "markdown",
   "metadata": {},
   "source": [
    "# Data Mining project\n",
    "## 4_fieldsAnalysis-raw_to_correct\n",
    "\n",
    "Analysis of data type of fields in DataSet"
   ]
  },
  {
   "cell_type": "code",
   "execution_count": 1,
   "metadata": {
    "collapsed": true
   },
   "outputs": [],
   "source": [
    "import numpy as np\n",
    "import pandas as pd\n",
    "from colorama import Fore"
   ]
  },
  {
   "cell_type": "code",
   "execution_count": 2,
   "metadata": {
    "collapsed": true
   },
   "outputs": [],
   "source": [
    "pathori = \"../Data/Raw/Main/\"\n",
    "pathtemp = \"../Data/Interim/\"\n",
    "pathdest = \"../Data/Processed/\"\n",
    "filetemp = \"main_competitions.csv\""
   ]
  },
  {
   "cell_type": "code",
   "execution_count": 5,
   "metadata": {
    "collapsed": true
   },
   "outputs": [],
   "source": [
    "# Open dataset\n",
    "url = pathtemp + filetemp\n",
    "parse_dates=[\"Date\"]\n",
    "ds = pd.read_csv(url, parse_dates=parse_dates, index_col=False)"
   ]
  },
  {
   "cell_type": "code",
   "execution_count": 6,
   "metadata": {},
   "outputs": [
    {
     "data": {
      "text/plain": [
       "(106969, 44)"
      ]
     },
     "execution_count": 6,
     "metadata": {},
     "output_type": "execute_result"
    }
   ],
   "source": [
    "ds.shape"
   ]
  },
  {
   "cell_type": "code",
   "execution_count": 7,
   "metadata": {},
   "outputs": [
    {
     "data": {
      "text/plain": [
       "Index(['Country', 'Competition', 'Season', 'Div', 'Date', 'HomeTeam',\n",
       "       'AwayTeam', 'FTR', 'B365H', 'B365H.1', 'B365H.2', 'BSH', 'BSD', 'BSA',\n",
       "       'BWH', 'BWD', 'BWA', 'GBH', 'GBD', 'GBA', 'IWH', 'IWD', 'IWA', 'LBH',\n",
       "       'LBD', 'LBA', 'SOH', 'SOD', 'SOA', 'SBH', 'SBD', 'SBA', 'SJH', 'SJD',\n",
       "       'SJA', 'SYH', 'SYD', 'SYA', 'VCH', 'VCD', 'VCA', 'WHH', 'WHD', 'WHA'],\n",
       "      dtype='object')"
      ]
     },
     "execution_count": 7,
     "metadata": {},
     "output_type": "execute_result"
    }
   ],
   "source": [
    "ds.columns"
   ]
  },
  {
   "cell_type": "code",
   "execution_count": 8,
   "metadata": {},
   "outputs": [
    {
     "data": {
      "text/html": [
       "<div>\n",
       "<style>\n",
       "    .dataframe thead tr:only-child th {\n",
       "        text-align: right;\n",
       "    }\n",
       "\n",
       "    .dataframe thead th {\n",
       "        text-align: left;\n",
       "    }\n",
       "\n",
       "    .dataframe tbody tr th {\n",
       "        vertical-align: top;\n",
       "    }\n",
       "</style>\n",
       "<table border=\"1\" class=\"dataframe\">\n",
       "  <thead>\n",
       "    <tr style=\"text-align: right;\">\n",
       "      <th></th>\n",
       "      <th>Country</th>\n",
       "      <th>Competition</th>\n",
       "      <th>Season</th>\n",
       "      <th>Div</th>\n",
       "      <th>Date</th>\n",
       "      <th>HomeTeam</th>\n",
       "      <th>AwayTeam</th>\n",
       "      <th>FTR</th>\n",
       "      <th>B365H</th>\n",
       "      <th>B365H.1</th>\n",
       "      <th>...</th>\n",
       "      <th>SJA</th>\n",
       "      <th>SYH</th>\n",
       "      <th>SYD</th>\n",
       "      <th>SYA</th>\n",
       "      <th>VCH</th>\n",
       "      <th>VCD</th>\n",
       "      <th>VCA</th>\n",
       "      <th>WHH</th>\n",
       "      <th>WHD</th>\n",
       "      <th>WHA</th>\n",
       "    </tr>\n",
       "  </thead>\n",
       "  <tbody>\n",
       "    <tr>\n",
       "      <th>60819</th>\n",
       "      <td>Greece</td>\n",
       "      <td>EthnikiKatigoria</td>\n",
       "      <td>2015-2016</td>\n",
       "      <td>NaN</td>\n",
       "      <td>NaT</td>\n",
       "      <td>NaN</td>\n",
       "      <td>NaN</td>\n",
       "      <td>NaN</td>\n",
       "      <td>NaN</td>\n",
       "      <td>NaN</td>\n",
       "      <td>...</td>\n",
       "      <td>NaN</td>\n",
       "      <td>NaN</td>\n",
       "      <td>NaN</td>\n",
       "      <td>NaN</td>\n",
       "      <td>NaN</td>\n",
       "      <td>NaN</td>\n",
       "      <td>NaN</td>\n",
       "      <td>NaN</td>\n",
       "      <td>NaN</td>\n",
       "      <td>NaN</td>\n",
       "    </tr>\n",
       "    <tr>\n",
       "      <th>18913</th>\n",
       "      <td>England</td>\n",
       "      <td>League1</td>\n",
       "      <td>2005-2006</td>\n",
       "      <td>E2</td>\n",
       "      <td>2006-01-17</td>\n",
       "      <td>Colchester</td>\n",
       "      <td>Bristol City</td>\n",
       "      <td>H</td>\n",
       "      <td>1.72</td>\n",
       "      <td>1.72</td>\n",
       "      <td>...</td>\n",
       "      <td>4.33</td>\n",
       "      <td>NaN</td>\n",
       "      <td>NaN</td>\n",
       "      <td>NaN</td>\n",
       "      <td>1.73</td>\n",
       "      <td>3.25</td>\n",
       "      <td>4.35</td>\n",
       "      <td>1.72</td>\n",
       "      <td>3.25</td>\n",
       "      <td>4.2</td>\n",
       "    </tr>\n",
       "    <tr>\n",
       "      <th>19159</th>\n",
       "      <td>England</td>\n",
       "      <td>League1</td>\n",
       "      <td>2006-2007</td>\n",
       "      <td>E2</td>\n",
       "      <td>2006-08-08</td>\n",
       "      <td>Yeovil</td>\n",
       "      <td>Bournemouth</td>\n",
       "      <td>D</td>\n",
       "      <td>1.90</td>\n",
       "      <td>1.90</td>\n",
       "      <td>...</td>\n",
       "      <td>3.40</td>\n",
       "      <td>NaN</td>\n",
       "      <td>NaN</td>\n",
       "      <td>NaN</td>\n",
       "      <td>1.90</td>\n",
       "      <td>3.25</td>\n",
       "      <td>3.50</td>\n",
       "      <td>1.90</td>\n",
       "      <td>3.20</td>\n",
       "      <td>3.5</td>\n",
       "    </tr>\n",
       "    <tr>\n",
       "      <th>23569</th>\n",
       "      <td>England</td>\n",
       "      <td>League1</td>\n",
       "      <td>2014-2015</td>\n",
       "      <td>E2</td>\n",
       "      <td>2014-08-16</td>\n",
       "      <td>Crawley Town</td>\n",
       "      <td>Swindon</td>\n",
       "      <td>H</td>\n",
       "      <td>2.38</td>\n",
       "      <td>2.38</td>\n",
       "      <td>...</td>\n",
       "      <td>3.00</td>\n",
       "      <td>NaN</td>\n",
       "      <td>NaN</td>\n",
       "      <td>NaN</td>\n",
       "      <td>2.40</td>\n",
       "      <td>3.40</td>\n",
       "      <td>3.20</td>\n",
       "      <td>2.40</td>\n",
       "      <td>3.10</td>\n",
       "      <td>3.1</td>\n",
       "    </tr>\n",
       "    <tr>\n",
       "      <th>93232</th>\n",
       "      <td>Spain</td>\n",
       "      <td>Primera</td>\n",
       "      <td>2008-2009</td>\n",
       "      <td>SP1</td>\n",
       "      <td>2009-05-30</td>\n",
       "      <td>La Coruna</td>\n",
       "      <td>Barcelona</td>\n",
       "      <td>D</td>\n",
       "      <td>2.00</td>\n",
       "      <td>2.00</td>\n",
       "      <td>...</td>\n",
       "      <td>3.33</td>\n",
       "      <td>NaN</td>\n",
       "      <td>NaN</td>\n",
       "      <td>NaN</td>\n",
       "      <td>2.00</td>\n",
       "      <td>3.40</td>\n",
       "      <td>3.20</td>\n",
       "      <td>2.10</td>\n",
       "      <td>3.60</td>\n",
       "      <td>3.2</td>\n",
       "    </tr>\n",
       "  </tbody>\n",
       "</table>\n",
       "<p>5 rows × 44 columns</p>\n",
       "</div>"
      ],
      "text/plain": [
       "       Country       Competition     Season  Div       Date      HomeTeam  \\\n",
       "60819   Greece  EthnikiKatigoria  2015-2016  NaN        NaT           NaN   \n",
       "18913  England           League1  2005-2006   E2 2006-01-17    Colchester   \n",
       "19159  England           League1  2006-2007   E2 2006-08-08        Yeovil   \n",
       "23569  England           League1  2014-2015   E2 2014-08-16  Crawley Town   \n",
       "93232    Spain           Primera  2008-2009  SP1 2009-05-30     La Coruna   \n",
       "\n",
       "           AwayTeam  FTR  B365H  B365H.1 ...    SJA  SYH  SYD  SYA   VCH  \\\n",
       "60819           NaN  NaN    NaN      NaN ...    NaN  NaN  NaN  NaN   NaN   \n",
       "18913  Bristol City    H   1.72     1.72 ...   4.33  NaN  NaN  NaN  1.73   \n",
       "19159   Bournemouth    D   1.90     1.90 ...   3.40  NaN  NaN  NaN  1.90   \n",
       "23569       Swindon    H   2.38     2.38 ...   3.00  NaN  NaN  NaN  2.40   \n",
       "93232     Barcelona    D   2.00     2.00 ...   3.33  NaN  NaN  NaN  2.00   \n",
       "\n",
       "        VCD   VCA   WHH   WHD  WHA  \n",
       "60819   NaN   NaN   NaN   NaN  NaN  \n",
       "18913  3.25  4.35  1.72  3.25  4.2  \n",
       "19159  3.25  3.50  1.90  3.20  3.5  \n",
       "23569  3.40  3.20  2.40  3.10  3.1  \n",
       "93232  3.40  3.20  2.10  3.60  3.2  \n",
       "\n",
       "[5 rows x 44 columns]"
      ]
     },
     "execution_count": 8,
     "metadata": {},
     "output_type": "execute_result"
    }
   ],
   "source": [
    "ds.sample(5)"
   ]
  },
  {
   "cell_type": "code",
   "execution_count": 9,
   "metadata": {},
   "outputs": [
    {
     "data": {
      "text/plain": [
       "Country                object\n",
       "Competition            object\n",
       "Season                 object\n",
       "Div                    object\n",
       "Date           datetime64[ns]\n",
       "HomeTeam               object\n",
       "AwayTeam               object\n",
       "FTR                    object\n",
       "B365H                 float64\n",
       "B365H.1               float64\n",
       "B365H.2               float64\n",
       "BSH                   float64\n",
       "BSD                   float64\n",
       "BSA                   float64\n",
       "BWH                   float64\n",
       "BWD                   float64\n",
       "BWA                   float64\n",
       "GBH                   float64\n",
       "GBD                   float64\n",
       "GBA                   float64\n",
       "IWH                   float64\n",
       "IWD                   float64\n",
       "IWA                   float64\n",
       "LBH                   float64\n",
       "LBD                   float64\n",
       "LBA                   float64\n",
       "SOH                   float64\n",
       "SOD                   float64\n",
       "SOA                   float64\n",
       "SBH                   float64\n",
       "SBD                   float64\n",
       "SBA                   float64\n",
       "SJH                   float64\n",
       "SJD                   float64\n",
       "SJA                   float64\n",
       "SYH                   float64\n",
       "SYD                   float64\n",
       "SYA                   float64\n",
       "VCH                   float64\n",
       "VCD                   float64\n",
       "VCA                   float64\n",
       "WHH                   float64\n",
       "WHD                   float64\n",
       "WHA                   float64\n",
       "dtype: object"
      ]
     },
     "execution_count": 9,
     "metadata": {},
     "output_type": "execute_result"
    }
   ],
   "source": [
    "ds.dtypes\n",
    "# All types are correct"
   ]
  },
  {
   "cell_type": "code",
   "execution_count": null,
   "metadata": {
    "collapsed": true
   },
   "outputs": [],
   "source": []
  }
 ],
 "metadata": {
  "kernelspec": {
   "display_name": "Python 3",
   "language": "python",
   "name": "python3"
  },
  "language_info": {
   "codemirror_mode": {
    "name": "ipython",
    "version": 3
   },
   "file_extension": ".py",
   "mimetype": "text/x-python",
   "name": "python",
   "nbconvert_exporter": "python",
   "pygments_lexer": "ipython3",
   "version": "3.6.3"
  }
 },
 "nbformat": 4,
 "nbformat_minor": 2
}
