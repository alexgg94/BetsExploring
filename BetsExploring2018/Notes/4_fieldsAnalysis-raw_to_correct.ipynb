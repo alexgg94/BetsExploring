{
 "cells": [
  {
   "cell_type": "markdown",
   "metadata": {},
   "source": [
    "# Data Mining project\n",
    "## 4_fieldsAnalysis-raw_to_correct\n",
    "\n",
    "Analysis of data type of fields in DataSet"
   ]
  },
  {
   "cell_type": "code",
   "execution_count": 1,
   "metadata": {
    "collapsed": true
   },
   "outputs": [],
   "source": [
    "import numpy as np\n",
    "import pandas as pd\n",
    "from colorama import Fore"
   ]
  },
  {
   "cell_type": "code",
   "execution_count": 2,
   "metadata": {
    "collapsed": true
   },
   "outputs": [],
   "source": [
    "pathori = \"../Data/Raw/Main/\"\n",
    "pathtemp = \"../Data/Interim/\"\n",
    "pathdest = \"../Data/Processed/\"\n",
    "filetemp = \"main_competitions.csv\""
   ]
  },
  {
   "cell_type": "code",
   "execution_count": 3,
   "metadata": {
    "collapsed": true
   },
   "outputs": [],
   "source": [
    "# Open dataset\n",
    "url = pathtemp + filetemp\n",
    "parse_dates=[\"Date\"]\n",
    "ds = pd.read_csv(url, parse_dates=parse_dates, index_col=False)"
   ]
  },
  {
   "cell_type": "code",
   "execution_count": 4,
   "metadata": {},
   "outputs": [
    {
     "data": {
      "text/plain": [
       "(105503, 20)"
      ]
     },
     "execution_count": 4,
     "metadata": {},
     "output_type": "execute_result"
    }
   ],
   "source": [
    "ds.shape"
   ]
  },
  {
   "cell_type": "code",
   "execution_count": 5,
   "metadata": {},
   "outputs": [
    {
     "data": {
      "text/plain": [
       "Index(['Country', 'Competition', 'Season', 'Div', 'Date', 'HomeTeam',\n",
       "       'AwayTeam', 'FTR', 'WHH', 'WHD', 'WHA', 'SBH', 'SBD', 'SBA', 'IWH',\n",
       "       'IWD', 'IWA', 'GBH', 'GBD', 'GBA'],\n",
       "      dtype='object')"
      ]
     },
     "execution_count": 5,
     "metadata": {},
     "output_type": "execute_result"
    }
   ],
   "source": [
    "ds.columns"
   ]
  },
  {
   "cell_type": "code",
   "execution_count": 6,
   "metadata": {},
   "outputs": [
    {
     "data": {
      "text/html": [
       "<div>\n",
       "<style>\n",
       "    .dataframe thead tr:only-child th {\n",
       "        text-align: right;\n",
       "    }\n",
       "\n",
       "    .dataframe thead th {\n",
       "        text-align: left;\n",
       "    }\n",
       "\n",
       "    .dataframe tbody tr th {\n",
       "        vertical-align: top;\n",
       "    }\n",
       "</style>\n",
       "<table border=\"1\" class=\"dataframe\">\n",
       "  <thead>\n",
       "    <tr style=\"text-align: right;\">\n",
       "      <th></th>\n",
       "      <th>Country</th>\n",
       "      <th>Competition</th>\n",
       "      <th>Season</th>\n",
       "      <th>Div</th>\n",
       "      <th>Date</th>\n",
       "      <th>HomeTeam</th>\n",
       "      <th>AwayTeam</th>\n",
       "      <th>FTR</th>\n",
       "      <th>WHH</th>\n",
       "      <th>WHD</th>\n",
       "      <th>WHA</th>\n",
       "      <th>SBH</th>\n",
       "      <th>SBD</th>\n",
       "      <th>SBA</th>\n",
       "      <th>IWH</th>\n",
       "      <th>IWD</th>\n",
       "      <th>IWA</th>\n",
       "      <th>GBH</th>\n",
       "      <th>GBD</th>\n",
       "      <th>GBA</th>\n",
       "    </tr>\n",
       "  </thead>\n",
       "  <tbody>\n",
       "    <tr>\n",
       "      <th>91436</th>\n",
       "      <td>Spain</td>\n",
       "      <td>Primera</td>\n",
       "      <td>2007-2008</td>\n",
       "      <td>SP1</td>\n",
       "      <td>2008-01-26</td>\n",
       "      <td>Sevilla</td>\n",
       "      <td>Osasuna</td>\n",
       "      <td>H</td>\n",
       "      <td>1.50</td>\n",
       "      <td>3.4</td>\n",
       "      <td>6.0</td>\n",
       "      <td>1.5</td>\n",
       "      <td>3.6</td>\n",
       "      <td>6.5</td>\n",
       "      <td>1.55</td>\n",
       "      <td>3.40</td>\n",
       "      <td>5.80</td>\n",
       "      <td>1.55</td>\n",
       "      <td>3.6</td>\n",
       "      <td>6.00</td>\n",
       "    </tr>\n",
       "    <tr>\n",
       "      <th>37705</th>\n",
       "      <td>England</td>\n",
       "      <td>Premier</td>\n",
       "      <td>2017-2018</td>\n",
       "      <td>E0</td>\n",
       "      <td>2017-04-11</td>\n",
       "      <td>Newcastle</td>\n",
       "      <td>Bournemouth</td>\n",
       "      <td>A</td>\n",
       "      <td>2.00</td>\n",
       "      <td>3.4</td>\n",
       "      <td>4.0</td>\n",
       "      <td>NaN</td>\n",
       "      <td>NaN</td>\n",
       "      <td>NaN</td>\n",
       "      <td>1.90</td>\n",
       "      <td>3.50</td>\n",
       "      <td>4.10</td>\n",
       "      <td>NaN</td>\n",
       "      <td>NaN</td>\n",
       "      <td>NaN</td>\n",
       "    </tr>\n",
       "    <tr>\n",
       "      <th>39961</th>\n",
       "      <td>France</td>\n",
       "      <td>Division2</td>\n",
       "      <td>2009-2010</td>\n",
       "      <td>F2</td>\n",
       "      <td>2010-07-05</td>\n",
       "      <td>Tours</td>\n",
       "      <td>Bastia</td>\n",
       "      <td>D</td>\n",
       "      <td>1.91</td>\n",
       "      <td>3.1</td>\n",
       "      <td>4.0</td>\n",
       "      <td>2.0</td>\n",
       "      <td>3.0</td>\n",
       "      <td>3.6</td>\n",
       "      <td>1.90</td>\n",
       "      <td>3.10</td>\n",
       "      <td>3.80</td>\n",
       "      <td>1.95</td>\n",
       "      <td>3.1</td>\n",
       "      <td>3.75</td>\n",
       "    </tr>\n",
       "    <tr>\n",
       "      <th>17675</th>\n",
       "      <td>England</td>\n",
       "      <td>Conference</td>\n",
       "      <td>2017-2018</td>\n",
       "      <td>EC</td>\n",
       "      <td>2017-02-09</td>\n",
       "      <td>Barrow</td>\n",
       "      <td>Boreham Wood</td>\n",
       "      <td>H</td>\n",
       "      <td>2.25</td>\n",
       "      <td>3.2</td>\n",
       "      <td>3.0</td>\n",
       "      <td>NaN</td>\n",
       "      <td>NaN</td>\n",
       "      <td>NaN</td>\n",
       "      <td>2.20</td>\n",
       "      <td>3.15</td>\n",
       "      <td>2.85</td>\n",
       "      <td>NaN</td>\n",
       "      <td>NaN</td>\n",
       "      <td>NaN</td>\n",
       "    </tr>\n",
       "    <tr>\n",
       "      <th>18691</th>\n",
       "      <td>England</td>\n",
       "      <td>League1</td>\n",
       "      <td>2005-2006</td>\n",
       "      <td>E2</td>\n",
       "      <td>2006-04-02</td>\n",
       "      <td>Brentford</td>\n",
       "      <td>Walsall</td>\n",
       "      <td>H</td>\n",
       "      <td>1.70</td>\n",
       "      <td>3.2</td>\n",
       "      <td>4.5</td>\n",
       "      <td>1.7</td>\n",
       "      <td>3.4</td>\n",
       "      <td>4.5</td>\n",
       "      <td>1.75</td>\n",
       "      <td>3.20</td>\n",
       "      <td>4.00</td>\n",
       "      <td>1.70</td>\n",
       "      <td>3.3</td>\n",
       "      <td>4.70</td>\n",
       "    </tr>\n",
       "  </tbody>\n",
       "</table>\n",
       "</div>"
      ],
      "text/plain": [
       "       Country Competition     Season  Div       Date   HomeTeam  \\\n",
       "91436    Spain     Primera  2007-2008  SP1 2008-01-26    Sevilla   \n",
       "37705  England     Premier  2017-2018   E0 2017-04-11  Newcastle   \n",
       "39961   France   Division2  2009-2010   F2 2010-07-05      Tours   \n",
       "17675  England  Conference  2017-2018   EC 2017-02-09     Barrow   \n",
       "18691  England     League1  2005-2006   E2 2006-04-02  Brentford   \n",
       "\n",
       "           AwayTeam FTR   WHH  WHD  WHA  SBH  SBD  SBA   IWH   IWD   IWA  \\\n",
       "91436       Osasuna   H  1.50  3.4  6.0  1.5  3.6  6.5  1.55  3.40  5.80   \n",
       "37705   Bournemouth   A  2.00  3.4  4.0  NaN  NaN  NaN  1.90  3.50  4.10   \n",
       "39961        Bastia   D  1.91  3.1  4.0  2.0  3.0  3.6  1.90  3.10  3.80   \n",
       "17675  Boreham Wood   H  2.25  3.2  3.0  NaN  NaN  NaN  2.20  3.15  2.85   \n",
       "18691       Walsall   H  1.70  3.2  4.5  1.7  3.4  4.5  1.75  3.20  4.00   \n",
       "\n",
       "        GBH  GBD   GBA  \n",
       "91436  1.55  3.6  6.00  \n",
       "37705   NaN  NaN   NaN  \n",
       "39961  1.95  3.1  3.75  \n",
       "17675   NaN  NaN   NaN  \n",
       "18691  1.70  3.3  4.70  "
      ]
     },
     "execution_count": 6,
     "metadata": {},
     "output_type": "execute_result"
    }
   ],
   "source": [
    "ds.sample(5)"
   ]
  },
  {
   "cell_type": "code",
   "execution_count": 7,
   "metadata": {},
   "outputs": [
    {
     "data": {
      "text/plain": [
       "Country                object\n",
       "Competition            object\n",
       "Season                 object\n",
       "Div                    object\n",
       "Date           datetime64[ns]\n",
       "HomeTeam               object\n",
       "AwayTeam               object\n",
       "FTR                    object\n",
       "WHH                   float64\n",
       "WHD                   float64\n",
       "WHA                   float64\n",
       "SBH                   float64\n",
       "SBD                   float64\n",
       "SBA                   float64\n",
       "IWH                   float64\n",
       "IWD                   float64\n",
       "IWA                   float64\n",
       "GBH                   float64\n",
       "GBD                   float64\n",
       "GBA                   float64\n",
       "dtype: object"
      ]
     },
     "execution_count": 7,
     "metadata": {},
     "output_type": "execute_result"
    }
   ],
   "source": [
    "ds.dtypes\n",
    "# All types are correct"
   ]
  },
  {
   "cell_type": "code",
   "execution_count": null,
   "metadata": {
    "collapsed": true
   },
   "outputs": [],
   "source": []
  }
 ],
 "metadata": {
  "kernelspec": {
   "display_name": "Python 3",
   "language": "python",
   "name": "python3"
  },
  "language_info": {
   "codemirror_mode": {
    "name": "ipython",
    "version": 3
   },
   "file_extension": ".py",
   "mimetype": "text/x-python",
   "name": "python",
   "nbconvert_exporter": "python",
   "pygments_lexer": "ipython3",
   "version": "3.6.3"
  }
 },
 "nbformat": 4,
 "nbformat_minor": 2
}
