{
 "cells": [
  {
   "cell_type": "markdown",
   "metadata": {},
   "source": [
    "# Data Mining project\n",
    "## 4_fieldsAnalysis-raw_to_correct\n",
    "\n",
    "Analysis of data type of fields in DataSet"
   ]
  },
  {
   "cell_type": "code",
   "execution_count": 2,
   "metadata": {
    "collapsed": true
   },
   "outputs": [],
   "source": [
    "import numpy as np\n",
    "import pandas as pd\n",
    "from colorama import Fore"
   ]
  },
  {
   "cell_type": "code",
   "execution_count": 3,
   "metadata": {
    "collapsed": true
   },
   "outputs": [],
   "source": [
    "pathori = \"../Data/Raw/Main/\"\n",
    "pathtemp = \"../Data/Interim/\"\n",
    "pathdest = \"../Data/Processed/\"\n",
    "filetemp = \"main_competitions.csv\""
   ]
  },
  {
   "cell_type": "code",
   "execution_count": 7,
   "metadata": {},
   "outputs": [],
   "source": [
    "# Open dataset\n",
    "url = pathtemp + filetemp\n",
    "parse_dates=[\"Date\"]\n",
    "ds = pd.read_csv(url, parse_dates=parse_dates, index_col=False)"
   ]
  },
  {
   "cell_type": "code",
   "execution_count": 9,
   "metadata": {},
   "outputs": [
    {
     "data": {
      "text/plain": [
       "(101888, 25)"
      ]
     },
     "execution_count": 9,
     "metadata": {},
     "output_type": "execute_result"
    }
   ],
   "source": [
    "ds.shape"
   ]
  },
  {
   "cell_type": "code",
   "execution_count": 10,
   "metadata": {},
   "outputs": [
    {
     "data": {
      "text/plain": [
       "Index(['Country', 'Competition', 'Season', 'Div', 'Date', 'HomeTeam',\n",
       "       'AwayTeam', 'WHH', 'WHD', 'WHA', 'B365H', 'B365D', 'B365A', 'SBH',\n",
       "       'SBD', 'SBA', 'IWH', 'IWD', 'IWA', 'GBH', 'GBD', 'GBA', 'LBH', 'LBD',\n",
       "       'LBA'],\n",
       "      dtype='object')"
      ]
     },
     "execution_count": 10,
     "metadata": {},
     "output_type": "execute_result"
    }
   ],
   "source": [
    "ds.columns"
   ]
  },
  {
   "cell_type": "code",
   "execution_count": 11,
   "metadata": {},
   "outputs": [
    {
     "data": {
      "text/html": [
       "<div>\n",
       "<style>\n",
       "    .dataframe thead tr:only-child th {\n",
       "        text-align: right;\n",
       "    }\n",
       "\n",
       "    .dataframe thead th {\n",
       "        text-align: left;\n",
       "    }\n",
       "\n",
       "    .dataframe tbody tr th {\n",
       "        vertical-align: top;\n",
       "    }\n",
       "</style>\n",
       "<table border=\"1\" class=\"dataframe\">\n",
       "  <thead>\n",
       "    <tr style=\"text-align: right;\">\n",
       "      <th></th>\n",
       "      <th>Country</th>\n",
       "      <th>Competition</th>\n",
       "      <th>Season</th>\n",
       "      <th>Div</th>\n",
       "      <th>Date</th>\n",
       "      <th>HomeTeam</th>\n",
       "      <th>AwayTeam</th>\n",
       "      <th>WHH</th>\n",
       "      <th>WHD</th>\n",
       "      <th>WHA</th>\n",
       "      <th>...</th>\n",
       "      <th>SBA</th>\n",
       "      <th>IWH</th>\n",
       "      <th>IWD</th>\n",
       "      <th>IWA</th>\n",
       "      <th>GBH</th>\n",
       "      <th>GBD</th>\n",
       "      <th>GBA</th>\n",
       "      <th>LBH</th>\n",
       "      <th>LBD</th>\n",
       "      <th>LBA</th>\n",
       "    </tr>\n",
       "  </thead>\n",
       "  <tbody>\n",
       "    <tr>\n",
       "      <th>39200</th>\n",
       "      <td>France</td>\n",
       "      <td>Division2</td>\n",
       "      <td>2006-2007</td>\n",
       "      <td>F2</td>\n",
       "      <td>2007-05-18</td>\n",
       "      <td>Le Havre</td>\n",
       "      <td>Niort</td>\n",
       "      <td>2.00</td>\n",
       "      <td>2.90</td>\n",
       "      <td>3.6</td>\n",
       "      <td>...</td>\n",
       "      <td>3.20</td>\n",
       "      <td>2.10</td>\n",
       "      <td>2.80</td>\n",
       "      <td>3.30</td>\n",
       "      <td>2.1</td>\n",
       "      <td>2.9</td>\n",
       "      <td>3.30</td>\n",
       "      <td>2.10</td>\n",
       "      <td>3.0</td>\n",
       "      <td>3.2</td>\n",
       "    </tr>\n",
       "    <tr>\n",
       "      <th>82991</th>\n",
       "      <td>Scotland</td>\n",
       "      <td>Division3</td>\n",
       "      <td>2015-2016</td>\n",
       "      <td>SC3</td>\n",
       "      <td>2016-02-13</td>\n",
       "      <td>Stirling</td>\n",
       "      <td>Berwick</td>\n",
       "      <td>1.83</td>\n",
       "      <td>3.75</td>\n",
       "      <td>4.0</td>\n",
       "      <td>...</td>\n",
       "      <td>NaN</td>\n",
       "      <td>1.85</td>\n",
       "      <td>3.55</td>\n",
       "      <td>3.45</td>\n",
       "      <td>NaN</td>\n",
       "      <td>NaN</td>\n",
       "      <td>NaN</td>\n",
       "      <td>1.80</td>\n",
       "      <td>3.8</td>\n",
       "      <td>3.6</td>\n",
       "    </tr>\n",
       "    <tr>\n",
       "      <th>14381</th>\n",
       "      <td>England</td>\n",
       "      <td>Conference</td>\n",
       "      <td>2010-2011</td>\n",
       "      <td>EC</td>\n",
       "      <td>2010-09-21</td>\n",
       "      <td>Forest Green</td>\n",
       "      <td>Eastbourne Borough</td>\n",
       "      <td>2.25</td>\n",
       "      <td>3.50</td>\n",
       "      <td>3.0</td>\n",
       "      <td>...</td>\n",
       "      <td>2.95</td>\n",
       "      <td>2.20</td>\n",
       "      <td>3.10</td>\n",
       "      <td>2.80</td>\n",
       "      <td>2.2</td>\n",
       "      <td>3.3</td>\n",
       "      <td>2.85</td>\n",
       "      <td>2.10</td>\n",
       "      <td>3.4</td>\n",
       "      <td>2.8</td>\n",
       "    </tr>\n",
       "    <tr>\n",
       "      <th>5296</th>\n",
       "      <td>England</td>\n",
       "      <td>Championship</td>\n",
       "      <td>2006-2007</td>\n",
       "      <td>E1</td>\n",
       "      <td>2007-03-13</td>\n",
       "      <td>Norwich</td>\n",
       "      <td>Birmingham</td>\n",
       "      <td>2.80</td>\n",
       "      <td>3.20</td>\n",
       "      <td>2.2</td>\n",
       "      <td>...</td>\n",
       "      <td>2.20</td>\n",
       "      <td>2.80</td>\n",
       "      <td>3.10</td>\n",
       "      <td>2.20</td>\n",
       "      <td>3.0</td>\n",
       "      <td>3.2</td>\n",
       "      <td>2.20</td>\n",
       "      <td>3.00</td>\n",
       "      <td>3.2</td>\n",
       "      <td>2.1</td>\n",
       "    </tr>\n",
       "    <tr>\n",
       "      <th>83994</th>\n",
       "      <td>Scotland</td>\n",
       "      <td>Premier</td>\n",
       "      <td>2007-2008</td>\n",
       "      <td>SC0</td>\n",
       "      <td>2007-11-24</td>\n",
       "      <td>Celtic</td>\n",
       "      <td>Aberdeen</td>\n",
       "      <td>1.29</td>\n",
       "      <td>4.50</td>\n",
       "      <td>8.0</td>\n",
       "      <td>...</td>\n",
       "      <td>10.00</td>\n",
       "      <td>1.27</td>\n",
       "      <td>4.30</td>\n",
       "      <td>8.50</td>\n",
       "      <td>1.3</td>\n",
       "      <td>4.6</td>\n",
       "      <td>9.00</td>\n",
       "      <td>1.25</td>\n",
       "      <td>4.5</td>\n",
       "      <td>10.0</td>\n",
       "    </tr>\n",
       "  </tbody>\n",
       "</table>\n",
       "<p>5 rows × 25 columns</p>\n",
       "</div>"
      ],
      "text/plain": [
       "        Country   Competition     Season  Div       Date      HomeTeam  \\\n",
       "39200    France     Division2  2006-2007   F2 2007-05-18      Le Havre   \n",
       "82991  Scotland     Division3  2015-2016  SC3 2016-02-13      Stirling   \n",
       "14381   England    Conference  2010-2011   EC 2010-09-21  Forest Green   \n",
       "5296    England  Championship  2006-2007   E1 2007-03-13       Norwich   \n",
       "83994  Scotland       Premier  2007-2008  SC0 2007-11-24        Celtic   \n",
       "\n",
       "                 AwayTeam   WHH   WHD  WHA  ...     SBA   IWH   IWD   IWA  \\\n",
       "39200               Niort  2.00  2.90  3.6  ...    3.20  2.10  2.80  3.30   \n",
       "82991             Berwick  1.83  3.75  4.0  ...     NaN  1.85  3.55  3.45   \n",
       "14381  Eastbourne Borough  2.25  3.50  3.0  ...    2.95  2.20  3.10  2.80   \n",
       "5296           Birmingham  2.80  3.20  2.2  ...    2.20  2.80  3.10  2.20   \n",
       "83994            Aberdeen  1.29  4.50  8.0  ...   10.00  1.27  4.30  8.50   \n",
       "\n",
       "       GBH  GBD   GBA   LBH  LBD   LBA  \n",
       "39200  2.1  2.9  3.30  2.10  3.0   3.2  \n",
       "82991  NaN  NaN   NaN  1.80  3.8   3.6  \n",
       "14381  2.2  3.3  2.85  2.10  3.4   2.8  \n",
       "5296   3.0  3.2  2.20  3.00  3.2   2.1  \n",
       "83994  1.3  4.6  9.00  1.25  4.5  10.0  \n",
       "\n",
       "[5 rows x 25 columns]"
      ]
     },
     "execution_count": 11,
     "metadata": {},
     "output_type": "execute_result"
    }
   ],
   "source": [
    "ds.sample(5)"
   ]
  },
  {
   "cell_type": "code",
   "execution_count": 12,
   "metadata": {},
   "outputs": [
    {
     "data": {
      "text/plain": [
       "Country                object\n",
       "Competition            object\n",
       "Season                 object\n",
       "Div                    object\n",
       "Date           datetime64[ns]\n",
       "HomeTeam               object\n",
       "AwayTeam               object\n",
       "WHH                   float64\n",
       "WHD                   float64\n",
       "WHA                   float64\n",
       "B365H                 float64\n",
       "B365D                 float64\n",
       "B365A                 float64\n",
       "SBH                   float64\n",
       "SBD                   float64\n",
       "SBA                   float64\n",
       "IWH                   float64\n",
       "IWD                   float64\n",
       "IWA                   float64\n",
       "GBH                   float64\n",
       "GBD                   float64\n",
       "GBA                   float64\n",
       "LBH                   float64\n",
       "LBD                   float64\n",
       "LBA                   float64\n",
       "dtype: object"
      ]
     },
     "execution_count": 12,
     "metadata": {},
     "output_type": "execute_result"
    }
   ],
   "source": [
    "ds.dtypes\n",
    "# All types are correct"
   ]
  },
  {
   "cell_type": "code",
   "execution_count": null,
   "metadata": {
    "collapsed": true
   },
   "outputs": [],
   "source": []
  }
 ],
 "metadata": {
  "kernelspec": {
   "display_name": "Python 3",
   "language": "python",
   "name": "python3"
  },
  "language_info": {
   "codemirror_mode": {
    "name": "ipython",
    "version": 3
   },
   "file_extension": ".py",
   "mimetype": "text/x-python",
   "name": "python",
   "nbconvert_exporter": "python",
   "pygments_lexer": "ipython3",
   "version": "3.6.3"
  }
 },
 "nbformat": 4,
 "nbformat_minor": 2
}
