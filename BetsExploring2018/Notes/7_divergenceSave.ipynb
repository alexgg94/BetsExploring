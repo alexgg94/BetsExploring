{
 "cells": [
  {
   "cell_type": "markdown",
   "metadata": {},
   "source": [
    "# Big Data Project\n",
    "## Outcome: Save Divergence\n",
    "\n",
    "In this notebook we will add 'Divergence' to dataset\n",
    "\n",
    "'Divergence' will be used to detect matches with a big difference between bet houses quotas."
   ]
  },
  {
   "cell_type": "code",
   "execution_count": 1,
   "metadata": {},
   "outputs": [
    {
     "data": {
      "text/html": [
       "\n",
       "        <div>\n",
       "            <p><b>SparkContext</b></p>\n",
       "\n",
       "            <p><a href=\"http://SERVERSERMENA.sermena.com:4040\">Spark UI</a></p>\n",
       "\n",
       "            <dl>\n",
       "              <dt>Version</dt>\n",
       "                <dd><code>v2.3.1</code></dd>\n",
       "              <dt>Master</dt>\n",
       "                <dd><code>local[*]</code></dd>\n",
       "              <dt>AppName</dt>\n",
       "                <dd><code>Bets Exploring</code></dd>\n",
       "            </dl>\n",
       "        </div>\n",
       "        "
      ],
      "text/plain": [
       "<SparkContext master=local[*] appName=Bets Exploring>"
      ]
     },
     "execution_count": 1,
     "metadata": {},
     "output_type": "execute_result"
    }
   ],
   "source": [
    "import os\n",
    "import os.path\n",
    "import sys\n",
    "import shutil\n",
    "import datetime\n",
    "import pyspark\n",
    "from pyspark.sql import SparkSession\n",
    "from pyspark.sql.types import * \n",
    "from pyspark.sql.functions import udf\n",
    "\n",
    "spark = SparkSession \\\n",
    "    .builder \\\n",
    "    .appName(\"Bets Exploring\") \\\n",
    "    .getOrCreate()\n",
    "    \n",
    "sc = spark.sparkContext\n",
    "\n",
    "sc"
   ]
  },
  {
   "cell_type": "code",
   "execution_count": 2,
   "metadata": {
    "collapsed": true
   },
   "outputs": [],
   "source": [
    "pathori = \"../Data/Raw/Main/\"\n",
    "pathtemp = \"../Data/Interim/\"\n",
    "pathdest = \"../Data/Processed/\"\n",
    "filetempmain = \"main_competitions_consistent.csv\"\n",
    "filetemprecent = \"main_competitions_consistent_recent.csv\"\n",
    "filedestmain = \"main_competitions.csv\"\n",
    "filedestrecent = \"main_competitions_recent.csv\"\n",
    "bethouses = ['B365', 'BS', 'BW', 'GB', 'IW', 'LB', 'SB', 'SJ', 'VC', 'WH']\n",
    "quotatypes = ['H','D','A']"
   ]
  },
  {
   "cell_type": "code",
   "execution_count": 3,
   "metadata": {
    "collapsed": true
   },
   "outputs": [],
   "source": [
    "# Calculate Bets Houses included in Dataframe\n",
    "\n",
    "def filterBetHouses(df, bethouses):\n",
    "    betHousesOk = []\n",
    "    for bethouse in bethouses:\n",
    "        col = bethouse + 'H'\n",
    "        if col in df.columns:\n",
    "            betHousesOk.append(bethouse)\n",
    "    \n",
    "    return betHousesOk"
   ]
  },
  {
   "cell_type": "code",
   "execution_count": 4,
   "metadata": {
    "collapsed": true
   },
   "outputs": [],
   "source": [
    "# Calculate divergence for a individual row\n",
    "\n",
    "def calcDivergence(match, bethouses):\n",
    "    resultList = ['H','D','A']\n",
    "    divergence = 0.0\n",
    "    for result in resultList:\n",
    "        min = 1000\n",
    "        max = 0\n",
    "        sum = 0\n",
    "        count = 0\n",
    "        for bethouse in bethouses:\n",
    "            col = bethouse + result\n",
    "            val = match[col]\n",
    "            if not val is None:\n",
    "                sum = sum + val\n",
    "                count = count + 1\n",
    "                if val > max:\n",
    "                    max = val\n",
    "                if val < min:\n",
    "                    min = val\n",
    "        if count > 0: \n",
    "            mean = sum/count\n",
    "            diverMax = ((max / mean) - 1) * 100\n",
    "            if diverMax > divergence:\n",
    "                divergence = diverMax\n",
    "            diverMin = (abs((min / mean) - 1)) * 100\n",
    "            if diverMin > divergence:\n",
    "                divergence = diverMin\n",
    "            \n",
    "    return divergence"
   ]
  },
  {
   "cell_type": "code",
   "execution_count": 5,
   "metadata": {
    "collapsed": true
   },
   "outputs": [],
   "source": [
    "# Converts information of the row in a list of value\n",
    "\n",
    "def reformatRow(match):\n",
    "    newRow = []\n",
    "    for col in match[0]:\n",
    "        newRow.append(col)\n",
    "    newRow.append(match[1])\n",
    "    return newRow"
   ]
  },
  {
   "cell_type": "code",
   "execution_count": 6,
   "metadata": {
    "collapsed": true
   },
   "outputs": [],
   "source": [
    "# Create a new Dataframe with RDD info adding 'Divergence' in last column\n",
    "\n",
    "def reformatRDD(rdd):\n",
    "    # Convert rows in lists\n",
    "    rddnew = rdd.map(lambda match: reformatRow(match))\n",
    "    \n",
    "    return rddnew"
   ]
  },
  {
   "cell_type": "code",
   "execution_count": 7,
   "metadata": {
    "collapsed": true
   },
   "outputs": [],
   "source": [
    "def createDataFrame(rdd, schemaIni):\n",
    "    # Obtain column names\n",
    "#    df.withColumn('Divergence')\n",
    "#    columns = df.columns\n",
    "#    columns.append('Divergence')\n",
    "#    print (columns)\n",
    "    \n",
    "    # Obtains schema of filds\n",
    "    fields = [field for field in schemaIni]\n",
    "    fields.append(StructField('Divergence',DoubleType(), True))\n",
    "    schema = StructType(fields)\n",
    "#    print (schema)\n",
    "    \n",
    "    # Create the new Dataframe\n",
    "    dfnew = spark.createDataFrame(rdd, schema)\n",
    "#    print (dfnew.show(2))\n",
    "    \n",
    "    return dfnew"
   ]
  },
  {
   "cell_type": "code",
   "execution_count": 8,
   "metadata": {
    "collapsed": true
   },
   "outputs": [],
   "source": [
    "# Save a Dataframe to a CSV merging possible partition files\n",
    "\n",
    "def saveDFtoCSV(df, pathdest, filedest):\n",
    "    \n",
    "    path = pathdest + \"temp/\"\n",
    "    if os.path.exists(path):\n",
    "        shutil.rmtree(path)\n",
    "        \n",
    "    df.write.save(path, format=\"csv\", header=\"true\")\n",
    "\n",
    "    urldest = pathdest + filedest\n",
    "    if os.path.exists(urldest):\n",
    "        os.remove(urldest)\n",
    "        \n",
    "    for file in os.listdir(path):\n",
    "        if file.endswith(\".csv\"):\n",
    "            print (file)\n",
    "            os.system(\"cat \" + path + file + \" >> \" + urldest)"
   ]
  },
  {
   "cell_type": "code",
   "execution_count": 10,
   "metadata": {
    "collapsed": true
   },
   "outputs": [],
   "source": [
    "# Open a dataset, calculate divergence for all rows save result\n",
    "\n",
    "def calcAndSaveDivergence(pathori, fileori, pathdest, filedest):\n",
    "    # Open dataset\n",
    "    df = spark.read.csv(path = pathori + fileori, header = True, inferSchema = True)\n",
    "    df = df.withColumn(\"Date\", df[\"Date\"].cast(\"date\"))\n",
    "    print (\"Rows   :\", df.count())\n",
    "    df.show(2)\n",
    "    df.printSchema()\n",
    "    \n",
    "    # Map divergence\n",
    "    bethousesok = filterBetHouses(df, bethouses)\n",
    "    print (\"Bet Houses:\", bethousesok)\n",
    "\n",
    "    rdddiver = df.rdd.map(lambda match: (match, calcDivergence(match, bethousesok)))\n",
    "    print (\"\\n RDD with calculated divergence:\")\n",
    "    display (rdddiver.take(2))\n",
    "\n",
    "    print (\"RDD adding divergence as last column:\")\n",
    "    rddnew = reformatRDD(rdddiver)\n",
    "    print (rddnew.take(2))\n",
    "\n",
    "    print (\"\\nResulting Dataframe\")\n",
    "    dfdiver = createDataFrame(rddnew, df.schema)\n",
    "    dfdiver.show(2)\n",
    "\n",
    "    print (\"Save Dataframe as CSV\")\n",
    "    saveDFtoCSV(dfdiver, pathdest, filedest)\n",
    "    print (\"Created file:\", pathdest + filedest)    "
   ]
  },
  {
   "cell_type": "code",
   "execution_count": 11,
   "metadata": {},
   "outputs": [
    {
     "name": "stdout",
     "output_type": "stream",
     "text": [
      "Rows   : 11374\n",
      "+-------+-------------+---------+---+----------+---------+----------+---+-----+-----+-----+----+---+----+---+---+---+----+---+----+----+---+----+----+----+----+\n",
      "|Country|  Competition|   Season|Div|      Date| HomeTeam|  AwayTeam|FTR|B365H|B365D|B365A| BWH|BWD| BWA|IWH|IWD|IWA| LBH|LBD| LBA| VCH|VCD| VCA| WHH| WHD| WHA|\n",
      "+-------+-------------+---------+---+----------+---------+----------+---+-----+-----+-----+----+---+----+---+---+---+----+---+----+----+---+----+----+----+----+\n",
      "|Belgium|JupilerLeague|2017-2018| B1|2017-07-28|  Antwerp|Anderlecht|  D| 5.75|  3.8|  1.6| 5.0|4.0|1.67|4.7|3.6|1.7| 5.2|3.7|1.61| 5.5|3.9|1.62|4.75|3.75|1.67|\n",
      "|Belgium|JupilerLeague|2017-2018| B1|2017-07-29|Charleroi|  Kortrijk|  H| 1.62| 3.75|  5.5|1.67|3.7| 5.5|1.6|3.7|5.4|1.61|3.6| 5.2|1.65|3.8|5.25|1.65|3.75| 4.8|\n",
      "+-------+-------------+---------+---+----------+---------+----------+---+-----+-----+-----+----+---+----+---+---+---+----+---+----+----+---+----+----+----+----+\n",
      "only showing top 2 rows\n",
      "\n",
      "root\n",
      " |-- Country: string (nullable = true)\n",
      " |-- Competition: string (nullable = true)\n",
      " |-- Season: string (nullable = true)\n",
      " |-- Div: string (nullable = true)\n",
      " |-- Date: date (nullable = true)\n",
      " |-- HomeTeam: string (nullable = true)\n",
      " |-- AwayTeam: string (nullable = true)\n",
      " |-- FTR: string (nullable = true)\n",
      " |-- B365H: double (nullable = true)\n",
      " |-- B365D: double (nullable = true)\n",
      " |-- B365A: double (nullable = true)\n",
      " |-- BWH: double (nullable = true)\n",
      " |-- BWD: double (nullable = true)\n",
      " |-- BWA: double (nullable = true)\n",
      " |-- IWH: double (nullable = true)\n",
      " |-- IWD: double (nullable = true)\n",
      " |-- IWA: double (nullable = true)\n",
      " |-- LBH: double (nullable = true)\n",
      " |-- LBD: double (nullable = true)\n",
      " |-- LBA: double (nullable = true)\n",
      " |-- VCH: double (nullable = true)\n",
      " |-- VCD: double (nullable = true)\n",
      " |-- VCA: double (nullable = true)\n",
      " |-- WHH: double (nullable = true)\n",
      " |-- WHD: double (nullable = true)\n",
      " |-- WHA: double (nullable = true)\n",
      "\n",
      "Bet Houses: ['B365', 'BW', 'IW', 'LB', 'VC', 'WH']\n",
      "\n",
      " RDD with calculated divergence:\n"
     ]
    },
    {
     "data": {
      "text/plain": [
       "[(Row(Country='Belgium', Competition='JupilerLeague', Season='2017-2018', Div='B1', Date=datetime.date(2017, 7, 28), HomeTeam='Antwerp', AwayTeam='Anderlecht', FTR='D', B365H=5.75, B365D=3.8, B365A=1.6, BWH=5.0, BWD=4.0, BWA=1.67, IWH=4.7, IWD=3.6, IWA=1.7, LBH=5.2, LBD=3.7, LBA=1.61, VCH=5.5, VCD=3.9, VCA=1.62, WHH=4.75, WHD=3.75, WHA=1.67),\n",
       "  11.65048543689322),\n",
       " (Row(Country='Belgium', Competition='JupilerLeague', Season='2017-2018', Div='B1', Date=datetime.date(2017, 7, 29), HomeTeam='Charleroi', AwayTeam='Kortrijk', FTR='H', B365H=1.62, B365D=3.75, B365A=5.5, BWH=1.67, BWD=3.7, BWA=5.5, IWH=1.6, IWD=3.7, IWA=5.4, LBH=1.61, LBD=3.6, LBA=5.2, VCH=1.65, VCD=3.8, VCA=5.25, WHH=1.65, WHD=3.75, WHA=4.8),\n",
       "  9.004739336492884)]"
      ]
     },
     "metadata": {},
     "output_type": "display_data"
    },
    {
     "name": "stdout",
     "output_type": "stream",
     "text": [
      "RDD adding divergence as last column:\n",
      "[['Belgium', 'JupilerLeague', '2017-2018', 'B1', datetime.date(2017, 7, 28), 'Antwerp', 'Anderlecht', 'D', 5.75, 3.8, 1.6, 5.0, 4.0, 1.67, 4.7, 3.6, 1.7, 5.2, 3.7, 1.61, 5.5, 3.9, 1.62, 4.75, 3.75, 1.67, 11.65048543689322], ['Belgium', 'JupilerLeague', '2017-2018', 'B1', datetime.date(2017, 7, 29), 'Charleroi', 'Kortrijk', 'H', 1.62, 3.75, 5.5, 1.67, 3.7, 5.5, 1.6, 3.7, 5.4, 1.61, 3.6, 5.2, 1.65, 3.8, 5.25, 1.65, 3.75, 4.8, 9.004739336492884]]\n",
      "\n",
      "Resulting Dataframe\n",
      "+-------+-------------+---------+---+----------+---------+----------+---+-----+-----+-----+----+---+----+---+---+---+----+---+----+----+---+----+----+----+----+-----------------+\n",
      "|Country|  Competition|   Season|Div|      Date| HomeTeam|  AwayTeam|FTR|B365H|B365D|B365A| BWH|BWD| BWA|IWH|IWD|IWA| LBH|LBD| LBA| VCH|VCD| VCA| WHH| WHD| WHA|       Divergence|\n",
      "+-------+-------------+---------+---+----------+---------+----------+---+-----+-----+-----+----+---+----+---+---+---+----+---+----+----+---+----+----+----+----+-----------------+\n",
      "|Belgium|JupilerLeague|2017-2018| B1|2017-07-28|  Antwerp|Anderlecht|  D| 5.75|  3.8|  1.6| 5.0|4.0|1.67|4.7|3.6|1.7| 5.2|3.7|1.61| 5.5|3.9|1.62|4.75|3.75|1.67|11.65048543689322|\n",
      "|Belgium|JupilerLeague|2017-2018| B1|2017-07-29|Charleroi|  Kortrijk|  H| 1.62| 3.75|  5.5|1.67|3.7| 5.5|1.6|3.7|5.4|1.61|3.6| 5.2|1.65|3.8|5.25|1.65|3.75| 4.8|9.004739336492884|\n",
      "+-------+-------------+---------+---+----------+---------+----------+---+-----+-----+-----+----+---+----+---+---+---+----+---+----+----+---+----+----+----+----+-----------------+\n",
      "only showing top 2 rows\n",
      "\n",
      "Save Dataframe as CSV\n",
      "part-00000-ea22e7de-fa00-4208-90a2-f2a06a20a002-c000.csv\n",
      "Created file: ../Data/Processed/main_competitions_recent.csv\n"
     ]
    }
   ],
   "source": [
    "# Calculating divergence to recent matches dataset\n",
    "\n",
    "calcAndSaveDivergence(pathtemp, filetemprecent, pathdest, filedestrecent)"
   ]
  },
  {
   "cell_type": "code",
   "execution_count": 12,
   "metadata": {},
   "outputs": [
    {
     "name": "stdout",
     "output_type": "stream",
     "text": [
      "Rows   : 106583\n",
      "+-------+-------------+---------+---+----------+-----------+--------+---+-----+-----+-----+----+----+----+----+----+----+---+---+----+----+---+---+----+----+----+----+----+----+----+----+----+----+----+----+----+----+----+\n",
      "|Country|  Competition|   Season|Div|      Date|   HomeTeam|AwayTeam|FTR|B365H|B365D|B365A| BSH| BSD| BSA| BWH| BWD| BWA|GBH|GBD| GBA| IWH|IWD|IWA| LBH| LBD| LBA| SBH| SBD| SBA| SJH| SJD| SJA| VCH| VCD| VCA| WHH| WHD| WHA|\n",
      "+-------+-------------+---------+---+----------+-----------+--------+---+-----+-----+-----+----+----+----+----+----+----+---+---+----+----+---+---+----+----+----+----+----+----+----+----+----+----+----+----+----+----+----+\n",
      "|Belgium|JupilerLeague|2003-2004| B1|2003-08-08|Club Brugge|    Genk|  H|  1.4| 3.75|  7.0|null|null|null|null|null|null|1.4|3.8|6.85|1.45|3.8|5.4|null|null|null|1.44|3.75| 6.5|null|null|null|null|null|null|null|null|null|\n",
      "|Belgium|JupilerLeague|2003-2004| B1|2003-09-08| Anderlecht| Antwerp|  H|1.167|  6.0| 10.0|null|null|null|null|null|null|1.2|5.5|9.25| 1.3|4.2|8.0|null|null|null| 1.2| 5.5|10.0|null|null|null|null|null|null|1.22| 5.0| 9.5|\n",
      "+-------+-------------+---------+---+----------+-----------+--------+---+-----+-----+-----+----+----+----+----+----+----+---+---+----+----+---+---+----+----+----+----+----+----+----+----+----+----+----+----+----+----+----+\n",
      "only showing top 2 rows\n",
      "\n",
      "root\n",
      " |-- Country: string (nullable = true)\n",
      " |-- Competition: string (nullable = true)\n",
      " |-- Season: string (nullable = true)\n",
      " |-- Div: string (nullable = true)\n",
      " |-- Date: date (nullable = true)\n",
      " |-- HomeTeam: string (nullable = true)\n",
      " |-- AwayTeam: string (nullable = true)\n",
      " |-- FTR: string (nullable = true)\n",
      " |-- B365H: double (nullable = true)\n",
      " |-- B365D: double (nullable = true)\n",
      " |-- B365A: double (nullable = true)\n",
      " |-- BSH: double (nullable = true)\n",
      " |-- BSD: double (nullable = true)\n",
      " |-- BSA: double (nullable = true)\n",
      " |-- BWH: double (nullable = true)\n",
      " |-- BWD: double (nullable = true)\n",
      " |-- BWA: double (nullable = true)\n",
      " |-- GBH: double (nullable = true)\n",
      " |-- GBD: double (nullable = true)\n",
      " |-- GBA: double (nullable = true)\n",
      " |-- IWH: double (nullable = true)\n",
      " |-- IWD: double (nullable = true)\n",
      " |-- IWA: double (nullable = true)\n",
      " |-- LBH: double (nullable = true)\n",
      " |-- LBD: double (nullable = true)\n",
      " |-- LBA: double (nullable = true)\n",
      " |-- SBH: double (nullable = true)\n",
      " |-- SBD: double (nullable = true)\n",
      " |-- SBA: double (nullable = true)\n",
      " |-- SJH: double (nullable = true)\n",
      " |-- SJD: double (nullable = true)\n",
      " |-- SJA: double (nullable = true)\n",
      " |-- VCH: double (nullable = true)\n",
      " |-- VCD: double (nullable = true)\n",
      " |-- VCA: double (nullable = true)\n",
      " |-- WHH: double (nullable = true)\n",
      " |-- WHD: double (nullable = true)\n",
      " |-- WHA: double (nullable = true)\n",
      "\n",
      "Bet Houses: ['B365', 'BS', 'BW', 'GB', 'IW', 'LB', 'SB', 'SJ', 'VC', 'WH']\n",
      "\n",
      " RDD with calculated divergence:\n"
     ]
    },
    {
     "data": {
      "text/plain": [
       "[(Row(Country='Belgium', Competition='JupilerLeague', Season='2003-2004', Div='B1', Date=datetime.date(2003, 8, 8), HomeTeam='Club Brugge', AwayTeam='Genk', FTR='H', B365H=1.4, B365D=3.75, B365A=7.0, BSH=None, BSD=None, BSA=None, BWH=None, BWD=None, BWA=None, GBH=1.4, GBD=3.8, GBA=6.85, IWH=1.45, IWD=3.8, IWA=5.4, LBH=None, LBD=None, LBA=None, SBH=1.44, SBD=3.75, SBA=6.5, SJH=None, SJD=None, SJA=None, VCH=None, VCD=None, VCA=None, WHH=None, WHD=None, WHA=None),\n",
       "  16.11650485436893),\n",
       " (Row(Country='Belgium', Competition='JupilerLeague', Season='2003-2004', Div='B1', Date=datetime.date(2003, 9, 8), HomeTeam='Anderlecht', AwayTeam='Antwerp', FTR='H', B365H=1.167, B365D=6.0, B365A=10.0, BSH=None, BSD=None, BSA=None, BWH=None, BWD=None, BWA=None, GBH=1.2, GBD=5.5, GBA=9.25, IWH=1.3, IWD=4.2, IWA=8.0, LBH=None, LBD=None, LBA=None, SBH=1.2, SBD=5.5, SBA=10.0, SJH=None, SJD=None, SJA=None, VCH=None, VCD=None, VCA=None, WHH=1.22, WHD=5.0, WHA=9.5),\n",
       "  19.84732824427481)]"
      ]
     },
     "metadata": {},
     "output_type": "display_data"
    },
    {
     "name": "stdout",
     "output_type": "stream",
     "text": [
      "RDD adding divergence as last column:\n",
      "[['Belgium', 'JupilerLeague', '2003-2004', 'B1', datetime.date(2003, 8, 8), 'Club Brugge', 'Genk', 'H', 1.4, 3.75, 7.0, None, None, None, None, None, None, 1.4, 3.8, 6.85, 1.45, 3.8, 5.4, None, None, None, 1.44, 3.75, 6.5, None, None, None, None, None, None, None, None, None, 16.11650485436893], ['Belgium', 'JupilerLeague', '2003-2004', 'B1', datetime.date(2003, 9, 8), 'Anderlecht', 'Antwerp', 'H', 1.167, 6.0, 10.0, None, None, None, None, None, None, 1.2, 5.5, 9.25, 1.3, 4.2, 8.0, None, None, None, 1.2, 5.5, 10.0, None, None, None, None, None, None, 1.22, 5.0, 9.5, 19.84732824427481]]\n",
      "\n",
      "Resulting Dataframe\n",
      "+-------+-------------+---------+---+----------+-----------+--------+---+-----+-----+-----+----+----+----+----+----+----+---+---+----+----+---+---+----+----+----+----+----+----+----+----+----+----+----+----+----+----+----+-----------------+\n",
      "|Country|  Competition|   Season|Div|      Date|   HomeTeam|AwayTeam|FTR|B365H|B365D|B365A| BSH| BSD| BSA| BWH| BWD| BWA|GBH|GBD| GBA| IWH|IWD|IWA| LBH| LBD| LBA| SBH| SBD| SBA| SJH| SJD| SJA| VCH| VCD| VCA| WHH| WHD| WHA|       Divergence|\n",
      "+-------+-------------+---------+---+----------+-----------+--------+---+-----+-----+-----+----+----+----+----+----+----+---+---+----+----+---+---+----+----+----+----+----+----+----+----+----+----+----+----+----+----+----+-----------------+\n",
      "|Belgium|JupilerLeague|2003-2004| B1|2003-08-08|Club Brugge|    Genk|  H|  1.4| 3.75|  7.0|null|null|null|null|null|null|1.4|3.8|6.85|1.45|3.8|5.4|null|null|null|1.44|3.75| 6.5|null|null|null|null|null|null|null|null|null|16.11650485436893|\n",
      "|Belgium|JupilerLeague|2003-2004| B1|2003-09-08| Anderlecht| Antwerp|  H|1.167|  6.0| 10.0|null|null|null|null|null|null|1.2|5.5|9.25| 1.3|4.2|8.0|null|null|null| 1.2| 5.5|10.0|null|null|null|null|null|null|1.22| 5.0| 9.5|19.84732824427481|\n",
      "+-------+-------------+---------+---+----------+-----------+--------+---+-----+-----+-----+----+----+----+----+----+----+---+---+----+----+---+---+----+----+----+----+----+----+----+----+----+----+----+----+----+----+----+-----------------+\n",
      "only showing top 2 rows\n",
      "\n",
      "Save Dataframe as CSV\n",
      "part-00000-980bee2a-6157-4616-8ae8-6878fcb9f066-c000.csv\n",
      "part-00001-980bee2a-6157-4616-8ae8-6878fcb9f066-c000.csv\n",
      "part-00002-980bee2a-6157-4616-8ae8-6878fcb9f066-c000.csv\n",
      "part-00003-980bee2a-6157-4616-8ae8-6878fcb9f066-c000.csv\n",
      "Created file: ../Data/Processed/main_competitions.csv\n"
     ]
    }
   ],
   "source": [
    "# Calculating divergence to the complete dataset\n",
    "\n",
    "calcAndSaveDivergence(pathtemp, filetempmain, pathdest, filedestmain)"
   ]
  },
  {
   "cell_type": "code",
   "execution_count": null,
   "metadata": {
    "collapsed": true
   },
   "outputs": [],
   "source": []
  }
 ],
 "metadata": {
  "kernelspec": {
   "display_name": "Python 3",
   "language": "python",
   "name": "python3"
  },
  "language_info": {
   "codemirror_mode": {
    "name": "ipython",
    "version": 3
   },
   "file_extension": ".py",
   "mimetype": "text/x-python",
   "name": "python",
   "nbconvert_exporter": "python",
   "pygments_lexer": "ipython3",
   "version": "3.6.3"
  }
 },
 "nbformat": 4,
 "nbformat_minor": 2
}
