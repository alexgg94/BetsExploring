{
 "cells": [
  {
   "cell_type": "code",
   "execution_count": 1,
   "metadata": {
    "collapsed": true
   },
   "outputs": [],
   "source": [
    "# Unifying and cleaning data original information\n",
    "\n",
    "# In this file we well create a new file with all files information,\n",
    "# cleaned of bad information and selecting needed columns"
   ]
  },
  {
   "cell_type": "code",
   "execution_count": 2,
   "metadata": {
    "collapsed": true
   },
   "outputs": [],
   "source": [
    "import json\n",
    "import os.path\n",
    "import sys\n",
    "import csv\n",
    "import numpy as np\n",
    "import pandas as pd\n",
    "from colorama import Fore"
   ]
  },
  {
   "cell_type": "code",
   "execution_count": 3,
   "metadata": {
    "collapsed": true
   },
   "outputs": [],
   "source": [
    "pathori = \"../Data/Raw/Main/\"\n",
    "pathtemp = \"../Data/Interim/\"\n",
    "pathdest = \"../Data/Processed/\"\n",
    "filetemp = \"main_competitions.csv\""
   ]
  },
  {
   "cell_type": "code",
   "execution_count": 4,
   "metadata": {
    "collapsed": true
   },
   "outputs": [],
   "source": [
    "colsdest = [\"Country\", \"Competition\", \"Season\",\n",
    "            \"Div\", \"Date\", \"HomeTeam\", \"AwayTeam\", \"FTR\",\n",
    "            \"WHH\", \"WHD\", \"WHA\",\n",
    "            \"SBH\",\"SBD\",\"SBA\",\n",
    "            \"IWH\",\"IWD\",\"IWA\",\n",
    "            \"GBH\",\"GBD\",\"GBA\"]      "
   ]
  },
  {
   "cell_type": "code",
   "execution_count": 5,
   "metadata": {},
   "outputs": [
    {
     "name": "stdout",
     "output_type": "stream",
     "text": [
      "\u001b[31mIncorrect file format: ../Data/Raw/Main/Belgium/JupilerLeague/0405.csv\n",
      "\u001b[31mIncorrect file format: ../Data/Raw/Main/England/Championship/0405.csv\n",
      "\u001b[31mIncorrect file format: ../Data/Raw/Main/England/Conference/0304.csv\n",
      "\u001b[31mIncorrect file format: ../Data/Raw/Main/England/Conference/0405.csv\n",
      "\u001b[31mIncorrect file format: ../Data/Raw/Main/England/Conference/1617.csv\n",
      "\u001b[31mIncorrect file format: ../Data/Raw/Main/England/League1/0304.csv\n",
      "\u001b[31mIncorrect file format: ../Data/Raw/Main/England/League1/0405.csv\n",
      "\u001b[31mIncorrect file format: ../Data/Raw/Main/England/League2/0304.csv\n",
      "\u001b[31mIncorrect file format: ../Data/Raw/Main/England/League2/0405.csv\n",
      "\u001b[31mIncorrect file format: ../Data/Raw/Main/England/Premier/0304.csv\n",
      "\u001b[31mIncorrect file format: ../Data/Raw/Main/England/Premier/0405.csv\n",
      "\u001b[31mIncorrect file format: ../Data/Raw/Main/France/Division2/0304.csv\n",
      "\u001b[31mIncorrect file format: ../Data/Raw/Main/France/Division2/0708.csv\n",
      "\u001b[31mIncorrect file format: ../Data/Raw/Main/France/LeChampionnat/0304.csv\n",
      "\u001b[31mIncorrect file format: ../Data/Raw/Main/Germany/Liga1/0304.csv\n",
      "\u001b[31mIncorrect file format: ../Data/Raw/Main/Germany/Liga2/0304.csv\n",
      "\u001b[31mIncorrect file format: ../Data/Raw/Main/Germany/Liga2/0405.csv\n",
      "\u001b[31mIncorrect file format: ../Data/Raw/Main/Greece/EthnikiKatigoria/0405.csv\n",
      "\u001b[31mIncorrect file format: ../Data/Raw/Main/Italy/SerieA/0304.csv\n",
      "\u001b[31mIncorrect file format: ../Data/Raw/Main/Italy/SerieA/0405.csv\n",
      "\u001b[31mIncorrect file format: ../Data/Raw/Main/Italy/SerieB/0304.csv\n",
      "\u001b[31mIncorrect file format: ../Data/Raw/Main/Italy/SerieB/0405.csv\n",
      "\u001b[31mIncorrect file format: ../Data/Raw/Main/Netherlands/Eredivisie/0405.csv\n",
      "\u001b[31mIncorrect file format: ../Data/Raw/Main/Netherlands/Eredivisie/0708.csv\n",
      "\u001b[31mIncorrect file format: ../Data/Raw/Main/Portugal/Liga1/0304.csv\n",
      "\u001b[31mIncorrect file format: ../Data/Raw/Main/Portugal/Liga1/0708.csv\n",
      "\u001b[31mIncorrect file format: ../Data/Raw/Main/Scotland/Division1/0405.csv\n",
      "\u001b[31mIncorrect file format: ../Data/Raw/Main/Scotland/Division3/0304.csv\n",
      "\u001b[31mIncorrect file format: ../Data/Raw/Main/Scotland/Division3/0405.csv\n",
      "\u001b[31mIncorrect file format: ../Data/Raw/Main/Scotland/Premier/0304.csv\n",
      "\u001b[31mIncorrect file format: ../Data/Raw/Main/Scotland/Premier/0405.csv\n",
      "\u001b[31mIncorrect file format: ../Data/Raw/Main/Spain/Primera/0405.csv\n",
      "\u001b[31mIncorrect file format: ../Data/Raw/Main/Spain/Segunda/0304.csv\n",
      "\u001b[31mIncorrect file format: ../Data/Raw/Main/Spain/Segunda/0405.csv\n",
      "\u001b[31mIncorrect file format: ../Data/Raw/Main/Spain/Segunda/0708.csv\n",
      "\u001b[31mIncorrect file format: ../Data/Raw/Main/Turkey/FutbolLigi1/0607.csv\n"
     ]
    }
   ],
   "source": [
    "if os.path.exists(pathtemp + filetemp):\n",
    "    os.remove(pathtemp + filetemp)\n",
    "    \n",
    "season_list = []\n",
    "for folder in os.listdir(pathori):\n",
    "    country = folder\n",
    "    for subfolder in os.listdir(pathori+folder):\n",
    "        competition = subfolder\n",
    "        for file in os.listdir(pathori+'/'+folder+'/'+subfolder):\n",
    "            season_short = file.split(\".\")[0]\n",
    "            season = \"20\" + season_short[0:2] + \"-\" + \"20\" + season_short[2:4]\n",
    "        \n",
    "            try:\n",
    "                # Read file\n",
    "                url=pathori + folder + \"/\" + subfolder + \"/\" + file\n",
    "                #print (Fore.BLACK + url)\n",
    "                \n",
    "                parse_dates=[\"Date\"]\n",
    "                ds = pd.read_csv(url, parse_dates=parse_dates, index_col=False)\n",
    "                #print (\"  File loaded\")\n",
    "                \n",
    "                # Add key columns\n",
    "                ds[\"Country\"] = country\n",
    "                ds[\"Competition\"] = competition\n",
    "                ds[\"Season\"] = season\n",
    "                #print (\"  Add key columns\")\n",
    "                \n",
    "                # Add new columns\n",
    "                colsori = list(ds)\n",
    "                for coldest in colsdest:\n",
    "                    if coldest not in colsori:\n",
    "                        #print (\"Column to add: \" + coldest)\n",
    "                        ds[coldest] = \"\"    \n",
    "                #print (\"  Add new columns\")\n",
    "                \n",
    "                # Remove not desired columns\n",
    "                ds_cols = ds[colsdest]    \n",
    "                #print (\"  Remove not desired columns\")\n",
    "                #print (\"  Pathtemp: \", pathtemp, filetemp)\n",
    "\n",
    "                # Save file\n",
    "                if not os.path.isfile(pathtemp + filetemp):\n",
    "                    #print (\"  Pathtemp (new): \", pathtemp, filetemp)\n",
    "                    ds_cols.to_csv(pathtemp + filetemp, header=colsdest, index=None)\n",
    "                else:\n",
    "                    #print (\"  Pathtemp: \", pathtemp, filetemp)\n",
    "                    with open(pathtemp + filetemp, 'a') as output_file:\n",
    "                        ds_cols.to_csv(output_file, header=None, index=None)\n",
    "            except:\n",
    "                print (Fore.RED + \"Incorrect file format: \" + url)"
   ]
  },
  {
   "cell_type": "code",
   "execution_count": 6,
   "metadata": {},
   "outputs": [
    {
     "data": {
      "text/plain": [
       "Index(['Country', 'Competition', 'Season', 'Div', 'Date', 'HomeTeam',\n",
       "       'AwayTeam', 'FTR', 'WHH', 'WHD', 'WHA', 'SBH', 'SBD', 'SBA', 'IWH',\n",
       "       'IWD', 'IWA', 'GBH', 'GBD', 'GBA'],\n",
       "      dtype='object')"
      ]
     },
     "execution_count": 6,
     "metadata": {},
     "output_type": "execute_result"
    }
   ],
   "source": [
    "ds_cols.columns"
   ]
  },
  {
   "cell_type": "code",
   "execution_count": null,
   "metadata": {
    "collapsed": true
   },
   "outputs": [],
   "source": []
  }
 ],
 "metadata": {
  "kernelspec": {
   "display_name": "Python 3",
   "language": "python",
   "name": "python3"
  },
  "language_info": {
   "codemirror_mode": {
    "name": "ipython",
    "version": 3
   },
   "file_extension": ".py",
   "mimetype": "text/x-python",
   "name": "python",
   "nbconvert_exporter": "python",
   "pygments_lexer": "ipython3",
   "version": "3.6.3"
  }
 },
 "nbformat": 4,
 "nbformat_minor": 2
}
